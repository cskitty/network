{
 "cells": [
  {
   "cell_type": "code",
   "execution_count": 205,
   "metadata": {},
   "outputs": [],
   "source": [
    "import re\n",
    "import csv\n",
    "import networkx as nx\n",
    "import matplotlib.pyplot as plt\n",
    "import pandas as pd\n",
    "from scipy.stats import spearmanr\n",
    "import os\n",
    "\n",
    "files = os.listdir(\"Data/GoT_dyn_ts10\")\n",
    "\n",
    "def get_active_nodes(G):\n",
    "    activenodes = set()\n",
    "    for edge in G.edges(data=True):\n",
    "        #print(edge)\n",
    "        activenodes.add(edge[0])\n",
    "        activenodes.add(edge[1])\n",
    "    return activenodes\n",
    "\n",
    "def episode(s, e, name = 'GoT_S0'):\n",
    "    if e < 10:\n",
    "        stt = name +str(s)+'E0'+str(e) \n",
    "    else:\n",
    "        stt = name +str(s)+'E'+str(e) \n",
    "    #print(stt)\n",
    "    edic = {}\n",
    "    for f in files:\n",
    "        if f.startswith(stt):\n",
    "            #en = int(f[11:14])\n",
    "            en = int(f.split('.')[0].split('_')[-1])\n",
    "            #print(f, en)\n",
    "            edic[en] = f\n",
    "    return edic\n",
    " \n",
    "def readG(f, path = 'Data/GoT_dyn_ts10/'):\n",
    "    #print(f)\n",
    "    return nx.read_graphml( path + f)\n",
    "\n",
    "def histogram(G):\n",
    "    hist = {}\n",
    "    dict = {}\n",
    "    for node in G.nodes(data=True):\n",
    "        dict[node[0]] = node[1]['label']\n",
    "        \n",
    "    #print(dict)\n",
    "    for edge in G.edges(data=True):\n",
    "        for i in range(2):\n",
    "            node = dict[edge[i]]\n",
    "            #print(node)\n",
    "            try:\n",
    "                hist[node] += 1\n",
    "            except:\n",
    "                hist[node] = 1\n",
    "    return hist\n",
    "\n",
    "def aggregate_density(s, e, name = 'GoT_S0', path = 'Data/GoT_dyn_ts10/'):\n",
    "    edic = episode(s,e, name)\n",
    "    sorted_x = sorted(edic.items(), key=lambda kv: kv[1])\n",
    "   \n",
    "    total_edges = 0\n",
    "    potential_edges = 0\n",
    "    \n",
    "    #print(sorted_x)\n",
    "    for k, v in sorted_x:\n",
    "        g = readG(v, path)\n",
    "        \n",
    "        num_actnodes = len(get_active_nodes(g))\n",
    "        num_edges = len(g.edges(data=True))\n",
    "        \n",
    "        total_edges += num_edges\n",
    "        potential_edges += num_actnodes*(num_actnodes-1)/2\n",
    "       \n",
    "    return total_edges/potential_edges\n",
    "\n",
    "# TODO: remove the nodes with small strength, re-calculate density again\n",
    "# density = sum(edge weights) / (num_10s * active_nodes * (active_nodes - 1) / 2)\n",
    "def weighted_density(s, e, name = 'GoT_S0', path = 'Data/GoT_dyn_ts10/'):\n",
    "    edic = episode(s,e, name)\n",
    "    sorted_x = sorted(edic.items(), key=lambda kv: kv[1])\n",
    "   \n",
    "    total_edges = 0\n",
    "    num_episodes = len(sorted_x)\n",
    "    potential_edges = 0\n",
    "    \n",
    "    active_nodes = set()\n",
    "    \n",
    "    #print(sorted_x)\n",
    "    for k, v in sorted_x:\n",
    "        g = readG(v, path)\n",
    "        \n",
    "        node_in_one_episode = get_active_nodes(g)\n",
    "        active_nodes = active_nodes.union(node_in_one_episode)\n",
    "        num_edges = len(g.edges(data=True))\n",
    "        total_edges += num_edges\n",
    "    \n",
    "    #print(len(active_nodes))\n",
    "    num_actnodes = len(active_nodes)\n",
    "    potential_edges = num_episodes * num_actnodes*(num_actnodes-1)/2\n",
    "       \n",
    "    return total_edges/potential_edges\n",
    "\n",
    "def average_density(s, e, name = 'GoT_S0', path = 'Data/GoT_dyn_ts10/'):\n",
    "    edic = episode(s,e,name)\n",
    "    sorted_x = sorted(edic.items(), key=lambda kv: kv[1])\n",
    "    #print(sorted_x)\n",
    "    dns = []\n",
    "    #print(sorted_x)\n",
    "    for k, v in sorted_x:\n",
    "        g = readG(v, path)\n",
    "        #h = histogram(g)\n",
    "        #print(v)\n",
    "        dns.append(nx.density(g))\n",
    "    return sum(dns)/len(dns)\n",
    "    \n",
    "def node_dict(g):\n",
    "    dict = {}\n",
    "    for node in g.nodes(data=True):\n",
    "        dict[node[0]] = node[1]['label']\n",
    "    return dict\n",
    "            \n",
    "def active_nodes(s, e, name = 'GoT_S0', path = 'Data/GoT_dyn_ts10/'):\n",
    "    edic = episode(s,e, name)\n",
    "    sorted_x = sorted(edic.items(), key=lambda kv: kv[1])\n",
    "    \n",
    "    act_nodes = set()\n",
    "    #print(sorted_x)\n",
    "    for k, v in sorted_x:\n",
    "        g = readG(v, path)\n",
    "        activenodes = get_active_nodes(g)\n",
    "        nodedict = node_dict(g)\n",
    "        for n in activenodes:\n",
    "            act_nodes.add(nodedict[n])\n",
    "    #print(act_nodes)\n",
    "    return act_nodes\n",
    "     \n",
    "def degree_data(g):\n",
    "    G_deg = nx.degree_histogram(g)\n",
    "    G_deg_sum = [a * b for a, b in zip(G_deg, range(0, len(G_deg)))]\n",
    "    avg_degree = sum(G_deg_sum) / g.number_of_nodes()\n",
    "    return avg_degree\n",
    "    \n",
    "def average_degree(s, e, name = 'GoT_S0', path = 'Data/GoT_dyn_ts10/'):\n",
    "    edic = episode(s,e,name)\n",
    "    sorted_x = sorted(edic.items(), key=lambda kv: kv[1])\n",
    "    \n",
    "    degrees = []\n",
    "    act_nodes = set()\n",
    "    #print(sorted_x)\n",
    "    for k, v in sorted_x:\n",
    "        g = readG(v, path)\n",
    "        avg_degree = degree_data(g)\n",
    "        degrees.append(avg_degree)\n",
    "        \n",
    "    #print(degrees)\n",
    "    return sum(degrees)/len(degrees)\n",
    "    \n",
    "def get_corr(review):\n",
    "    dict = {'Network Metrics':[],\n",
    "            'Correlation':[],\n",
    "            'pValue':[]\n",
    "           }\n",
    "\n",
    "    for col in ['Weighted_Density', 'Active_Nodes', 'Degrees', 'Strength', 'Closeness', 'Harmonic','Efficiency','Transitivity','Clusters', 'Components']:\n",
    "        corr, pval = pearsonr(review[col], review['Review'])\n",
    "        dict['Network Metrics'].append(col)\n",
    "        dict['Correlation'].append(corr)\n",
    "        dict['pValue'].append(pval)\n",
    "\n",
    "    df_corr = pd.DataFrame(dict)\n",
    "    return df_corr\n",
    "\n",
    "\n",
    "def get_corr_spearman(review):\n",
    "    dict = {'Network Metrics':[],\n",
    "            'Correlation':[],\n",
    "            'pValue':[]\n",
    "           }\n",
    " \n",
    "    for col in ['Weighted_Density', 'Active_Nodes', 'Degrees', 'Strength', 'Closeness', 'Harmonic','Efficiency','Transitivity','Clusters', 'Components']:\n",
    "        corr, pval = spearmanr(review[col], review['Review'])\n",
    "        dict['Network Metrics'].append(col)\n",
    "        dict['Correlation'].append(corr)\n",
    "        dict['pValue'].append(pval)\n",
    "\n",
    "    df_corr = pd.DataFrame(dict)\n",
    "    return df_corr\n",
    "\n",
    "\n",
    "def aggregate_graph(s, e, name , path ):\n",
    "    edic = episode(s,e,name)\n",
    "    sorted_x = sorted(edic.items(), key=lambda kv: kv[1])\n",
    "    \n",
    "    degrees = []\n",
    "    count = len(sorted_x)\n",
    "    act_nodes = set()\n",
    "    \n",
    "    newg = {}\n",
    "    #print(sorted_x)\n",
    "    max_weight = 0\n",
    "    for k, v in sorted_x:\n",
    "        g = readG(v, path)\n",
    "    \n",
    "        nd = node_dict(g)\n",
    "        for node1, node2, data in g.edges(data=True):\n",
    "            node1  = nd[node1]\n",
    "            node2  = nd[node2]\n",
    "            weight = data['weight']\n",
    "            \n",
    "            try:\n",
    "                newg[(node1, node2)] += weight\n",
    "            except:\n",
    "                newg[(node1, node2)]  = weight\n",
    "            \n",
    "            max_weight = max(max_weight, newg[(node1, node2)])\n",
    "    \n",
    "    #scale weights\n",
    "    for k in newg:\n",
    "        newg[k] = newg[k] / count\n",
    "        \n",
    "    return newg, count, max_weight/count\n",
    "        \n",
    "def nx_aggregate_graph(s, e, name , path ):\n",
    "    edic = episode(s,e,name)\n",
    "    sorted_x = sorted(edic.items(), key=lambda kv: kv[1])\n",
    "    \n",
    "    degrees = []\n",
    "    count = len(sorted_x)\n",
    "    act_nodes = set()\n",
    "    \n",
    "    newg = {}\n",
    "    #print(sorted_x)\n",
    "    max_weight = 0\n",
    "    for k, v in sorted_x:\n",
    "        g = readG(v, path)\n",
    "    \n",
    "        nd = node_dict(g)\n",
    "        for node1, node2, data in g.edges(data=True):\n",
    "            node1  = nd[node1]\n",
    "            node2  = nd[node2]\n",
    "            weight = data['weight']\n",
    "            \n",
    "            try:\n",
    "                newg[(node1, node2)] += weight\n",
    "            except:\n",
    "                newg[(node1, node2)]  = weight\n",
    "            \n",
    "            max_weight = max(max_weight, newg[(node1, node2)])\n",
    "    \n",
    "    \n",
    "    nxG = nx.Graph()\n",
    "    max_weight = max_weight/count\n",
    "    for k in newg:        \n",
    "        #remove small weight edges \n",
    "        if newg[k] / count <  max_weight * 0.05:\n",
    "            continue\n",
    "        nxG.add_edge(k[0], k[1], weight = newg[k] / count)\n",
    "        \n",
    "    newg2 = {}\n",
    "    #scale weights\n",
    "    for k in newg:\n",
    "        #remove small weight edges \n",
    "        if newg[k] / count <  max_weight * 0.05:\n",
    "            continue\n",
    "        newg2[k] = newg[k] / count\n",
    "        \n",
    "    return newg2, count, max_weight/count, nxG\n",
    "\n",
    "#print(episode_active_nodes(1,1))\n",
    "def average_data(dictData):\n",
    "    total = 0\n",
    "    cnt = 0\n",
    "    for k in dictData:\n",
    "        total += dictData[k]\n",
    "        cnt += 1\n",
    "    avg_data = total / cnt\n",
    "    \n",
    "    return avg_data\n",
    "    \n",
    "def average_strength(s, e, name = 'GoT_S0', path = 'Data/GoT_dyn_ts10/'):\n",
    "    g, count, max_weight, nxG = nx_aggregate_graph(s, e, name, path)\n",
    "    \n",
    "    strength = {}\n",
    "    sum_weight = 0\n",
    "    sum_degree = 0\n",
    "    node_list = set()\n",
    "\n",
    "    for k in g:\n",
    "        node1, node2 = k\n",
    "        v = g[k]\n",
    "        \n",
    "        sum_weight += v\n",
    "        sum_degree += 2\n",
    "        node_list.add(node1)\n",
    "        node_list.add(node2)\n",
    "    \n",
    "    \n",
    "    cnt_nodes = len(node_list)\n",
    "    \n",
    "    avg_closeness = average_data(nx.closeness_centrality(nxG))\n",
    "    avg_harmonic = average_data(nx.harmonic_centrality(nxG))\n",
    "    glb_efficiency =  nx.global_efficiency(nxG)\n",
    "    transitivity = nx.transitivity(nxG)\n",
    "    clusters = average_data(nx.clustering(nxG))\n",
    "    components = nx.number_connected_components(nxG)\n",
    " \n",
    "    return sum_weight/cnt_nodes,  sum_degree/cnt_nodes, cnt_nodes, sum_weight * 2/cnt_nodes/(cnt_nodes-1),  avg_closeness, avg_harmonic, glb_efficiency, transitivity, clusters, components\n",
    "\n",
    "    "
   ]
  },
  {
   "cell_type": "code",
   "execution_count": 188,
   "metadata": {},
   "outputs": [],
   "source": [
    "\n",
    "\n",
    "def get_df(review = 'GoT.csv', path = \"Data/GoT_dyn_ts10/\", name = 'GoT_S0', lastS = 4, lastE = 11, size = 22):\n",
    "    weighted_dens1 = []\n",
    "    weighted_dens2 = []\n",
    "    num_actnodes = []\n",
    "    agg_actnodes = []\n",
    "    average_degrees = []\n",
    "    average_strength_list = []\n",
    "    avg_closeness_centrality = []\n",
    "    avg_harmonic_centrality = []\n",
    "    global_efficiency = []\n",
    "    nt_transitivity = []\n",
    "    nt_clusters = []\n",
    "    connected_components = []\n",
    "    \n",
    "    files = os.listdir(path)\n",
    "    for S in range(1,lastS):\n",
    "        for E in range(1,lastE):\n",
    "            if review == 'GoT.csv':\n",
    "                if S == 3 and E > 2:\n",
    "                    break\n",
    "            try:\n",
    "                sth, dgr, cnt_active_nodes, density, avg_closeness, avg_harmonic, glb_efficiency, transitivity,clusters, components = average_strength(S, E,  name, path)\n",
    "                average_strength_list.append(sth)\n",
    "                agg_actnodes.append(cnt_active_nodes)\n",
    "                weighted_dens2.append(density)\n",
    "                average_degrees.append(dgr)\n",
    "                global_efficiency.append(glb_efficiency)\n",
    "                nt_transitivity.append(transitivity)\n",
    "                avg_closeness_centrality.append(avg_closeness)\n",
    "                avg_harmonic_centrality.append(avg_harmonic)\n",
    "                nt_clusters.append(clusters)\n",
    "                connected_components.append(components)\n",
    "            except:\n",
    "                print(S,E)\n",
    "                pass\n",
    "\n",
    "    GoT_review = pd.read_csv(review).drop('Unnamed: 0', 1)  \n",
    "    review = GoT_review.head(size)\n",
    "    review2 = review.assign(Weighted_Density = weighted_dens2)\n",
    "    review2 = review2.assign(Active_Nodes = agg_actnodes)\n",
    "\n",
    "    review2 = review2.assign(Degrees = average_degrees)\n",
    "    review2 = review2.assign(Strength = average_strength_list)\n",
    "    review2 = review2.assign(Closeness = avg_closeness_centrality)\n",
    "    review2 = review2.assign(Harmonic = avg_harmonic_centrality)\n",
    "    review2 = review2.assign(Efficiency = global_efficiency)\n",
    "    review2 = review2.assign(Transitivity = nt_transitivity)\n",
    "    review2 = review2.assign(Clusters = nt_clusters)\n",
    "    review2 = review2.assign(Components = connected_components)\n",
    "    return review2\n",
    "\n",
    "#df = get_df()\n",
    "#df"
   ]
  },
  {
   "cell_type": "code",
   "execution_count": 189,
   "metadata": {},
   "outputs": [
    {
     "data": {
      "text/html": [
       "<div>\n",
       "<style scoped>\n",
       "    .dataframe tbody tr th:only-of-type {\n",
       "        vertical-align: middle;\n",
       "    }\n",
       "\n",
       "    .dataframe tbody tr th {\n",
       "        vertical-align: top;\n",
       "    }\n",
       "\n",
       "    .dataframe thead th {\n",
       "        text-align: right;\n",
       "    }\n",
       "</style>\n",
       "<table border=\"1\" class=\"dataframe\">\n",
       "  <thead>\n",
       "    <tr style=\"text-align: right;\">\n",
       "      <th></th>\n",
       "      <th>Episode</th>\n",
       "      <th>Review</th>\n",
       "      <th>Weighted_Density</th>\n",
       "      <th>Active_Nodes</th>\n",
       "      <th>Degrees</th>\n",
       "      <th>Strength</th>\n",
       "      <th>Closeness</th>\n",
       "      <th>Harmonic</th>\n",
       "      <th>Efficiency</th>\n",
       "      <th>Transitivity</th>\n",
       "      <th>Clusters</th>\n",
       "      <th>Components</th>\n",
       "    </tr>\n",
       "  </thead>\n",
       "  <tbody>\n",
       "    <tr>\n",
       "      <th>0</th>\n",
       "      <td>Winter Is Coming</td>\n",
       "      <td>9.001235</td>\n",
       "      <td>0.879977</td>\n",
       "      <td>26</td>\n",
       "      <td>2.846154</td>\n",
       "      <td>10.999712</td>\n",
       "      <td>0.234755</td>\n",
       "      <td>6.862821</td>\n",
       "      <td>0.274513</td>\n",
       "      <td>0.307692</td>\n",
       "      <td>0.328419</td>\n",
       "      <td>3</td>\n",
       "    </tr>\n",
       "    <tr>\n",
       "      <th>1</th>\n",
       "      <td>The Kingsroad</td>\n",
       "      <td>8.701235</td>\n",
       "      <td>1.279233</td>\n",
       "      <td>24</td>\n",
       "      <td>2.583333</td>\n",
       "      <td>14.711177</td>\n",
       "      <td>0.259451</td>\n",
       "      <td>7.045833</td>\n",
       "      <td>0.306341</td>\n",
       "      <td>0.141176</td>\n",
       "      <td>0.100000</td>\n",
       "      <td>2</td>\n",
       "    </tr>\n",
       "    <tr>\n",
       "      <th>2</th>\n",
       "      <td>Lord Snow</td>\n",
       "      <td>8.601235</td>\n",
       "      <td>0.780416</td>\n",
       "      <td>38</td>\n",
       "      <td>2.684211</td>\n",
       "      <td>14.437690</td>\n",
       "      <td>0.163297</td>\n",
       "      <td>7.097368</td>\n",
       "      <td>0.191821</td>\n",
       "      <td>0.322148</td>\n",
       "      <td>0.420802</td>\n",
       "      <td>3</td>\n",
       "    </tr>\n",
       "    <tr>\n",
       "      <th>3</th>\n",
       "      <td>Cripples, Bastards, and Broken Things</td>\n",
       "      <td>8.701235</td>\n",
       "      <td>0.955038</td>\n",
       "      <td>34</td>\n",
       "      <td>1.941176</td>\n",
       "      <td>15.758127</td>\n",
       "      <td>0.161133</td>\n",
       "      <td>6.119608</td>\n",
       "      <td>0.185443</td>\n",
       "      <td>0.071429</td>\n",
       "      <td>0.083987</td>\n",
       "      <td>3</td>\n",
       "    </tr>\n",
       "    <tr>\n",
       "      <th>4</th>\n",
       "      <td>The Wolf and the Lion</td>\n",
       "      <td>9.001235</td>\n",
       "      <td>1.358700</td>\n",
       "      <td>30</td>\n",
       "      <td>2.133333</td>\n",
       "      <td>19.701143</td>\n",
       "      <td>0.174443</td>\n",
       "      <td>5.798889</td>\n",
       "      <td>0.199962</td>\n",
       "      <td>0.172414</td>\n",
       "      <td>0.142963</td>\n",
       "      <td>4</td>\n",
       "    </tr>\n",
       "    <tr>\n",
       "      <th>5</th>\n",
       "      <td>A Golden Crown</td>\n",
       "      <td>9.101235</td>\n",
       "      <td>1.335685</td>\n",
       "      <td>32</td>\n",
       "      <td>2.187500</td>\n",
       "      <td>20.703125</td>\n",
       "      <td>0.188658</td>\n",
       "      <td>7.313269</td>\n",
       "      <td>0.235912</td>\n",
       "      <td>0.225806</td>\n",
       "      <td>0.199306</td>\n",
       "      <td>3</td>\n",
       "    </tr>\n",
       "    <tr>\n",
       "      <th>6</th>\n",
       "      <td>You Win or You Die</td>\n",
       "      <td>9.201235</td>\n",
       "      <td>1.489819</td>\n",
       "      <td>28</td>\n",
       "      <td>2.000000</td>\n",
       "      <td>20.112551</td>\n",
       "      <td>0.113038</td>\n",
       "      <td>3.333333</td>\n",
       "      <td>0.123457</td>\n",
       "      <td>0.346154</td>\n",
       "      <td>0.366497</td>\n",
       "      <td>6</td>\n",
       "    </tr>\n",
       "    <tr>\n",
       "      <th>7</th>\n",
       "      <td>The Pointy End</td>\n",
       "      <td>9.001235</td>\n",
       "      <td>0.469583</td>\n",
       "      <td>41</td>\n",
       "      <td>1.951220</td>\n",
       "      <td>9.391670</td>\n",
       "      <td>0.087089</td>\n",
       "      <td>4.091870</td>\n",
       "      <td>0.102297</td>\n",
       "      <td>0.179104</td>\n",
       "      <td>0.103252</td>\n",
       "      <td>6</td>\n",
       "    </tr>\n",
       "    <tr>\n",
       "      <th>8</th>\n",
       "      <td>Baelor</td>\n",
       "      <td>9.601235</td>\n",
       "      <td>1.361319</td>\n",
       "      <td>30</td>\n",
       "      <td>1.733333</td>\n",
       "      <td>19.739130</td>\n",
       "      <td>0.077781</td>\n",
       "      <td>2.488889</td>\n",
       "      <td>0.085824</td>\n",
       "      <td>0.363636</td>\n",
       "      <td>0.222222</td>\n",
       "      <td>8</td>\n",
       "    </tr>\n",
       "    <tr>\n",
       "      <th>9</th>\n",
       "      <td>Fire and Blood</td>\n",
       "      <td>9.501235</td>\n",
       "      <td>0.529246</td>\n",
       "      <td>40</td>\n",
       "      <td>1.650000</td>\n",
       "      <td>10.320304</td>\n",
       "      <td>0.079741</td>\n",
       "      <td>3.462500</td>\n",
       "      <td>0.088782</td>\n",
       "      <td>0.107143</td>\n",
       "      <td>0.082024</td>\n",
       "      <td>9</td>\n",
       "    </tr>\n",
       "    <tr>\n",
       "      <th>10</th>\n",
       "      <td>The North Remembers</td>\n",
       "      <td>8.701235</td>\n",
       "      <td>0.815451</td>\n",
       "      <td>44</td>\n",
       "      <td>1.954545</td>\n",
       "      <td>17.532201</td>\n",
       "      <td>0.070436</td>\n",
       "      <td>3.601515</td>\n",
       "      <td>0.083756</td>\n",
       "      <td>0.281250</td>\n",
       "      <td>0.238636</td>\n",
       "      <td>8</td>\n",
       "    </tr>\n",
       "    <tr>\n",
       "      <th>11</th>\n",
       "      <td>The Night Lands</td>\n",
       "      <td>8.501235</td>\n",
       "      <td>0.875291</td>\n",
       "      <td>43</td>\n",
       "      <td>1.953488</td>\n",
       "      <td>18.381105</td>\n",
       "      <td>0.089789</td>\n",
       "      <td>4.770377</td>\n",
       "      <td>0.113580</td>\n",
       "      <td>0.227273</td>\n",
       "      <td>0.242636</td>\n",
       "      <td>7</td>\n",
       "    </tr>\n",
       "    <tr>\n",
       "      <th>12</th>\n",
       "      <td>What Is Dead May Never Die</td>\n",
       "      <td>8.801235</td>\n",
       "      <td>0.629984</td>\n",
       "      <td>45</td>\n",
       "      <td>1.866667</td>\n",
       "      <td>13.859647</td>\n",
       "      <td>0.089494</td>\n",
       "      <td>4.646667</td>\n",
       "      <td>0.105606</td>\n",
       "      <td>0.230769</td>\n",
       "      <td>0.177037</td>\n",
       "      <td>9</td>\n",
       "    </tr>\n",
       "    <tr>\n",
       "      <th>13</th>\n",
       "      <td>Garden of Bones</td>\n",
       "      <td>8.701235</td>\n",
       "      <td>0.630883</td>\n",
       "      <td>44</td>\n",
       "      <td>1.954545</td>\n",
       "      <td>13.563991</td>\n",
       "      <td>0.086955</td>\n",
       "      <td>4.301515</td>\n",
       "      <td>0.100035</td>\n",
       "      <td>0.134831</td>\n",
       "      <td>0.114268</td>\n",
       "      <td>7</td>\n",
       "    </tr>\n",
       "    <tr>\n",
       "      <th>14</th>\n",
       "      <td>The Ghost of Harrenhal</td>\n",
       "      <td>8.701235</td>\n",
       "      <td>0.796658</td>\n",
       "      <td>45</td>\n",
       "      <td>2.088889</td>\n",
       "      <td>17.526473</td>\n",
       "      <td>0.081735</td>\n",
       "      <td>4.014815</td>\n",
       "      <td>0.091246</td>\n",
       "      <td>0.240000</td>\n",
       "      <td>0.277566</td>\n",
       "      <td>7</td>\n",
       "    </tr>\n",
       "    <tr>\n",
       "      <th>15</th>\n",
       "      <td>The Old Gods and the New</td>\n",
       "      <td>9.001235</td>\n",
       "      <td>1.616392</td>\n",
       "      <td>30</td>\n",
       "      <td>1.933333</td>\n",
       "      <td>23.437690</td>\n",
       "      <td>0.094683</td>\n",
       "      <td>3.061111</td>\n",
       "      <td>0.105556</td>\n",
       "      <td>0.348837</td>\n",
       "      <td>0.357778</td>\n",
       "      <td>6</td>\n",
       "    </tr>\n",
       "    <tr>\n",
       "      <th>16</th>\n",
       "      <td>A Man Without Honor</td>\n",
       "      <td>8.901235</td>\n",
       "      <td>1.648483</td>\n",
       "      <td>27</td>\n",
       "      <td>1.777778</td>\n",
       "      <td>21.430284</td>\n",
       "      <td>0.093305</td>\n",
       "      <td>2.734568</td>\n",
       "      <td>0.105176</td>\n",
       "      <td>0.200000</td>\n",
       "      <td>0.117284</td>\n",
       "      <td>6</td>\n",
       "    </tr>\n",
       "    <tr>\n",
       "      <th>17</th>\n",
       "      <td>The Prince of Winterfell</td>\n",
       "      <td>8.701235</td>\n",
       "      <td>0.882795</td>\n",
       "      <td>41</td>\n",
       "      <td>1.560976</td>\n",
       "      <td>17.655910</td>\n",
       "      <td>0.062371</td>\n",
       "      <td>2.772358</td>\n",
       "      <td>0.069309</td>\n",
       "      <td>0.146341</td>\n",
       "      <td>0.103252</td>\n",
       "      <td>11</td>\n",
       "    </tr>\n",
       "    <tr>\n",
       "      <th>18</th>\n",
       "      <td>Blackwater</td>\n",
       "      <td>9.701235</td>\n",
       "      <td>1.160340</td>\n",
       "      <td>22</td>\n",
       "      <td>2.090909</td>\n",
       "      <td>12.183572</td>\n",
       "      <td>0.196265</td>\n",
       "      <td>4.850000</td>\n",
       "      <td>0.230952</td>\n",
       "      <td>0.117647</td>\n",
       "      <td>0.059091</td>\n",
       "      <td>4</td>\n",
       "    </tr>\n",
       "    <tr>\n",
       "      <th>19</th>\n",
       "      <td>Valar Morghulis</td>\n",
       "      <td>9.401235</td>\n",
       "      <td>0.823749</td>\n",
       "      <td>40</td>\n",
       "      <td>1.600000</td>\n",
       "      <td>16.063100</td>\n",
       "      <td>0.064082</td>\n",
       "      <td>2.895000</td>\n",
       "      <td>0.074231</td>\n",
       "      <td>0.162162</td>\n",
       "      <td>0.133333</td>\n",
       "      <td>10</td>\n",
       "    </tr>\n",
       "    <tr>\n",
       "      <th>20</th>\n",
       "      <td>Valar Dohaeris</td>\n",
       "      <td>8.701235</td>\n",
       "      <td>1.134179</td>\n",
       "      <td>34</td>\n",
       "      <td>1.705882</td>\n",
       "      <td>18.713959</td>\n",
       "      <td>0.079482</td>\n",
       "      <td>3.114706</td>\n",
       "      <td>0.094385</td>\n",
       "      <td>0.166667</td>\n",
       "      <td>0.112745</td>\n",
       "      <td>7</td>\n",
       "    </tr>\n",
       "    <tr>\n",
       "      <th>21</th>\n",
       "      <td>Dark Wings, Dark Words</td>\n",
       "      <td>8.501235</td>\n",
       "      <td>0.792135</td>\n",
       "      <td>43</td>\n",
       "      <td>1.720930</td>\n",
       "      <td>16.634829</td>\n",
       "      <td>0.059315</td>\n",
       "      <td>2.800000</td>\n",
       "      <td>0.066667</td>\n",
       "      <td>0.300000</td>\n",
       "      <td>0.199225</td>\n",
       "      <td>11</td>\n",
       "    </tr>\n",
       "  </tbody>\n",
       "</table>\n",
       "</div>"
      ],
      "text/plain": [
       "                                  Episode    Review  Weighted_Density  \\\n",
       "0                        Winter Is Coming  9.001235          0.879977   \n",
       "1                           The Kingsroad  8.701235          1.279233   \n",
       "2                               Lord Snow  8.601235          0.780416   \n",
       "3   Cripples, Bastards, and Broken Things  8.701235          0.955038   \n",
       "4                   The Wolf and the Lion  9.001235          1.358700   \n",
       "5                          A Golden Crown  9.101235          1.335685   \n",
       "6                      You Win or You Die  9.201235          1.489819   \n",
       "7                          The Pointy End  9.001235          0.469583   \n",
       "8                                  Baelor  9.601235          1.361319   \n",
       "9                          Fire and Blood  9.501235          0.529246   \n",
       "10                    The North Remembers  8.701235          0.815451   \n",
       "11                        The Night Lands  8.501235          0.875291   \n",
       "12             What Is Dead May Never Die  8.801235          0.629984   \n",
       "13                        Garden of Bones  8.701235          0.630883   \n",
       "14                 The Ghost of Harrenhal  8.701235          0.796658   \n",
       "15               The Old Gods and the New  9.001235          1.616392   \n",
       "16                    A Man Without Honor  8.901235          1.648483   \n",
       "17               The Prince of Winterfell  8.701235          0.882795   \n",
       "18                             Blackwater  9.701235          1.160340   \n",
       "19                        Valar Morghulis  9.401235          0.823749   \n",
       "20                         Valar Dohaeris  8.701235          1.134179   \n",
       "21                 Dark Wings, Dark Words  8.501235          0.792135   \n",
       "\n",
       "    Active_Nodes   Degrees   Strength  Closeness  Harmonic  Efficiency  \\\n",
       "0             26  2.846154  10.999712   0.234755  6.862821    0.274513   \n",
       "1             24  2.583333  14.711177   0.259451  7.045833    0.306341   \n",
       "2             38  2.684211  14.437690   0.163297  7.097368    0.191821   \n",
       "3             34  1.941176  15.758127   0.161133  6.119608    0.185443   \n",
       "4             30  2.133333  19.701143   0.174443  5.798889    0.199962   \n",
       "5             32  2.187500  20.703125   0.188658  7.313269    0.235912   \n",
       "6             28  2.000000  20.112551   0.113038  3.333333    0.123457   \n",
       "7             41  1.951220   9.391670   0.087089  4.091870    0.102297   \n",
       "8             30  1.733333  19.739130   0.077781  2.488889    0.085824   \n",
       "9             40  1.650000  10.320304   0.079741  3.462500    0.088782   \n",
       "10            44  1.954545  17.532201   0.070436  3.601515    0.083756   \n",
       "11            43  1.953488  18.381105   0.089789  4.770377    0.113580   \n",
       "12            45  1.866667  13.859647   0.089494  4.646667    0.105606   \n",
       "13            44  1.954545  13.563991   0.086955  4.301515    0.100035   \n",
       "14            45  2.088889  17.526473   0.081735  4.014815    0.091246   \n",
       "15            30  1.933333  23.437690   0.094683  3.061111    0.105556   \n",
       "16            27  1.777778  21.430284   0.093305  2.734568    0.105176   \n",
       "17            41  1.560976  17.655910   0.062371  2.772358    0.069309   \n",
       "18            22  2.090909  12.183572   0.196265  4.850000    0.230952   \n",
       "19            40  1.600000  16.063100   0.064082  2.895000    0.074231   \n",
       "20            34  1.705882  18.713959   0.079482  3.114706    0.094385   \n",
       "21            43  1.720930  16.634829   0.059315  2.800000    0.066667   \n",
       "\n",
       "    Transitivity  Clusters  Components  \n",
       "0       0.307692  0.328419           3  \n",
       "1       0.141176  0.100000           2  \n",
       "2       0.322148  0.420802           3  \n",
       "3       0.071429  0.083987           3  \n",
       "4       0.172414  0.142963           4  \n",
       "5       0.225806  0.199306           3  \n",
       "6       0.346154  0.366497           6  \n",
       "7       0.179104  0.103252           6  \n",
       "8       0.363636  0.222222           8  \n",
       "9       0.107143  0.082024           9  \n",
       "10      0.281250  0.238636           8  \n",
       "11      0.227273  0.242636           7  \n",
       "12      0.230769  0.177037           9  \n",
       "13      0.134831  0.114268           7  \n",
       "14      0.240000  0.277566           7  \n",
       "15      0.348837  0.357778           6  \n",
       "16      0.200000  0.117284           6  \n",
       "17      0.146341  0.103252          11  \n",
       "18      0.117647  0.059091           4  \n",
       "19      0.162162  0.133333          10  \n",
       "20      0.166667  0.112745           7  \n",
       "21      0.300000  0.199225          11  "
      ]
     },
     "execution_count": 189,
     "metadata": {},
     "output_type": "execute_result"
    }
   ],
   "source": [
    "import pandas as pd\n",
    "files = os.listdir(\"Data/GoT_dyn_ts10/\")\n",
    "df_GoT = get_df('GoT.csv',   \"Data/GoT_dyn_ts10/\",   'GoT_S0', 4, 11,22)\n",
    "df_GoT "
   ]
  },
  {
   "cell_type": "code",
   "execution_count": 213,
   "metadata": {},
   "outputs": [
    {
     "name": "stdout",
     "output_type": "stream",
     "text": [
      "[(0, 'GoT_S01E01_000.graphml'), (1, 'GoT_S01E01_001.graphml'), (2, 'GoT_S01E01_002.graphml'), (3, 'GoT_S01E01_003.graphml'), (4, 'GoT_S01E01_004.graphml'), (5, 'GoT_S01E01_005.graphml'), (6, 'GoT_S01E01_006.graphml'), (7, 'GoT_S01E01_007.graphml'), (8, 'GoT_S01E01_008.graphml'), (9, 'GoT_S01E01_009.graphml'), (10, 'GoT_S01E01_010.graphml'), (11, 'GoT_S01E01_011.graphml'), (12, 'GoT_S01E01_012.graphml'), (13, 'GoT_S01E01_013.graphml'), (14, 'GoT_S01E01_014.graphml'), (15, 'GoT_S01E01_015.graphml'), (16, 'GoT_S01E01_016.graphml'), (17, 'GoT_S01E01_017.graphml'), (18, 'GoT_S01E01_018.graphml'), (19, 'GoT_S01E01_019.graphml'), (20, 'GoT_S01E01_020.graphml'), (21, 'GoT_S01E01_021.graphml'), (22, 'GoT_S01E01_022.graphml'), (23, 'GoT_S01E01_023.graphml'), (24, 'GoT_S01E01_024.graphml'), (25, 'GoT_S01E01_025.graphml'), (26, 'GoT_S01E01_026.graphml'), (27, 'GoT_S01E01_027.graphml'), (28, 'GoT_S01E01_028.graphml'), (29, 'GoT_S01E01_029.graphml'), (30, 'GoT_S01E01_030.graphml'), (31, 'GoT_S01E01_031.graphml')]\n",
      "0 , 14 , 16\n",
      "1 , 14 , 16\n",
      "2 , 14 , 16\n",
      "3 , 14 , 16\n",
      "4 , 14 , 16\n",
      "5 , 14 , 16\n",
      "6 , 14 , 16\n",
      "7 , 14 , 16\n",
      "8 , 14 , 16\n",
      "9 , 14 , 16\n",
      "10 , 17 , 18\n",
      "11 , 17 , 18\n",
      "12 , 17 , 18\n",
      "13 , 17 , 18\n",
      "14 , 17 , 18\n",
      "15 , 17 , 18\n",
      "16 , 17 , 18\n",
      "17 , 17 , 18\n",
      "18 , 17 , 18\n",
      "19 , 17 , 18\n",
      "20 , 15 , 17\n",
      "21 , 15 , 17\n",
      "22 , 15 , 17\n",
      "23 , 15 , 17\n",
      "24 , 15 , 17\n",
      "25 , 15 , 17\n",
      "26 , 15 , 17\n",
      "27 , 15 , 17\n",
      "28 , 15 , 17\n",
      "29 , 15 , 17\n",
      "30 , 17 , 15\n",
      "31 , 17 , 15\n"
     ]
    }
   ],
   "source": [
    "def describe(s, e, name = 'GoT_S0', path = 'Data/GoT_dyn_ts10/'):\n",
    "    edic = episode(s,e,name)\n",
    "    sorted_x = sorted(edic.items(), key=lambda kv: kv[1])\n",
    " \n",
    "    print(sorted_x)\n",
    "    for k, v in sorted_x:\n",
    "        g = readG(v, path)\n",
    "    \n",
    "        nd = node_dict(g)\n",
    "        \n",
    "        nodes = set()\n",
    "        for node1, node2, data in g.edges(data=True):\n",
    "            nodes.add(node1)\n",
    "            nodes.add(node2)\n",
    "            \n",
    "        print(int(v.split('.')[0].split('_')[-1]),',', len(nodes), ',',len(g.edges))\n",
    "            \n",
    "def describe_df(review = 'GoT.csv', path = \"Data/GoT_dyn_ts10/\", name = 'GoT_S0', lastS = 4, lastE = 11, size = 22):\n",
    "    files = os.listdir(path)\n",
    "    for S in range(1,lastS):\n",
    "        for E in range(1,lastE):\n",
    "            if review == 'GoT.csv':\n",
    "                if S == 3 and E > 2:\n",
    "                    break\n",
    "            try:\n",
    "                describe(S, E,  name, path)\n",
    "                 \n",
    "            except:\n",
    "                print(S,E)\n",
    "                pass\n",
    "            \n",
    "describe(1, 1)"
   ]
  },
  {
   "cell_type": "markdown",
   "metadata": {},
   "source": [
    "# Graph Overview"
   ]
  },
  {
   "cell_type": "code",
   "execution_count": 128,
   "metadata": {
    "scrolled": true
   },
   "outputs": [
    {
     "data": {
      "text/html": [
       "\n",
       "        <iframe\n",
       "            width=\"800px\"\n",
       "            height=\"800px\"\n",
       "            src=\"test.html\"\n",
       "            frameborder=\"0\"\n",
       "            allowfullscreen\n",
       "        ></iframe>\n",
       "        "
      ],
      "text/plain": [
       "<IPython.lib.display.IFrame at 0x7fd99d5f1310>"
      ]
     },
     "execution_count": 128,
     "metadata": {},
     "output_type": "execute_result"
    }
   ],
   "source": [
    "import pyvis\n",
    "from pyvis.network import Network\n",
    "\n",
    "def print_graph(g):\n",
    "    for node1, node2, data in g.edges(data=True):\n",
    "        print(node1, node2, data)\n",
    "        \n",
    "def create_new_graph(g, d):\n",
    "    #g.remove_nodes_from(list(nx.isolates(g)))\n",
    "    ng = Network(\"800px\",\"800px\", notebook = True)\n",
    "    #ng.options.set_tree_spacing(10)\n",
    "    nset = set()\n",
    "    for node1, node2, data in g.edges(data=True):\n",
    "        #print(node1, node2, data)\n",
    "        nset.add(node1)\n",
    "        nset.add(node2)\n",
    "        \n",
    "    for n in nset:\n",
    "        ng.add_node(d[n])\n",
    "        \n",
    "    for node1, node2, data in g.edges(data=True):\n",
    "        ng.add_edge(d[node1],d[node2], value = data[\"weight\"], title = str(data[\"weight\"]))    \n",
    "        \n",
    "    return ng\n",
    "\n",
    "\n",
    "G = readG(\"GoT_S01E01_012.graphml\", 'Data/GoT_dyn_ts10/')\n",
    "\n",
    "ng = create_new_graph(G, node_dict(G))\n",
    "#ng.options.Layout.set_tree_spacing(10)\n",
    " \n",
    "ng.show(\"test.html\")\n",
    " "
   ]
  },
  {
   "cell_type": "code",
   "execution_count": 4,
   "metadata": {
    "scrolled": true
   },
   "outputs": [
    {
     "data": {
      "text/html": [
       "\n",
       "        <iframe\n",
       "            width=\"800px\"\n",
       "            height=\"800px\"\n",
       "            src=\"test.html\"\n",
       "            frameborder=\"0\"\n",
       "            allowfullscreen\n",
       "        ></iframe>\n",
       "        "
      ],
      "text/plain": [
       "<IPython.lib.display.IFrame at 0x7fdae3760f10>"
      ]
     },
     "execution_count": 4,
     "metadata": {},
     "output_type": "execute_result"
    }
   ],
   "source": [
    "G = readG(\"GoT_S01E01_030.graphml\", 'Data/GoT_dyn_ts10/')\n",
    "ng = create_new_graph(G, node_dict(G))\n",
    "ng.show(\"test.html\")"
   ]
  },
  {
   "cell_type": "code",
   "execution_count": 5,
   "metadata": {},
   "outputs": [
    {
     "data": {
      "text/html": [
       "<div>\n",
       "<style scoped>\n",
       "    .dataframe tbody tr th:only-of-type {\n",
       "        vertical-align: middle;\n",
       "    }\n",
       "\n",
       "    .dataframe tbody tr th {\n",
       "        vertical-align: top;\n",
       "    }\n",
       "\n",
       "    .dataframe thead th {\n",
       "        text-align: right;\n",
       "    }\n",
       "</style>\n",
       "<table border=\"1\" class=\"dataframe\">\n",
       "  <thead>\n",
       "    <tr style=\"text-align: right;\">\n",
       "      <th></th>\n",
       "      <th>Episode</th>\n",
       "      <th>Review</th>\n",
       "    </tr>\n",
       "  </thead>\n",
       "  <tbody>\n",
       "    <tr>\n",
       "      <th>0</th>\n",
       "      <td>Winter Is Coming</td>\n",
       "      <td>9.001235</td>\n",
       "    </tr>\n",
       "    <tr>\n",
       "      <th>1</th>\n",
       "      <td>The Kingsroad</td>\n",
       "      <td>8.701235</td>\n",
       "    </tr>\n",
       "    <tr>\n",
       "      <th>2</th>\n",
       "      <td>Lord Snow</td>\n",
       "      <td>8.601235</td>\n",
       "    </tr>\n",
       "    <tr>\n",
       "      <th>3</th>\n",
       "      <td>Cripples, Bastards, and Broken Things</td>\n",
       "      <td>8.701235</td>\n",
       "    </tr>\n",
       "    <tr>\n",
       "      <th>4</th>\n",
       "      <td>The Wolf and the Lion</td>\n",
       "      <td>9.001235</td>\n",
       "    </tr>\n",
       "    <tr>\n",
       "      <th>5</th>\n",
       "      <td>A Golden Crown</td>\n",
       "      <td>9.101235</td>\n",
       "    </tr>\n",
       "    <tr>\n",
       "      <th>6</th>\n",
       "      <td>You Win or You Die</td>\n",
       "      <td>9.201235</td>\n",
       "    </tr>\n",
       "    <tr>\n",
       "      <th>7</th>\n",
       "      <td>The Pointy End</td>\n",
       "      <td>9.001235</td>\n",
       "    </tr>\n",
       "    <tr>\n",
       "      <th>8</th>\n",
       "      <td>Baelor</td>\n",
       "      <td>9.601235</td>\n",
       "    </tr>\n",
       "    <tr>\n",
       "      <th>9</th>\n",
       "      <td>Fire and Blood</td>\n",
       "      <td>9.501235</td>\n",
       "    </tr>\n",
       "    <tr>\n",
       "      <th>10</th>\n",
       "      <td>The North Remembers</td>\n",
       "      <td>8.701235</td>\n",
       "    </tr>\n",
       "    <tr>\n",
       "      <th>11</th>\n",
       "      <td>The Night Lands</td>\n",
       "      <td>8.501235</td>\n",
       "    </tr>\n",
       "    <tr>\n",
       "      <th>12</th>\n",
       "      <td>What Is Dead May Never Die</td>\n",
       "      <td>8.801235</td>\n",
       "    </tr>\n",
       "    <tr>\n",
       "      <th>13</th>\n",
       "      <td>Garden of Bones</td>\n",
       "      <td>8.701235</td>\n",
       "    </tr>\n",
       "    <tr>\n",
       "      <th>14</th>\n",
       "      <td>The Ghost of Harrenhal</td>\n",
       "      <td>8.701235</td>\n",
       "    </tr>\n",
       "    <tr>\n",
       "      <th>15</th>\n",
       "      <td>The Old Gods and the New</td>\n",
       "      <td>9.001235</td>\n",
       "    </tr>\n",
       "    <tr>\n",
       "      <th>16</th>\n",
       "      <td>A Man Without Honor</td>\n",
       "      <td>8.901235</td>\n",
       "    </tr>\n",
       "    <tr>\n",
       "      <th>17</th>\n",
       "      <td>The Prince of Winterfell</td>\n",
       "      <td>8.701235</td>\n",
       "    </tr>\n",
       "    <tr>\n",
       "      <th>18</th>\n",
       "      <td>Blackwater</td>\n",
       "      <td>9.701235</td>\n",
       "    </tr>\n",
       "    <tr>\n",
       "      <th>19</th>\n",
       "      <td>Valar Morghulis</td>\n",
       "      <td>9.401235</td>\n",
       "    </tr>\n",
       "    <tr>\n",
       "      <th>20</th>\n",
       "      <td>Valar Dohaeris</td>\n",
       "      <td>8.701235</td>\n",
       "    </tr>\n",
       "    <tr>\n",
       "      <th>21</th>\n",
       "      <td>Dark Wings, Dark Words</td>\n",
       "      <td>8.501235</td>\n",
       "    </tr>\n",
       "    <tr>\n",
       "      <th>22</th>\n",
       "      <td>Walk of Punishment</td>\n",
       "      <td>8.801235</td>\n",
       "    </tr>\n",
       "    <tr>\n",
       "      <th>23</th>\n",
       "      <td>And Now His Watch Is Ended</td>\n",
       "      <td>9.501235</td>\n",
       "    </tr>\n",
       "    <tr>\n",
       "      <th>24</th>\n",
       "      <td>Kissed by Fire</td>\n",
       "      <td>9.001235</td>\n",
       "    </tr>\n",
       "    <tr>\n",
       "      <th>25</th>\n",
       "      <td>The Climb</td>\n",
       "      <td>8.801235</td>\n",
       "    </tr>\n",
       "    <tr>\n",
       "      <th>26</th>\n",
       "      <td>The Bear and the Maiden Fair</td>\n",
       "      <td>8.701235</td>\n",
       "    </tr>\n",
       "    <tr>\n",
       "      <th>27</th>\n",
       "      <td>Second Sons</td>\n",
       "      <td>9.001235</td>\n",
       "    </tr>\n",
       "    <tr>\n",
       "      <th>28</th>\n",
       "      <td>The Rains of Castamere</td>\n",
       "      <td>9.901235</td>\n",
       "    </tr>\n",
       "    <tr>\n",
       "      <th>29</th>\n",
       "      <td>Mhysa</td>\n",
       "      <td>9.101235</td>\n",
       "    </tr>\n",
       "  </tbody>\n",
       "</table>\n",
       "</div>"
      ],
      "text/plain": [
       "                                  Episode    Review\n",
       "0                        Winter Is Coming  9.001235\n",
       "1                           The Kingsroad  8.701235\n",
       "2                               Lord Snow  8.601235\n",
       "3   Cripples, Bastards, and Broken Things  8.701235\n",
       "4                   The Wolf and the Lion  9.001235\n",
       "5                          A Golden Crown  9.101235\n",
       "6                      You Win or You Die  9.201235\n",
       "7                          The Pointy End  9.001235\n",
       "8                                  Baelor  9.601235\n",
       "9                          Fire and Blood  9.501235\n",
       "10                    The North Remembers  8.701235\n",
       "11                        The Night Lands  8.501235\n",
       "12             What Is Dead May Never Die  8.801235\n",
       "13                        Garden of Bones  8.701235\n",
       "14                 The Ghost of Harrenhal  8.701235\n",
       "15               The Old Gods and the New  9.001235\n",
       "16                    A Man Without Honor  8.901235\n",
       "17               The Prince of Winterfell  8.701235\n",
       "18                             Blackwater  9.701235\n",
       "19                        Valar Morghulis  9.401235\n",
       "20                         Valar Dohaeris  8.701235\n",
       "21                 Dark Wings, Dark Words  8.501235\n",
       "22                     Walk of Punishment  8.801235\n",
       "23             And Now His Watch Is Ended  9.501235\n",
       "24                         Kissed by Fire  9.001235\n",
       "25                              The Climb  8.801235\n",
       "26           The Bear and the Maiden Fair  8.701235\n",
       "27                            Second Sons  9.001235\n",
       "28                 The Rains of Castamere  9.901235\n",
       "29                                  Mhysa  9.101235"
      ]
     },
     "execution_count": 5,
     "metadata": {},
     "output_type": "execute_result"
    }
   ],
   "source": [
    "GoT_review = pd.read_csv(\"GoT.csv\").drop('Unnamed: 0', 1)  \n",
    "GoT_review"
   ]
  },
  {
   "cell_type": "code",
   "execution_count": 219,
   "metadata": {},
   "outputs": [
    {
     "data": {
      "image/png": "[encoded data removed]",
      "text/plain": [
       "<Figure size 2160x1152 with 1 Axes>"
      ]
     },
     "metadata": {
      "needs_background": "light"
     },
     "output_type": "display_data"
    }
   ],
   "source": [
    "df = GoT_review[[\"Episode\", \"Review\"]]\n",
    "ind = df.set_index(\"Episode\", inplace = True)\n",
    "bar = df.plot(kind='bar',figsize=(30, 16), color = \"blue\", legend = None)\n",
    "#bar\n",
    "plt.yticks(fontsize = 24)\n",
    "plt.xticks(ind,fontsize = 18)\n",
    "plt.xlabel(\"Episode\", fontsize = 20)\n",
    "plt.ylabel(\"Review\", fontsize = 20)\n",
    "plt.ylim(ymin=8)\n",
    "plt.title(\"IMDB Review for Game of Throne\", fontsize = 30)\n",
    "bar.spines['top'].set_visible(False)\n",
    "bar.spines['right'].set_visible(False)\n",
    "bar.spines['bottom'].set_linewidth(0.5)\n",
    "bar.spines['left'].set_visible(True)\n",
    "plt.show()"
   ]
  },
  {
   "cell_type": "markdown",
   "metadata": {},
   "source": [
    "# Stength over time"
   ]
  },
  {
   "cell_type": "code",
   "execution_count": 308,
   "metadata": {},
   "outputs": [
    {
     "name": "stdout",
     "output_type": "stream",
     "text": [
      "{'Jon Snow': 76, 'Brandon Stark': 52, 'Eddard Stark': 122, 'Robb Stark': 50, 'Theon Greyjoy': 60, 'Cersei Lannister': 56, 'Jaime Lannister': 48, 'Catelyn Stark': 94, 'Rodrik Cassel': 20, 'Mordane': 10, 'Sansa Stark': 60, 'Gared': 20, 'Waymar Royce': 20, 'Will': 20, 'Tyrion Lannister': 40, 'Ros': 20, 'Arya Stark': 42, 'Robert Baratheon': 52, 'Daenerys Targaryen': 42, 'Viserys Targaryen': 32, 'Luwin': 30, 'Illyrio Mopatis': 30, 'Benjen Stark': 30, 'Drogo': 20, 'Jorah Mormont': 24, 'Joffrey Baratheon': 2, 'Myrcella Baratheon': 2, 'Sandor Clegane': 2, 'Irri': 2, 'Jhiqui': 2}\n"
     ]
    },
    {
     "data": {
      "application/vnd.plotly.v1+json": {
       "config": {
        "plotlyServerURL": "https://plot.ly"
       },
       "data": [
        {
         "mode": "lines",
         "name": "Eddard Stark",
         "type": "scatter",
         "x": [
          10,
          20,
          30,
          40,
          50,
          60,
          70,
          80,
          90,
          100,
          110,
          120,
          130,
          140,
          150,
          160,
          170,
          180,
          190,
          200,
          210,
          220,
          230,
          240,
          250,
          260,
          270,
          280,
          290,
          300,
          310,
          320
         ],
         "y": [
          106.36,
          106.36,
          106.36,
          106.36,
          106.36,
          106.36,
          106.36,
          106.36,
          106.36,
          106.36,
          79.88,
          79.88,
          79.88,
          79.88,
          79.88,
          79.88,
          79.88,
          79.88,
          79.88,
          79.88,
          101.80000000000001,
          101.80000000000001,
          101.80000000000001,
          101.80000000000001,
          101.80000000000001,
          101.80000000000001,
          101.80000000000001,
          101.80000000000001,
          101.80000000000001,
          101.80000000000001,
          21.4,
          21.4
         ]
        },
        {
         "mode": "lines",
         "name": "Catelyn Stark",
         "type": "scatter",
         "x": [
          10,
          20,
          30,
          40,
          50,
          60,
          70,
          80,
          90,
          100,
          110,
          120,
          130,
          140,
          150,
          160,
          170,
          180,
          190,
          200,
          210,
          220,
          230,
          240,
          250,
          260,
          270,
          280,
          290,
          300,
          310,
          320
         ],
         "y": [
          44.72,
          44.72,
          44.72,
          44.72,
          44.72,
          44.72,
          44.72,
          44.72,
          44.72,
          44.72,
          32.52,
          32.52,
          32.52,
          32.52,
          32.52,
          32.52,
          32.52,
          32.52,
          32.52,
          32.52,
          128.04,
          128.04,
          128.04,
          128.04,
          128.04,
          128.04,
          128.04,
          128.04,
          128.04,
          128.04,
          48.160000000000004,
          48.160000000000004
         ]
        },
        {
         "mode": "lines",
         "name": "Viserys Targaryen",
         "type": "scatter",
         "x": [
          10,
          20,
          30,
          40,
          50,
          60,
          70,
          80,
          90,
          100,
          110,
          120,
          130,
          140,
          150,
          160,
          170,
          180,
          190,
          200,
          210,
          220,
          230,
          240,
          250,
          260,
          270,
          280,
          290,
          300,
          310,
          320
         ],
         "y": [
          0,
          0,
          0,
          0,
          0,
          0,
          0,
          0,
          0,
          0,
          132.92000000000002,
          132.92000000000002,
          132.92000000000002,
          132.92000000000002,
          132.92000000000002,
          132.92000000000002,
          132.92000000000002,
          132.92000000000002,
          132.92000000000002,
          132.92000000000002,
          13.56,
          13.56,
          13.56,
          13.56,
          13.56,
          13.56,
          13.56,
          13.56,
          13.56,
          13.56,
          28.8,
          28.8
         ]
        },
        {
         "mode": "lines",
         "name": "Jon Snow",
         "type": "scatter",
         "x": [
          10,
          20,
          30,
          40,
          50,
          60,
          70,
          80,
          90,
          100,
          110,
          120,
          130,
          140,
          150,
          160,
          170,
          180,
          190,
          200,
          210,
          220,
          230,
          240,
          250,
          260,
          270,
          280,
          290,
          300,
          310,
          320
         ],
         "y": [
          33.64,
          33.64,
          33.64,
          33.64,
          33.64,
          33.64,
          33.64,
          33.64,
          33.64,
          33.64,
          2.8,
          2.8,
          2.8,
          2.8,
          2.8,
          2.8,
          2.8,
          2.8,
          2.8,
          2.8,
          70.44,
          70.44,
          70.44,
          70.44,
          70.44,
          70.44,
          70.44,
          70.44,
          70.44,
          70.44,
          90.48,
          90.48
         ]
        },
        {
         "mode": "lines",
         "name": "Tyrion Lannister",
         "type": "scatter",
         "x": [
          10,
          20,
          30,
          40,
          50,
          60,
          70,
          80,
          90,
          100,
          110,
          120,
          130,
          140,
          150,
          160,
          170,
          180,
          190,
          200,
          210,
          220,
          230,
          240,
          250,
          260,
          270,
          280,
          290,
          300,
          310,
          320
         ],
         "y": [
          0,
          0,
          0,
          0,
          0,
          0,
          0,
          0,
          0,
          0,
          56.16,
          56.16,
          56.16,
          56.16,
          56.16,
          56.16,
          56.16,
          56.16,
          56.16,
          56.16,
          35.88,
          35.88,
          35.88,
          35.88,
          35.88,
          35.88,
          35.88,
          35.88,
          35.88,
          35.88,
          128.44,
          128.44
         ]
        }
       ],
       "layout": {
        "font": {
         "color": "RebeccaPurple",
         "family": "Courier New, monospace",
         "size": 12
        },
        "legend": {
         "title": {
          "text": "Character"
         }
        },
        "paper_bgcolor": "rgba(0,0,0,0)",
        "plot_bgcolor": "rgba(0,0,0,0)",
        "template": {
         "data": {
          "bar": [
           {
            "error_x": {
             "color": "#2a3f5f"
            },
            "error_y": {
             "color": "#2a3f5f"
            },
            "marker": {
             "line": {
              "color": "#E5ECF6",
              "width": 0.5
             },
             "pattern": {
              "fillmode": "overlay",
              "size": 10,
              "solidity": 0.2
             }
            },
            "type": "bar"
           }
          ],
          "barpolar": [
           {
            "marker": {
             "line": {
              "color": "#E5ECF6",
              "width": 0.5
             },
             "pattern": {
              "fillmode": "overlay",
              "size": 10,
              "solidity": 0.2
             }
            },
            "type": "barpolar"
           }
          ],
          "carpet": [
           {
            "aaxis": {
             "endlinecolor": "#2a3f5f",
             "gridcolor": "white",
             "linecolor": "white",
             "minorgridcolor": "white",
             "startlinecolor": "#2a3f5f"
            },
            "baxis": {
             "endlinecolor": "#2a3f5f",
             "gridcolor": "white",
             "linecolor": "white",
             "minorgridcolor": "white",
             "startlinecolor": "#2a3f5f"
            },
            "type": "carpet"
           }
          ],
          "choropleth": [
           {
            "colorbar": {
             "outlinewidth": 0,
             "ticks": ""
            },
            "type": "choropleth"
           }
          ],
          "contour": [
           {
            "colorbar": {
             "outlinewidth": 0,
             "ticks": ""
            },
            "colorscale": [
             [
              0,
              "#0d0887"
             ],
             [
              0.1111111111111111,
              "#46039f"
             ],
             [
              0.2222222222222222,
              "#7201a8"
             ],
             [
              0.3333333333333333,
              "#9c179e"
             ],
             [
              0.4444444444444444,
              "#bd3786"
             ],
             [
              0.5555555555555556,
              "#d8576b"
             ],
             [
              0.6666666666666666,
              "#ed7953"
             ],
             [
              0.7777777777777778,
              "#fb9f3a"
             ],
             [
              0.8888888888888888,
              "#fdca26"
             ],
             [
              1,
              "#f0f921"
             ]
            ],
            "type": "contour"
           }
          ],
          "contourcarpet": [
           {
            "colorbar": {
             "outlinewidth": 0,
             "ticks": ""
            },
            "type": "contourcarpet"
           }
          ],
          "heatmap": [
           {
            "colorbar": {
             "outlinewidth": 0,
             "ticks": ""
            },
            "colorscale": [
             [
              0,
              "#0d0887"
             ],
             [
              0.1111111111111111,
              "#46039f"
             ],
             [
              0.2222222222222222,
              "#7201a8"
             ],
             [
              0.3333333333333333,
              "#9c179e"
             ],
             [
              0.4444444444444444,
              "#bd3786"
             ],
             [
              0.5555555555555556,
              "#d8576b"
             ],
             [
              0.6666666666666666,
              "#ed7953"
             ],
             [
              0.7777777777777778,
              "#fb9f3a"
             ],
             [
              0.8888888888888888,
              "#fdca26"
             ],
             [
              1,
              "#f0f921"
             ]
            ],
            "type": "heatmap"
           }
          ],
          "heatmapgl": [
           {
            "colorbar": {
             "outlinewidth": 0,
             "ticks": ""
            },
            "colorscale": [
             [
              0,
              "#0d0887"
             ],
             [
              0.1111111111111111,
              "#46039f"
             ],
             [
              0.2222222222222222,
              "#7201a8"
             ],
             [
              0.3333333333333333,
              "#9c179e"
             ],
             [
              0.4444444444444444,
              "#bd3786"
             ],
             [
              0.5555555555555556,
              "#d8576b"
             ],
             [
              0.6666666666666666,
              "#ed7953"
             ],
             [
              0.7777777777777778,
              "#fb9f3a"
             ],
             [
              0.8888888888888888,
              "#fdca26"
             ],
             [
              1,
              "#f0f921"
             ]
            ],
            "type": "heatmapgl"
           }
          ],
          "histogram": [
           {
            "marker": {
             "pattern": {
              "fillmode": "overlay",
              "size": 10,
              "solidity": 0.2
             }
            },
            "type": "histogram"
           }
          ],
          "histogram2d": [
           {
            "colorbar": {
             "outlinewidth": 0,
             "ticks": ""
            },
            "colorscale": [
             [
              0,
              "#0d0887"
             ],
             [
              0.1111111111111111,
              "#46039f"
             ],
             [
              0.2222222222222222,
              "#7201a8"
             ],
             [
              0.3333333333333333,
              "#9c179e"
             ],
             [
              0.4444444444444444,
              "#bd3786"
             ],
             [
              0.5555555555555556,
              "#d8576b"
             ],
             [
              0.6666666666666666,
              "#ed7953"
             ],
             [
              0.7777777777777778,
              "#fb9f3a"
             ],
             [
              0.8888888888888888,
              "#fdca26"
             ],
             [
              1,
              "#f0f921"
             ]
            ],
            "type": "histogram2d"
           }
          ],
          "histogram2dcontour": [
           {
            "colorbar": {
             "outlinewidth": 0,
             "ticks": ""
            },
            "colorscale": [
             [
              0,
              "#0d0887"
             ],
             [
              0.1111111111111111,
              "#46039f"
             ],
             [
              0.2222222222222222,
              "#7201a8"
             ],
             [
              0.3333333333333333,
              "#9c179e"
             ],
             [
              0.4444444444444444,
              "#bd3786"
             ],
             [
              0.5555555555555556,
              "#d8576b"
             ],
             [
              0.6666666666666666,
              "#ed7953"
             ],
             [
              0.7777777777777778,
              "#fb9f3a"
             ],
             [
              0.8888888888888888,
              "#fdca26"
             ],
             [
              1,
              "#f0f921"
             ]
            ],
            "type": "histogram2dcontour"
           }
          ],
          "mesh3d": [
           {
            "colorbar": {
             "outlinewidth": 0,
             "ticks": ""
            },
            "type": "mesh3d"
           }
          ],
          "parcoords": [
           {
            "line": {
             "colorbar": {
              "outlinewidth": 0,
              "ticks": ""
             }
            },
            "type": "parcoords"
           }
          ],
          "pie": [
           {
            "automargin": true,
            "type": "pie"
           }
          ],
          "scatter": [
           {
            "marker": {
             "colorbar": {
              "outlinewidth": 0,
              "ticks": ""
             }
            },
            "type": "scatter"
           }
          ],
          "scatter3d": [
           {
            "line": {
             "colorbar": {
              "outlinewidth": 0,
              "ticks": ""
             }
            },
            "marker": {
             "colorbar": {
              "outlinewidth": 0,
              "ticks": ""
             }
            },
            "type": "scatter3d"
           }
          ],
          "scattercarpet": [
           {
            "marker": {
             "colorbar": {
              "outlinewidth": 0,
              "ticks": ""
             }
            },
            "type": "scattercarpet"
           }
          ],
          "scattergeo": [
           {
            "marker": {
             "colorbar": {
              "outlinewidth": 0,
              "ticks": ""
             }
            },
            "type": "scattergeo"
           }
          ],
          "scattergl": [
           {
            "marker": {
             "colorbar": {
              "outlinewidth": 0,
              "ticks": ""
             }
            },
            "type": "scattergl"
           }
          ],
          "scattermapbox": [
           {
            "marker": {
             "colorbar": {
              "outlinewidth": 0,
              "ticks": ""
             }
            },
            "type": "scattermapbox"
           }
          ],
          "scatterpolar": [
           {
            "marker": {
             "colorbar": {
              "outlinewidth": 0,
              "ticks": ""
             }
            },
            "type": "scatterpolar"
           }
          ],
          "scatterpolargl": [
           {
            "marker": {
             "colorbar": {
              "outlinewidth": 0,
              "ticks": ""
             }
            },
            "type": "scatterpolargl"
           }
          ],
          "scatterternary": [
           {
            "marker": {
             "colorbar": {
              "outlinewidth": 0,
              "ticks": ""
             }
            },
            "type": "scatterternary"
           }
          ],
          "surface": [
           {
            "colorbar": {
             "outlinewidth": 0,
             "ticks": ""
            },
            "colorscale": [
             [
              0,
              "#0d0887"
             ],
             [
              0.1111111111111111,
              "#46039f"
             ],
             [
              0.2222222222222222,
              "#7201a8"
             ],
             [
              0.3333333333333333,
              "#9c179e"
             ],
             [
              0.4444444444444444,
              "#bd3786"
             ],
             [
              0.5555555555555556,
              "#d8576b"
             ],
             [
              0.6666666666666666,
              "#ed7953"
             ],
             [
              0.7777777777777778,
              "#fb9f3a"
             ],
             [
              0.8888888888888888,
              "#fdca26"
             ],
             [
              1,
              "#f0f921"
             ]
            ],
            "type": "surface"
           }
          ],
          "table": [
           {
            "cells": {
             "fill": {
              "color": "#EBF0F8"
             },
             "line": {
              "color": "white"
             }
            },
            "header": {
             "fill": {
              "color": "#C8D4E3"
             },
             "line": {
              "color": "white"
             }
            },
            "type": "table"
           }
          ]
         },
         "layout": {
          "annotationdefaults": {
           "arrowcolor": "#2a3f5f",
           "arrowhead": 0,
           "arrowwidth": 1
          },
          "autotypenumbers": "strict",
          "coloraxis": {
           "colorbar": {
            "outlinewidth": 0,
            "ticks": ""
           }
          },
          "colorscale": {
           "diverging": [
            [
             0,
             "#8e0152"
            ],
            [
             0.1,
             "#c51b7d"
            ],
            [
             0.2,
             "#de77ae"
            ],
            [
             0.3,
             "#f1b6da"
            ],
            [
             0.4,
             "#fde0ef"
            ],
            [
             0.5,
             "#f7f7f7"
            ],
            [
             0.6,
             "#e6f5d0"
            ],
            [
             0.7,
             "#b8e186"
            ],
            [
             0.8,
             "#7fbc41"
            ],
            [
             0.9,
             "#4d9221"
            ],
            [
             1,
             "#276419"
            ]
           ],
           "sequential": [
            [
             0,
             "#0d0887"
            ],
            [
             0.1111111111111111,
             "#46039f"
            ],
            [
             0.2222222222222222,
             "#7201a8"
            ],
            [
             0.3333333333333333,
             "#9c179e"
            ],
            [
             0.4444444444444444,
             "#bd3786"
            ],
            [
             0.5555555555555556,
             "#d8576b"
            ],
            [
             0.6666666666666666,
             "#ed7953"
            ],
            [
             0.7777777777777778,
             "#fb9f3a"
            ],
            [
             0.8888888888888888,
             "#fdca26"
            ],
            [
             1,
             "#f0f921"
            ]
           ],
           "sequentialminus": [
            [
             0,
             "#0d0887"
            ],
            [
             0.1111111111111111,
             "#46039f"
            ],
            [
             0.2222222222222222,
             "#7201a8"
            ],
            [
             0.3333333333333333,
             "#9c179e"
            ],
            [
             0.4444444444444444,
             "#bd3786"
            ],
            [
             0.5555555555555556,
             "#d8576b"
            ],
            [
             0.6666666666666666,
             "#ed7953"
            ],
            [
             0.7777777777777778,
             "#fb9f3a"
            ],
            [
             0.8888888888888888,
             "#fdca26"
            ],
            [
             1,
             "#f0f921"
            ]
           ]
          },
          "colorway": [
           "#636efa",
           "#EF553B",
           "#00cc96",
           "#ab63fa",
           "#FFA15A",
           "#19d3f3",
           "#FF6692",
           "#B6E880",
           "#FF97FF",
           "#FECB52"
          ],
          "font": {
           "color": "#2a3f5f"
          },
          "geo": {
           "bgcolor": "white",
           "lakecolor": "white",
           "landcolor": "#E5ECF6",
           "showlakes": true,
           "showland": true,
           "subunitcolor": "white"
          },
          "hoverlabel": {
           "align": "left"
          },
          "hovermode": "closest",
          "mapbox": {
           "style": "light"
          },
          "paper_bgcolor": "white",
          "plot_bgcolor": "#E5ECF6",
          "polar": {
           "angularaxis": {
            "gridcolor": "white",
            "linecolor": "white",
            "ticks": ""
           },
           "bgcolor": "#E5ECF6",
           "radialaxis": {
            "gridcolor": "white",
            "linecolor": "white",
            "ticks": ""
           }
          },
          "scene": {
           "xaxis": {
            "backgroundcolor": "#E5ECF6",
            "gridcolor": "white",
            "gridwidth": 2,
            "linecolor": "white",
            "showbackground": true,
            "ticks": "",
            "zerolinecolor": "white"
           },
           "yaxis": {
            "backgroundcolor": "#E5ECF6",
            "gridcolor": "white",
            "gridwidth": 2,
            "linecolor": "white",
            "showbackground": true,
            "ticks": "",
            "zerolinecolor": "white"
           },
           "zaxis": {
            "backgroundcolor": "#E5ECF6",
            "gridcolor": "white",
            "gridwidth": 2,
            "linecolor": "white",
            "showbackground": true,
            "ticks": "",
            "zerolinecolor": "white"
           }
          },
          "shapedefaults": {
           "line": {
            "color": "#2a3f5f"
           }
          },
          "ternary": {
           "aaxis": {
            "gridcolor": "white",
            "linecolor": "white",
            "ticks": ""
           },
           "baxis": {
            "gridcolor": "white",
            "linecolor": "white",
            "ticks": ""
           },
           "bgcolor": "#E5ECF6",
           "caxis": {
            "gridcolor": "white",
            "linecolor": "white",
            "ticks": ""
           }
          },
          "title": {
           "x": 0.05
          },
          "xaxis": {
           "automargin": true,
           "gridcolor": "white",
           "linecolor": "white",
           "ticks": "",
           "title": {
            "standoff": 15
           },
           "zerolinecolor": "white",
           "zerolinewidth": 2
          },
          "yaxis": {
           "automargin": true,
           "gridcolor": "white",
           "linecolor": "white",
           "ticks": "",
           "title": {
            "standoff": 15
           },
           "zerolinecolor": "white",
           "zerolinewidth": 2
          }
         }
        },
        "title": {
         "text": "Graph Strength Time Series",
         "x": 0.5,
         "xanchor": "center",
         "y": 0.95,
         "yanchor": "top"
        },
        "xaxis": {
         "title": {
          "text": "Scene"
         }
        },
        "yaxis": {
         "title": {
          "text": "Strength"
         }
        }
       }
      },
      "text/html": [
       "<div>                            <div id=\"48f35651-f53a-4605-b433-2e09b0ceafbf\" class=\"plotly-graph-div\" style=\"height:525px; width:100%;\"></div>            <script type=\"text/javascript\">                require([\"plotly\"], function(Plotly) {                    window.PLOTLYENV=window.PLOTLYENV || {};                                    if (document.getElementById(\"48f35651-f53a-4605-b433-2e09b0ceafbf\")) {                    Plotly.newPlot(                        \"48f35651-f53a-4605-b433-2e09b0ceafbf\",                        [{\"mode\":\"lines\",\"name\":\"Eddard Stark\",\"x\":[10,20,30,40,50,60,70,80,90,100,110,120,130,140,150,160,170,180,190,200,210,220,230,240,250,260,270,280,290,300,310,320],\"y\":[106.36,106.36,106.36,106.36,106.36,106.36,106.36,106.36,106.36,106.36,79.88,79.88,79.88,79.88,79.88,79.88,79.88,79.88,79.88,79.88,101.80000000000001,101.80000000000001,101.80000000000001,101.80000000000001,101.80000000000001,101.80000000000001,101.80000000000001,101.80000000000001,101.80000000000001,101.80000000000001,21.4,21.4],\"type\":\"scatter\"},{\"mode\":\"lines\",\"name\":\"Catelyn Stark\",\"x\":[10,20,30,40,50,60,70,80,90,100,110,120,130,140,150,160,170,180,190,200,210,220,230,240,250,260,270,280,290,300,310,320],\"y\":[44.72,44.72,44.72,44.72,44.72,44.72,44.72,44.72,44.72,44.72,32.52,32.52,32.52,32.52,32.52,32.52,32.52,32.52,32.52,32.52,128.04,128.04,128.04,128.04,128.04,128.04,128.04,128.04,128.04,128.04,48.160000000000004,48.160000000000004],\"type\":\"scatter\"},{\"mode\":\"lines\",\"name\":\"Viserys Targaryen\",\"x\":[10,20,30,40,50,60,70,80,90,100,110,120,130,140,150,160,170,180,190,200,210,220,230,240,250,260,270,280,290,300,310,320],\"y\":[0.0,0.0,0.0,0.0,0.0,0.0,0.0,0.0,0.0,0.0,132.92000000000002,132.92000000000002,132.92000000000002,132.92000000000002,132.92000000000002,132.92000000000002,132.92000000000002,132.92000000000002,132.92000000000002,132.92000000000002,13.56,13.56,13.56,13.56,13.56,13.56,13.56,13.56,13.56,13.56,28.8,28.8],\"type\":\"scatter\"},{\"mode\":\"lines\",\"name\":\"Jon Snow\",\"x\":[10,20,30,40,50,60,70,80,90,100,110,120,130,140,150,160,170,180,190,200,210,220,230,240,250,260,270,280,290,300,310,320],\"y\":[33.64,33.64,33.64,33.64,33.64,33.64,33.64,33.64,33.64,33.64,2.8,2.8,2.8,2.8,2.8,2.8,2.8,2.8,2.8,2.8,70.44,70.44,70.44,70.44,70.44,70.44,70.44,70.44,70.44,70.44,90.48,90.48],\"type\":\"scatter\"},{\"mode\":\"lines\",\"name\":\"Tyrion Lannister\",\"x\":[10,20,30,40,50,60,70,80,90,100,110,120,130,140,150,160,170,180,190,200,210,220,230,240,250,260,270,280,290,300,310,320],\"y\":[0.0,0.0,0.0,0.0,0.0,0.0,0.0,0.0,0.0,0.0,56.16,56.16,56.16,56.16,56.16,56.16,56.16,56.16,56.16,56.16,35.88,35.88,35.88,35.88,35.88,35.88,35.88,35.88,35.88,35.88,128.44,128.44],\"type\":\"scatter\"}],                        {\"template\":{\"data\":{\"bar\":[{\"error_x\":{\"color\":\"#2a3f5f\"},\"error_y\":{\"color\":\"#2a3f5f\"},\"marker\":{\"line\":{\"color\":\"#E5ECF6\",\"width\":0.5},\"pattern\":{\"fillmode\":\"overlay\",\"size\":10,\"solidity\":0.2}},\"type\":\"bar\"}],\"barpolar\":[{\"marker\":{\"line\":{\"color\":\"#E5ECF6\",\"width\":0.5},\"pattern\":{\"fillmode\":\"overlay\",\"size\":10,\"solidity\":0.2}},\"type\":\"barpolar\"}],\"carpet\":[{\"aaxis\":{\"endlinecolor\":\"#2a3f5f\",\"gridcolor\":\"white\",\"linecolor\":\"white\",\"minorgridcolor\":\"white\",\"startlinecolor\":\"#2a3f5f\"},\"baxis\":{\"endlinecolor\":\"#2a3f5f\",\"gridcolor\":\"white\",\"linecolor\":\"white\",\"minorgridcolor\":\"white\",\"startlinecolor\":\"#2a3f5f\"},\"type\":\"carpet\"}],\"choropleth\":[{\"colorbar\":{\"outlinewidth\":0,\"ticks\":\"\"},\"type\":\"choropleth\"}],\"contour\":[{\"colorbar\":{\"outlinewidth\":0,\"ticks\":\"\"},\"colorscale\":[[0.0,\"#0d0887\"],[0.1111111111111111,\"#46039f\"],[0.2222222222222222,\"#7201a8\"],[0.3333333333333333,\"#9c179e\"],[0.4444444444444444,\"#bd3786\"],[0.5555555555555556,\"#d8576b\"],[0.6666666666666666,\"#ed7953\"],[0.7777777777777778,\"#fb9f3a\"],[0.8888888888888888,\"#fdca26\"],[1.0,\"#f0f921\"]],\"type\":\"contour\"}],\"contourcarpet\":[{\"colorbar\":{\"outlinewidth\":0,\"ticks\":\"\"},\"type\":\"contourcarpet\"}],\"heatmap\":[{\"colorbar\":{\"outlinewidth\":0,\"ticks\":\"\"},\"colorscale\":[[0.0,\"#0d0887\"],[0.1111111111111111,\"#46039f\"],[0.2222222222222222,\"#7201a8\"],[0.3333333333333333,\"#9c179e\"],[0.4444444444444444,\"#bd3786\"],[0.5555555555555556,\"#d8576b\"],[0.6666666666666666,\"#ed7953\"],[0.7777777777777778,\"#fb9f3a\"],[0.8888888888888888,\"#fdca26\"],[1.0,\"#f0f921\"]],\"type\":\"heatmap\"}],\"heatmapgl\":[{\"colorbar\":{\"outlinewidth\":0,\"ticks\":\"\"},\"colorscale\":[[0.0,\"#0d0887\"],[0.1111111111111111,\"#46039f\"],[0.2222222222222222,\"#7201a8\"],[0.3333333333333333,\"#9c179e\"],[0.4444444444444444,\"#bd3786\"],[0.5555555555555556,\"#d8576b\"],[0.6666666666666666,\"#ed7953\"],[0.7777777777777778,\"#fb9f3a\"],[0.8888888888888888,\"#fdca26\"],[1.0,\"#f0f921\"]],\"type\":\"heatmapgl\"}],\"histogram\":[{\"marker\":{\"pattern\":{\"fillmode\":\"overlay\",\"size\":10,\"solidity\":0.2}},\"type\":\"histogram\"}],\"histogram2d\":[{\"colorbar\":{\"outlinewidth\":0,\"ticks\":\"\"},\"colorscale\":[[0.0,\"#0d0887\"],[0.1111111111111111,\"#46039f\"],[0.2222222222222222,\"#7201a8\"],[0.3333333333333333,\"#9c179e\"],[0.4444444444444444,\"#bd3786\"],[0.5555555555555556,\"#d8576b\"],[0.6666666666666666,\"#ed7953\"],[0.7777777777777778,\"#fb9f3a\"],[0.8888888888888888,\"#fdca26\"],[1.0,\"#f0f921\"]],\"type\":\"histogram2d\"}],\"histogram2dcontour\":[{\"colorbar\":{\"outlinewidth\":0,\"ticks\":\"\"},\"colorscale\":[[0.0,\"#0d0887\"],[0.1111111111111111,\"#46039f\"],[0.2222222222222222,\"#7201a8\"],[0.3333333333333333,\"#9c179e\"],[0.4444444444444444,\"#bd3786\"],[0.5555555555555556,\"#d8576b\"],[0.6666666666666666,\"#ed7953\"],[0.7777777777777778,\"#fb9f3a\"],[0.8888888888888888,\"#fdca26\"],[1.0,\"#f0f921\"]],\"type\":\"histogram2dcontour\"}],\"mesh3d\":[{\"colorbar\":{\"outlinewidth\":0,\"ticks\":\"\"},\"type\":\"mesh3d\"}],\"parcoords\":[{\"line\":{\"colorbar\":{\"outlinewidth\":0,\"ticks\":\"\"}},\"type\":\"parcoords\"}],\"pie\":[{\"automargin\":true,\"type\":\"pie\"}],\"scatter\":[{\"marker\":{\"colorbar\":{\"outlinewidth\":0,\"ticks\":\"\"}},\"type\":\"scatter\"}],\"scatter3d\":[{\"line\":{\"colorbar\":{\"outlinewidth\":0,\"ticks\":\"\"}},\"marker\":{\"colorbar\":{\"outlinewidth\":0,\"ticks\":\"\"}},\"type\":\"scatter3d\"}],\"scattercarpet\":[{\"marker\":{\"colorbar\":{\"outlinewidth\":0,\"ticks\":\"\"}},\"type\":\"scattercarpet\"}],\"scattergeo\":[{\"marker\":{\"colorbar\":{\"outlinewidth\":0,\"ticks\":\"\"}},\"type\":\"scattergeo\"}],\"scattergl\":[{\"marker\":{\"colorbar\":{\"outlinewidth\":0,\"ticks\":\"\"}},\"type\":\"scattergl\"}],\"scattermapbox\":[{\"marker\":{\"colorbar\":{\"outlinewidth\":0,\"ticks\":\"\"}},\"type\":\"scattermapbox\"}],\"scatterpolar\":[{\"marker\":{\"colorbar\":{\"outlinewidth\":0,\"ticks\":\"\"}},\"type\":\"scatterpolar\"}],\"scatterpolargl\":[{\"marker\":{\"colorbar\":{\"outlinewidth\":0,\"ticks\":\"\"}},\"type\":\"scatterpolargl\"}],\"scatterternary\":[{\"marker\":{\"colorbar\":{\"outlinewidth\":0,\"ticks\":\"\"}},\"type\":\"scatterternary\"}],\"surface\":[{\"colorbar\":{\"outlinewidth\":0,\"ticks\":\"\"},\"colorscale\":[[0.0,\"#0d0887\"],[0.1111111111111111,\"#46039f\"],[0.2222222222222222,\"#7201a8\"],[0.3333333333333333,\"#9c179e\"],[0.4444444444444444,\"#bd3786\"],[0.5555555555555556,\"#d8576b\"],[0.6666666666666666,\"#ed7953\"],[0.7777777777777778,\"#fb9f3a\"],[0.8888888888888888,\"#fdca26\"],[1.0,\"#f0f921\"]],\"type\":\"surface\"}],\"table\":[{\"cells\":{\"fill\":{\"color\":\"#EBF0F8\"},\"line\":{\"color\":\"white\"}},\"header\":{\"fill\":{\"color\":\"#C8D4E3\"},\"line\":{\"color\":\"white\"}},\"type\":\"table\"}]},\"layout\":{\"annotationdefaults\":{\"arrowcolor\":\"#2a3f5f\",\"arrowhead\":0,\"arrowwidth\":1},\"autotypenumbers\":\"strict\",\"coloraxis\":{\"colorbar\":{\"outlinewidth\":0,\"ticks\":\"\"}},\"colorscale\":{\"diverging\":[[0,\"#8e0152\"],[0.1,\"#c51b7d\"],[0.2,\"#de77ae\"],[0.3,\"#f1b6da\"],[0.4,\"#fde0ef\"],[0.5,\"#f7f7f7\"],[0.6,\"#e6f5d0\"],[0.7,\"#b8e186\"],[0.8,\"#7fbc41\"],[0.9,\"#4d9221\"],[1,\"#276419\"]],\"sequential\":[[0.0,\"#0d0887\"],[0.1111111111111111,\"#46039f\"],[0.2222222222222222,\"#7201a8\"],[0.3333333333333333,\"#9c179e\"],[0.4444444444444444,\"#bd3786\"],[0.5555555555555556,\"#d8576b\"],[0.6666666666666666,\"#ed7953\"],[0.7777777777777778,\"#fb9f3a\"],[0.8888888888888888,\"#fdca26\"],[1.0,\"#f0f921\"]],\"sequentialminus\":[[0.0,\"#0d0887\"],[0.1111111111111111,\"#46039f\"],[0.2222222222222222,\"#7201a8\"],[0.3333333333333333,\"#9c179e\"],[0.4444444444444444,\"#bd3786\"],[0.5555555555555556,\"#d8576b\"],[0.6666666666666666,\"#ed7953\"],[0.7777777777777778,\"#fb9f3a\"],[0.8888888888888888,\"#fdca26\"],[1.0,\"#f0f921\"]]},\"colorway\":[\"#636efa\",\"#EF553B\",\"#00cc96\",\"#ab63fa\",\"#FFA15A\",\"#19d3f3\",\"#FF6692\",\"#B6E880\",\"#FF97FF\",\"#FECB52\"],\"font\":{\"color\":\"#2a3f5f\"},\"geo\":{\"bgcolor\":\"white\",\"lakecolor\":\"white\",\"landcolor\":\"#E5ECF6\",\"showlakes\":true,\"showland\":true,\"subunitcolor\":\"white\"},\"hoverlabel\":{\"align\":\"left\"},\"hovermode\":\"closest\",\"mapbox\":{\"style\":\"light\"},\"paper_bgcolor\":\"white\",\"plot_bgcolor\":\"#E5ECF6\",\"polar\":{\"angularaxis\":{\"gridcolor\":\"white\",\"linecolor\":\"white\",\"ticks\":\"\"},\"bgcolor\":\"#E5ECF6\",\"radialaxis\":{\"gridcolor\":\"white\",\"linecolor\":\"white\",\"ticks\":\"\"}},\"scene\":{\"xaxis\":{\"backgroundcolor\":\"#E5ECF6\",\"gridcolor\":\"white\",\"gridwidth\":2,\"linecolor\":\"white\",\"showbackground\":true,\"ticks\":\"\",\"zerolinecolor\":\"white\"},\"yaxis\":{\"backgroundcolor\":\"#E5ECF6\",\"gridcolor\":\"white\",\"gridwidth\":2,\"linecolor\":\"white\",\"showbackground\":true,\"ticks\":\"\",\"zerolinecolor\":\"white\"},\"zaxis\":{\"backgroundcolor\":\"#E5ECF6\",\"gridcolor\":\"white\",\"gridwidth\":2,\"linecolor\":\"white\",\"showbackground\":true,\"ticks\":\"\",\"zerolinecolor\":\"white\"}},\"shapedefaults\":{\"line\":{\"color\":\"#2a3f5f\"}},\"ternary\":{\"aaxis\":{\"gridcolor\":\"white\",\"linecolor\":\"white\",\"ticks\":\"\"},\"baxis\":{\"gridcolor\":\"white\",\"linecolor\":\"white\",\"ticks\":\"\"},\"bgcolor\":\"#E5ECF6\",\"caxis\":{\"gridcolor\":\"white\",\"linecolor\":\"white\",\"ticks\":\"\"}},\"title\":{\"x\":0.05},\"xaxis\":{\"automargin\":true,\"gridcolor\":\"white\",\"linecolor\":\"white\",\"ticks\":\"\",\"title\":{\"standoff\":15},\"zerolinecolor\":\"white\",\"zerolinewidth\":2},\"yaxis\":{\"automargin\":true,\"gridcolor\":\"white\",\"linecolor\":\"white\",\"ticks\":\"\",\"title\":{\"standoff\":15},\"zerolinecolor\":\"white\",\"zerolinewidth\":2}}},\"title\":{\"text\":\"Graph Strength Time Series\",\"y\":0.95,\"x\":0.5,\"xanchor\":\"center\",\"yanchor\":\"top\"},\"font\":{\"family\":\"Courier New, monospace\",\"size\":12,\"color\":\"RebeccaPurple\"},\"xaxis\":{\"title\":{\"text\":\"Scene\"}},\"yaxis\":{\"title\":{\"text\":\"Strength\"}},\"legend\":{\"title\":{\"text\":\"Character\"}},\"paper_bgcolor\":\"rgba(0,0,0,0)\",\"plot_bgcolor\":\"rgba(0,0,0,0)\"},                        {\"responsive\": true}                    ).then(function(){\n",
       "                            \n",
       "var gd = document.getElementById('48f35651-f53a-4605-b433-2e09b0ceafbf');\n",
       "var x = new MutationObserver(function (mutations, observer) {{\n",
       "        var display = window.getComputedStyle(gd).display;\n",
       "        if (!display || display === 'none') {{\n",
       "            console.log([gd, 'removed!']);\n",
       "            Plotly.purge(gd);\n",
       "            observer.disconnect();\n",
       "        }}\n",
       "}});\n",
       "\n",
       "// Listen for the removal of the full notebook cells\n",
       "var notebookContainer = gd.closest('#notebook-container');\n",
       "if (notebookContainer) {{\n",
       "    x.observe(notebookContainer, {childList: true});\n",
       "}}\n",
       "\n",
       "// Listen for the clearing of the current output cell\n",
       "var outputEl = gd.closest('.output');\n",
       "if (outputEl) {{\n",
       "    x.observe(outputEl, {childList: true});\n",
       "}}\n",
       "\n",
       "                        })                };                });            </script>        </div>"
      ]
     },
     "metadata": {},
     "output_type": "display_data"
    },
    {
     "data": {
      "application/vnd.plotly.v1+json": {
       "config": {
        "plotlyServerURL": "https://plot.ly"
       },
       "data": [
        {
         "mode": "lines",
         "name": "Eddard Stark",
         "type": "scatter",
         "x": [
          10,
          20,
          30,
          40,
          50,
          60,
          70,
          80,
          90,
          100,
          110,
          120,
          130,
          140,
          150,
          160,
          170,
          180,
          190,
          200,
          210,
          220,
          230,
          240,
          250,
          260,
          270,
          280,
          290,
          300,
          310,
          320
         ],
         "y": [
          5,
          5,
          5,
          5,
          5,
          5,
          5,
          5,
          5,
          5,
          3,
          3,
          3,
          3,
          3,
          3,
          3,
          3,
          3,
          3,
          4,
          4,
          4,
          4,
          4,
          4,
          4,
          4,
          4,
          4,
          1,
          1
         ]
        },
        {
         "mode": "lines",
         "name": "Catelyn Stark",
         "type": "scatter",
         "x": [
          10,
          20,
          30,
          40,
          50,
          60,
          70,
          80,
          90,
          100,
          110,
          120,
          130,
          140,
          150,
          160,
          170,
          180,
          190,
          200,
          210,
          220,
          230,
          240,
          250,
          260,
          270,
          280,
          290,
          300,
          310,
          320
         ],
         "y": [
          1,
          1,
          1,
          1,
          1,
          1,
          1,
          1,
          1,
          1,
          4,
          4,
          4,
          4,
          4,
          4,
          4,
          4,
          4,
          4,
          4,
          4,
          4,
          4,
          4,
          4,
          4,
          4,
          4,
          4,
          2,
          2
         ]
        },
        {
         "mode": "lines",
         "name": "Jon Snow",
         "type": "scatter",
         "x": [
          10,
          20,
          30,
          40,
          50,
          60,
          70,
          80,
          90,
          100,
          110,
          120,
          130,
          140,
          150,
          160,
          170,
          180,
          190,
          200,
          210,
          220,
          230,
          240,
          250,
          260,
          270,
          280,
          290,
          300,
          310,
          320
         ],
         "y": [
          4,
          4,
          4,
          4,
          4,
          4,
          4,
          4,
          4,
          4,
          1,
          1,
          1,
          1,
          1,
          1,
          1,
          1,
          1,
          1,
          2,
          2,
          2,
          2,
          2,
          2,
          2,
          2,
          2,
          2,
          3,
          3
         ]
        },
        {
         "mode": "lines",
         "name": "Theon Greyjoy",
         "type": "scatter",
         "x": [
          10,
          20,
          30,
          40,
          50,
          60,
          70,
          80,
          90,
          100,
          110,
          120,
          130,
          140,
          150,
          160,
          170,
          180,
          190,
          200,
          210,
          220,
          230,
          240,
          250,
          260,
          270,
          280,
          290,
          300,
          310,
          320
         ],
         "y": [
          4,
          4,
          4,
          4,
          4,
          4,
          4,
          4,
          4,
          4,
          2,
          2,
          2,
          2,
          2,
          2,
          2,
          2,
          2,
          2,
          0,
          0,
          0,
          0,
          0,
          0,
          0,
          0,
          0,
          0,
          0,
          0
         ]
        },
        {
         "mode": "lines",
         "name": "Sansa Stark",
         "type": "scatter",
         "x": [
          10,
          20,
          30,
          40,
          50,
          60,
          70,
          80,
          90,
          100,
          110,
          120,
          130,
          140,
          150,
          160,
          170,
          180,
          190,
          200,
          210,
          220,
          230,
          240,
          250,
          260,
          270,
          280,
          290,
          300,
          310,
          320
         ],
         "y": [
          1,
          1,
          1,
          1,
          1,
          1,
          1,
          1,
          1,
          1,
          2,
          2,
          2,
          2,
          2,
          2,
          2,
          2,
          2,
          2,
          3,
          3,
          3,
          3,
          3,
          3,
          3,
          3,
          3,
          3,
          0,
          0
         ]
        }
       ],
       "layout": {
        "font": {
         "color": "RebeccaPurple",
         "family": "Courier New, monospace",
         "size": 12
        },
        "legend": {
         "title": {
          "text": "Character"
         }
        },
        "paper_bgcolor": "rgba(0,0,0,0)",
        "plot_bgcolor": "rgba(0,0,0,0)",
        "template": {
         "data": {
          "bar": [
           {
            "error_x": {
             "color": "#2a3f5f"
            },
            "error_y": {
             "color": "#2a3f5f"
            },
            "marker": {
             "line": {
              "color": "#E5ECF6",
              "width": 0.5
             },
             "pattern": {
              "fillmode": "overlay",
              "size": 10,
              "solidity": 0.2
             }
            },
            "type": "bar"
           }
          ],
          "barpolar": [
           {
            "marker": {
             "line": {
              "color": "#E5ECF6",
              "width": 0.5
             },
             "pattern": {
              "fillmode": "overlay",
              "size": 10,
              "solidity": 0.2
             }
            },
            "type": "barpolar"
           }
          ],
          "carpet": [
           {
            "aaxis": {
             "endlinecolor": "#2a3f5f",
             "gridcolor": "white",
             "linecolor": "white",
             "minorgridcolor": "white",
             "startlinecolor": "#2a3f5f"
            },
            "baxis": {
             "endlinecolor": "#2a3f5f",
             "gridcolor": "white",
             "linecolor": "white",
             "minorgridcolor": "white",
             "startlinecolor": "#2a3f5f"
            },
            "type": "carpet"
           }
          ],
          "choropleth": [
           {
            "colorbar": {
             "outlinewidth": 0,
             "ticks": ""
            },
            "type": "choropleth"
           }
          ],
          "contour": [
           {
            "colorbar": {
             "outlinewidth": 0,
             "ticks": ""
            },
            "colorscale": [
             [
              0,
              "#0d0887"
             ],
             [
              0.1111111111111111,
              "#46039f"
             ],
             [
              0.2222222222222222,
              "#7201a8"
             ],
             [
              0.3333333333333333,
              "#9c179e"
             ],
             [
              0.4444444444444444,
              "#bd3786"
             ],
             [
              0.5555555555555556,
              "#d8576b"
             ],
             [
              0.6666666666666666,
              "#ed7953"
             ],
             [
              0.7777777777777778,
              "#fb9f3a"
             ],
             [
              0.8888888888888888,
              "#fdca26"
             ],
             [
              1,
              "#f0f921"
             ]
            ],
            "type": "contour"
           }
          ],
          "contourcarpet": [
           {
            "colorbar": {
             "outlinewidth": 0,
             "ticks": ""
            },
            "type": "contourcarpet"
           }
          ],
          "heatmap": [
           {
            "colorbar": {
             "outlinewidth": 0,
             "ticks": ""
            },
            "colorscale": [
             [
              0,
              "#0d0887"
             ],
             [
              0.1111111111111111,
              "#46039f"
             ],
             [
              0.2222222222222222,
              "#7201a8"
             ],
             [
              0.3333333333333333,
              "#9c179e"
             ],
             [
              0.4444444444444444,
              "#bd3786"
             ],
             [
              0.5555555555555556,
              "#d8576b"
             ],
             [
              0.6666666666666666,
              "#ed7953"
             ],
             [
              0.7777777777777778,
              "#fb9f3a"
             ],
             [
              0.8888888888888888,
              "#fdca26"
             ],
             [
              1,
              "#f0f921"
             ]
            ],
            "type": "heatmap"
           }
          ],
          "heatmapgl": [
           {
            "colorbar": {
             "outlinewidth": 0,
             "ticks": ""
            },
            "colorscale": [
             [
              0,
              "#0d0887"
             ],
             [
              0.1111111111111111,
              "#46039f"
             ],
             [
              0.2222222222222222,
              "#7201a8"
             ],
             [
              0.3333333333333333,
              "#9c179e"
             ],
             [
              0.4444444444444444,
              "#bd3786"
             ],
             [
              0.5555555555555556,
              "#d8576b"
             ],
             [
              0.6666666666666666,
              "#ed7953"
             ],
             [
              0.7777777777777778,
              "#fb9f3a"
             ],
             [
              0.8888888888888888,
              "#fdca26"
             ],
             [
              1,
              "#f0f921"
             ]
            ],
            "type": "heatmapgl"
           }
          ],
          "histogram": [
           {
            "marker": {
             "pattern": {
              "fillmode": "overlay",
              "size": 10,
              "solidity": 0.2
             }
            },
            "type": "histogram"
           }
          ],
          "histogram2d": [
           {
            "colorbar": {
             "outlinewidth": 0,
             "ticks": ""
            },
            "colorscale": [
             [
              0,
              "#0d0887"
             ],
             [
              0.1111111111111111,
              "#46039f"
             ],
             [
              0.2222222222222222,
              "#7201a8"
             ],
             [
              0.3333333333333333,
              "#9c179e"
             ],
             [
              0.4444444444444444,
              "#bd3786"
             ],
             [
              0.5555555555555556,
              "#d8576b"
             ],
             [
              0.6666666666666666,
              "#ed7953"
             ],
             [
              0.7777777777777778,
              "#fb9f3a"
             ],
             [
              0.8888888888888888,
              "#fdca26"
             ],
             [
              1,
              "#f0f921"
             ]
            ],
            "type": "histogram2d"
           }
          ],
          "histogram2dcontour": [
           {
            "colorbar": {
             "outlinewidth": 0,
             "ticks": ""
            },
            "colorscale": [
             [
              0,
              "#0d0887"
             ],
             [
              0.1111111111111111,
              "#46039f"
             ],
             [
              0.2222222222222222,
              "#7201a8"
             ],
             [
              0.3333333333333333,
              "#9c179e"
             ],
             [
              0.4444444444444444,
              "#bd3786"
             ],
             [
              0.5555555555555556,
              "#d8576b"
             ],
             [
              0.6666666666666666,
              "#ed7953"
             ],
             [
              0.7777777777777778,
              "#fb9f3a"
             ],
             [
              0.8888888888888888,
              "#fdca26"
             ],
             [
              1,
              "#f0f921"
             ]
            ],
            "type": "histogram2dcontour"
           }
          ],
          "mesh3d": [
           {
            "colorbar": {
             "outlinewidth": 0,
             "ticks": ""
            },
            "type": "mesh3d"
           }
          ],
          "parcoords": [
           {
            "line": {
             "colorbar": {
              "outlinewidth": 0,
              "ticks": ""
             }
            },
            "type": "parcoords"
           }
          ],
          "pie": [
           {
            "automargin": true,
            "type": "pie"
           }
          ],
          "scatter": [
           {
            "marker": {
             "colorbar": {
              "outlinewidth": 0,
              "ticks": ""
             }
            },
            "type": "scatter"
           }
          ],
          "scatter3d": [
           {
            "line": {
             "colorbar": {
              "outlinewidth": 0,
              "ticks": ""
             }
            },
            "marker": {
             "colorbar": {
              "outlinewidth": 0,
              "ticks": ""
             }
            },
            "type": "scatter3d"
           }
          ],
          "scattercarpet": [
           {
            "marker": {
             "colorbar": {
              "outlinewidth": 0,
              "ticks": ""
             }
            },
            "type": "scattercarpet"
           }
          ],
          "scattergeo": [
           {
            "marker": {
             "colorbar": {
              "outlinewidth": 0,
              "ticks": ""
             }
            },
            "type": "scattergeo"
           }
          ],
          "scattergl": [
           {
            "marker": {
             "colorbar": {
              "outlinewidth": 0,
              "ticks": ""
             }
            },
            "type": "scattergl"
           }
          ],
          "scattermapbox": [
           {
            "marker": {
             "colorbar": {
              "outlinewidth": 0,
              "ticks": ""
             }
            },
            "type": "scattermapbox"
           }
          ],
          "scatterpolar": [
           {
            "marker": {
             "colorbar": {
              "outlinewidth": 0,
              "ticks": ""
             }
            },
            "type": "scatterpolar"
           }
          ],
          "scatterpolargl": [
           {
            "marker": {
             "colorbar": {
              "outlinewidth": 0,
              "ticks": ""
             }
            },
            "type": "scatterpolargl"
           }
          ],
          "scatterternary": [
           {
            "marker": {
             "colorbar": {
              "outlinewidth": 0,
              "ticks": ""
             }
            },
            "type": "scatterternary"
           }
          ],
          "surface": [
           {
            "colorbar": {
             "outlinewidth": 0,
             "ticks": ""
            },
            "colorscale": [
             [
              0,
              "#0d0887"
             ],
             [
              0.1111111111111111,
              "#46039f"
             ],
             [
              0.2222222222222222,
              "#7201a8"
             ],
             [
              0.3333333333333333,
              "#9c179e"
             ],
             [
              0.4444444444444444,
              "#bd3786"
             ],
             [
              0.5555555555555556,
              "#d8576b"
             ],
             [
              0.6666666666666666,
              "#ed7953"
             ],
             [
              0.7777777777777778,
              "#fb9f3a"
             ],
             [
              0.8888888888888888,
              "#fdca26"
             ],
             [
              1,
              "#f0f921"
             ]
            ],
            "type": "surface"
           }
          ],
          "table": [
           {
            "cells": {
             "fill": {
              "color": "#EBF0F8"
             },
             "line": {
              "color": "white"
             }
            },
            "header": {
             "fill": {
              "color": "#C8D4E3"
             },
             "line": {
              "color": "white"
             }
            },
            "type": "table"
           }
          ]
         },
         "layout": {
          "annotationdefaults": {
           "arrowcolor": "#2a3f5f",
           "arrowhead": 0,
           "arrowwidth": 1
          },
          "autotypenumbers": "strict",
          "coloraxis": {
           "colorbar": {
            "outlinewidth": 0,
            "ticks": ""
           }
          },
          "colorscale": {
           "diverging": [
            [
             0,
             "#8e0152"
            ],
            [
             0.1,
             "#c51b7d"
            ],
            [
             0.2,
             "#de77ae"
            ],
            [
             0.3,
             "#f1b6da"
            ],
            [
             0.4,
             "#fde0ef"
            ],
            [
             0.5,
             "#f7f7f7"
            ],
            [
             0.6,
             "#e6f5d0"
            ],
            [
             0.7,
             "#b8e186"
            ],
            [
             0.8,
             "#7fbc41"
            ],
            [
             0.9,
             "#4d9221"
            ],
            [
             1,
             "#276419"
            ]
           ],
           "sequential": [
            [
             0,
             "#0d0887"
            ],
            [
             0.1111111111111111,
             "#46039f"
            ],
            [
             0.2222222222222222,
             "#7201a8"
            ],
            [
             0.3333333333333333,
             "#9c179e"
            ],
            [
             0.4444444444444444,
             "#bd3786"
            ],
            [
             0.5555555555555556,
             "#d8576b"
            ],
            [
             0.6666666666666666,
             "#ed7953"
            ],
            [
             0.7777777777777778,
             "#fb9f3a"
            ],
            [
             0.8888888888888888,
             "#fdca26"
            ],
            [
             1,
             "#f0f921"
            ]
           ],
           "sequentialminus": [
            [
             0,
             "#0d0887"
            ],
            [
             0.1111111111111111,
             "#46039f"
            ],
            [
             0.2222222222222222,
             "#7201a8"
            ],
            [
             0.3333333333333333,
             "#9c179e"
            ],
            [
             0.4444444444444444,
             "#bd3786"
            ],
            [
             0.5555555555555556,
             "#d8576b"
            ],
            [
             0.6666666666666666,
             "#ed7953"
            ],
            [
             0.7777777777777778,
             "#fb9f3a"
            ],
            [
             0.8888888888888888,
             "#fdca26"
            ],
            [
             1,
             "#f0f921"
            ]
           ]
          },
          "colorway": [
           "#636efa",
           "#EF553B",
           "#00cc96",
           "#ab63fa",
           "#FFA15A",
           "#19d3f3",
           "#FF6692",
           "#B6E880",
           "#FF97FF",
           "#FECB52"
          ],
          "font": {
           "color": "#2a3f5f"
          },
          "geo": {
           "bgcolor": "white",
           "lakecolor": "white",
           "landcolor": "#E5ECF6",
           "showlakes": true,
           "showland": true,
           "subunitcolor": "white"
          },
          "hoverlabel": {
           "align": "left"
          },
          "hovermode": "closest",
          "mapbox": {
           "style": "light"
          },
          "paper_bgcolor": "white",
          "plot_bgcolor": "#E5ECF6",
          "polar": {
           "angularaxis": {
            "gridcolor": "white",
            "linecolor": "white",
            "ticks": ""
           },
           "bgcolor": "#E5ECF6",
           "radialaxis": {
            "gridcolor": "white",
            "linecolor": "white",
            "ticks": ""
           }
          },
          "scene": {
           "xaxis": {
            "backgroundcolor": "#E5ECF6",
            "gridcolor": "white",
            "gridwidth": 2,
            "linecolor": "white",
            "showbackground": true,
            "ticks": "",
            "zerolinecolor": "white"
           },
           "yaxis": {
            "backgroundcolor": "#E5ECF6",
            "gridcolor": "white",
            "gridwidth": 2,
            "linecolor": "white",
            "showbackground": true,
            "ticks": "",
            "zerolinecolor": "white"
           },
           "zaxis": {
            "backgroundcolor": "#E5ECF6",
            "gridcolor": "white",
            "gridwidth": 2,
            "linecolor": "white",
            "showbackground": true,
            "ticks": "",
            "zerolinecolor": "white"
           }
          },
          "shapedefaults": {
           "line": {
            "color": "#2a3f5f"
           }
          },
          "ternary": {
           "aaxis": {
            "gridcolor": "white",
            "linecolor": "white",
            "ticks": ""
           },
           "baxis": {
            "gridcolor": "white",
            "linecolor": "white",
            "ticks": ""
           },
           "bgcolor": "#E5ECF6",
           "caxis": {
            "gridcolor": "white",
            "linecolor": "white",
            "ticks": ""
           }
          },
          "title": {
           "x": 0.05
          },
          "xaxis": {
           "automargin": true,
           "gridcolor": "white",
           "linecolor": "white",
           "ticks": "",
           "title": {
            "standoff": 15
           },
           "zerolinecolor": "white",
           "zerolinewidth": 2
          },
          "yaxis": {
           "automargin": true,
           "gridcolor": "white",
           "linecolor": "white",
           "ticks": "",
           "title": {
            "standoff": 15
           },
           "zerolinecolor": "white",
           "zerolinewidth": 2
          }
         }
        },
        "title": {
         "text": "Graph Degree Time Sereies",
         "x": 0.5,
         "xanchor": "center",
         "y": 0.95,
         "yanchor": "top"
        },
        "xaxis": {
         "title": {
          "text": "Scene"
         }
        },
        "yaxis": {
         "title": {
          "text": "Degree"
         }
        }
       }
      },
      "text/html": [
       "<div>                            <div id=\"e6d1a66c-5e60-4f5f-8a09-40873c233535\" class=\"plotly-graph-div\" style=\"height:525px; width:100%;\"></div>            <script type=\"text/javascript\">                require([\"plotly\"], function(Plotly) {                    window.PLOTLYENV=window.PLOTLYENV || {};                                    if (document.getElementById(\"e6d1a66c-5e60-4f5f-8a09-40873c233535\")) {                    Plotly.newPlot(                        \"e6d1a66c-5e60-4f5f-8a09-40873c233535\",                        [{\"mode\":\"lines\",\"name\":\"Eddard Stark\",\"x\":[10,20,30,40,50,60,70,80,90,100,110,120,130,140,150,160,170,180,190,200,210,220,230,240,250,260,270,280,290,300,310,320],\"y\":[5,5,5,5,5,5,5,5,5,5,3,3,3,3,3,3,3,3,3,3,4,4,4,4,4,4,4,4,4,4,1,1],\"type\":\"scatter\"},{\"mode\":\"lines\",\"name\":\"Catelyn Stark\",\"x\":[10,20,30,40,50,60,70,80,90,100,110,120,130,140,150,160,170,180,190,200,210,220,230,240,250,260,270,280,290,300,310,320],\"y\":[1,1,1,1,1,1,1,1,1,1,4,4,4,4,4,4,4,4,4,4,4,4,4,4,4,4,4,4,4,4,2,2],\"type\":\"scatter\"},{\"mode\":\"lines\",\"name\":\"Jon Snow\",\"x\":[10,20,30,40,50,60,70,80,90,100,110,120,130,140,150,160,170,180,190,200,210,220,230,240,250,260,270,280,290,300,310,320],\"y\":[4,4,4,4,4,4,4,4,4,4,1,1,1,1,1,1,1,1,1,1,2,2,2,2,2,2,2,2,2,2,3,3],\"type\":\"scatter\"},{\"mode\":\"lines\",\"name\":\"Theon Greyjoy\",\"x\":[10,20,30,40,50,60,70,80,90,100,110,120,130,140,150,160,170,180,190,200,210,220,230,240,250,260,270,280,290,300,310,320],\"y\":[4,4,4,4,4,4,4,4,4,4,2,2,2,2,2,2,2,2,2,2,0,0,0,0,0,0,0,0,0,0,0,0],\"type\":\"scatter\"},{\"mode\":\"lines\",\"name\":\"Sansa Stark\",\"x\":[10,20,30,40,50,60,70,80,90,100,110,120,130,140,150,160,170,180,190,200,210,220,230,240,250,260,270,280,290,300,310,320],\"y\":[1,1,1,1,1,1,1,1,1,1,2,2,2,2,2,2,2,2,2,2,3,3,3,3,3,3,3,3,3,3,0,0],\"type\":\"scatter\"}],                        {\"template\":{\"data\":{\"bar\":[{\"error_x\":{\"color\":\"#2a3f5f\"},\"error_y\":{\"color\":\"#2a3f5f\"},\"marker\":{\"line\":{\"color\":\"#E5ECF6\",\"width\":0.5},\"pattern\":{\"fillmode\":\"overlay\",\"size\":10,\"solidity\":0.2}},\"type\":\"bar\"}],\"barpolar\":[{\"marker\":{\"line\":{\"color\":\"#E5ECF6\",\"width\":0.5},\"pattern\":{\"fillmode\":\"overlay\",\"size\":10,\"solidity\":0.2}},\"type\":\"barpolar\"}],\"carpet\":[{\"aaxis\":{\"endlinecolor\":\"#2a3f5f\",\"gridcolor\":\"white\",\"linecolor\":\"white\",\"minorgridcolor\":\"white\",\"startlinecolor\":\"#2a3f5f\"},\"baxis\":{\"endlinecolor\":\"#2a3f5f\",\"gridcolor\":\"white\",\"linecolor\":\"white\",\"minorgridcolor\":\"white\",\"startlinecolor\":\"#2a3f5f\"},\"type\":\"carpet\"}],\"choropleth\":[{\"colorbar\":{\"outlinewidth\":0,\"ticks\":\"\"},\"type\":\"choropleth\"}],\"contour\":[{\"colorbar\":{\"outlinewidth\":0,\"ticks\":\"\"},\"colorscale\":[[0.0,\"#0d0887\"],[0.1111111111111111,\"#46039f\"],[0.2222222222222222,\"#7201a8\"],[0.3333333333333333,\"#9c179e\"],[0.4444444444444444,\"#bd3786\"],[0.5555555555555556,\"#d8576b\"],[0.6666666666666666,\"#ed7953\"],[0.7777777777777778,\"#fb9f3a\"],[0.8888888888888888,\"#fdca26\"],[1.0,\"#f0f921\"]],\"type\":\"contour\"}],\"contourcarpet\":[{\"colorbar\":{\"outlinewidth\":0,\"ticks\":\"\"},\"type\":\"contourcarpet\"}],\"heatmap\":[{\"colorbar\":{\"outlinewidth\":0,\"ticks\":\"\"},\"colorscale\":[[0.0,\"#0d0887\"],[0.1111111111111111,\"#46039f\"],[0.2222222222222222,\"#7201a8\"],[0.3333333333333333,\"#9c179e\"],[0.4444444444444444,\"#bd3786\"],[0.5555555555555556,\"#d8576b\"],[0.6666666666666666,\"#ed7953\"],[0.7777777777777778,\"#fb9f3a\"],[0.8888888888888888,\"#fdca26\"],[1.0,\"#f0f921\"]],\"type\":\"heatmap\"}],\"heatmapgl\":[{\"colorbar\":{\"outlinewidth\":0,\"ticks\":\"\"},\"colorscale\":[[0.0,\"#0d0887\"],[0.1111111111111111,\"#46039f\"],[0.2222222222222222,\"#7201a8\"],[0.3333333333333333,\"#9c179e\"],[0.4444444444444444,\"#bd3786\"],[0.5555555555555556,\"#d8576b\"],[0.6666666666666666,\"#ed7953\"],[0.7777777777777778,\"#fb9f3a\"],[0.8888888888888888,\"#fdca26\"],[1.0,\"#f0f921\"]],\"type\":\"heatmapgl\"}],\"histogram\":[{\"marker\":{\"pattern\":{\"fillmode\":\"overlay\",\"size\":10,\"solidity\":0.2}},\"type\":\"histogram\"}],\"histogram2d\":[{\"colorbar\":{\"outlinewidth\":0,\"ticks\":\"\"},\"colorscale\":[[0.0,\"#0d0887\"],[0.1111111111111111,\"#46039f\"],[0.2222222222222222,\"#7201a8\"],[0.3333333333333333,\"#9c179e\"],[0.4444444444444444,\"#bd3786\"],[0.5555555555555556,\"#d8576b\"],[0.6666666666666666,\"#ed7953\"],[0.7777777777777778,\"#fb9f3a\"],[0.8888888888888888,\"#fdca26\"],[1.0,\"#f0f921\"]],\"type\":\"histogram2d\"}],\"histogram2dcontour\":[{\"colorbar\":{\"outlinewidth\":0,\"ticks\":\"\"},\"colorscale\":[[0.0,\"#0d0887\"],[0.1111111111111111,\"#46039f\"],[0.2222222222222222,\"#7201a8\"],[0.3333333333333333,\"#9c179e\"],[0.4444444444444444,\"#bd3786\"],[0.5555555555555556,\"#d8576b\"],[0.6666666666666666,\"#ed7953\"],[0.7777777777777778,\"#fb9f3a\"],[0.8888888888888888,\"#fdca26\"],[1.0,\"#f0f921\"]],\"type\":\"histogram2dcontour\"}],\"mesh3d\":[{\"colorbar\":{\"outlinewidth\":0,\"ticks\":\"\"},\"type\":\"mesh3d\"}],\"parcoords\":[{\"line\":{\"colorbar\":{\"outlinewidth\":0,\"ticks\":\"\"}},\"type\":\"parcoords\"}],\"pie\":[{\"automargin\":true,\"type\":\"pie\"}],\"scatter\":[{\"marker\":{\"colorbar\":{\"outlinewidth\":0,\"ticks\":\"\"}},\"type\":\"scatter\"}],\"scatter3d\":[{\"line\":{\"colorbar\":{\"outlinewidth\":0,\"ticks\":\"\"}},\"marker\":{\"colorbar\":{\"outlinewidth\":0,\"ticks\":\"\"}},\"type\":\"scatter3d\"}],\"scattercarpet\":[{\"marker\":{\"colorbar\":{\"outlinewidth\":0,\"ticks\":\"\"}},\"type\":\"scattercarpet\"}],\"scattergeo\":[{\"marker\":{\"colorbar\":{\"outlinewidth\":0,\"ticks\":\"\"}},\"type\":\"scattergeo\"}],\"scattergl\":[{\"marker\":{\"colorbar\":{\"outlinewidth\":0,\"ticks\":\"\"}},\"type\":\"scattergl\"}],\"scattermapbox\":[{\"marker\":{\"colorbar\":{\"outlinewidth\":0,\"ticks\":\"\"}},\"type\":\"scattermapbox\"}],\"scatterpolar\":[{\"marker\":{\"colorbar\":{\"outlinewidth\":0,\"ticks\":\"\"}},\"type\":\"scatterpolar\"}],\"scatterpolargl\":[{\"marker\":{\"colorbar\":{\"outlinewidth\":0,\"ticks\":\"\"}},\"type\":\"scatterpolargl\"}],\"scatterternary\":[{\"marker\":{\"colorbar\":{\"outlinewidth\":0,\"ticks\":\"\"}},\"type\":\"scatterternary\"}],\"surface\":[{\"colorbar\":{\"outlinewidth\":0,\"ticks\":\"\"},\"colorscale\":[[0.0,\"#0d0887\"],[0.1111111111111111,\"#46039f\"],[0.2222222222222222,\"#7201a8\"],[0.3333333333333333,\"#9c179e\"],[0.4444444444444444,\"#bd3786\"],[0.5555555555555556,\"#d8576b\"],[0.6666666666666666,\"#ed7953\"],[0.7777777777777778,\"#fb9f3a\"],[0.8888888888888888,\"#fdca26\"],[1.0,\"#f0f921\"]],\"type\":\"surface\"}],\"table\":[{\"cells\":{\"fill\":{\"color\":\"#EBF0F8\"},\"line\":{\"color\":\"white\"}},\"header\":{\"fill\":{\"color\":\"#C8D4E3\"},\"line\":{\"color\":\"white\"}},\"type\":\"table\"}]},\"layout\":{\"annotationdefaults\":{\"arrowcolor\":\"#2a3f5f\",\"arrowhead\":0,\"arrowwidth\":1},\"autotypenumbers\":\"strict\",\"coloraxis\":{\"colorbar\":{\"outlinewidth\":0,\"ticks\":\"\"}},\"colorscale\":{\"diverging\":[[0,\"#8e0152\"],[0.1,\"#c51b7d\"],[0.2,\"#de77ae\"],[0.3,\"#f1b6da\"],[0.4,\"#fde0ef\"],[0.5,\"#f7f7f7\"],[0.6,\"#e6f5d0\"],[0.7,\"#b8e186\"],[0.8,\"#7fbc41\"],[0.9,\"#4d9221\"],[1,\"#276419\"]],\"sequential\":[[0.0,\"#0d0887\"],[0.1111111111111111,\"#46039f\"],[0.2222222222222222,\"#7201a8\"],[0.3333333333333333,\"#9c179e\"],[0.4444444444444444,\"#bd3786\"],[0.5555555555555556,\"#d8576b\"],[0.6666666666666666,\"#ed7953\"],[0.7777777777777778,\"#fb9f3a\"],[0.8888888888888888,\"#fdca26\"],[1.0,\"#f0f921\"]],\"sequentialminus\":[[0.0,\"#0d0887\"],[0.1111111111111111,\"#46039f\"],[0.2222222222222222,\"#7201a8\"],[0.3333333333333333,\"#9c179e\"],[0.4444444444444444,\"#bd3786\"],[0.5555555555555556,\"#d8576b\"],[0.6666666666666666,\"#ed7953\"],[0.7777777777777778,\"#fb9f3a\"],[0.8888888888888888,\"#fdca26\"],[1.0,\"#f0f921\"]]},\"colorway\":[\"#636efa\",\"#EF553B\",\"#00cc96\",\"#ab63fa\",\"#FFA15A\",\"#19d3f3\",\"#FF6692\",\"#B6E880\",\"#FF97FF\",\"#FECB52\"],\"font\":{\"color\":\"#2a3f5f\"},\"geo\":{\"bgcolor\":\"white\",\"lakecolor\":\"white\",\"landcolor\":\"#E5ECF6\",\"showlakes\":true,\"showland\":true,\"subunitcolor\":\"white\"},\"hoverlabel\":{\"align\":\"left\"},\"hovermode\":\"closest\",\"mapbox\":{\"style\":\"light\"},\"paper_bgcolor\":\"white\",\"plot_bgcolor\":\"#E5ECF6\",\"polar\":{\"angularaxis\":{\"gridcolor\":\"white\",\"linecolor\":\"white\",\"ticks\":\"\"},\"bgcolor\":\"#E5ECF6\",\"radialaxis\":{\"gridcolor\":\"white\",\"linecolor\":\"white\",\"ticks\":\"\"}},\"scene\":{\"xaxis\":{\"backgroundcolor\":\"#E5ECF6\",\"gridcolor\":\"white\",\"gridwidth\":2,\"linecolor\":\"white\",\"showbackground\":true,\"ticks\":\"\",\"zerolinecolor\":\"white\"},\"yaxis\":{\"backgroundcolor\":\"#E5ECF6\",\"gridcolor\":\"white\",\"gridwidth\":2,\"linecolor\":\"white\",\"showbackground\":true,\"ticks\":\"\",\"zerolinecolor\":\"white\"},\"zaxis\":{\"backgroundcolor\":\"#E5ECF6\",\"gridcolor\":\"white\",\"gridwidth\":2,\"linecolor\":\"white\",\"showbackground\":true,\"ticks\":\"\",\"zerolinecolor\":\"white\"}},\"shapedefaults\":{\"line\":{\"color\":\"#2a3f5f\"}},\"ternary\":{\"aaxis\":{\"gridcolor\":\"white\",\"linecolor\":\"white\",\"ticks\":\"\"},\"baxis\":{\"gridcolor\":\"white\",\"linecolor\":\"white\",\"ticks\":\"\"},\"bgcolor\":\"#E5ECF6\",\"caxis\":{\"gridcolor\":\"white\",\"linecolor\":\"white\",\"ticks\":\"\"}},\"title\":{\"x\":0.05},\"xaxis\":{\"automargin\":true,\"gridcolor\":\"white\",\"linecolor\":\"white\",\"ticks\":\"\",\"title\":{\"standoff\":15},\"zerolinecolor\":\"white\",\"zerolinewidth\":2},\"yaxis\":{\"automargin\":true,\"gridcolor\":\"white\",\"linecolor\":\"white\",\"ticks\":\"\",\"title\":{\"standoff\":15},\"zerolinecolor\":\"white\",\"zerolinewidth\":2}}},\"title\":{\"text\":\"Graph Degree Time Sereies\",\"y\":0.95,\"x\":0.5,\"xanchor\":\"center\",\"yanchor\":\"top\"},\"font\":{\"family\":\"Courier New, monospace\",\"size\":12,\"color\":\"RebeccaPurple\"},\"xaxis\":{\"title\":{\"text\":\"Scene\"}},\"yaxis\":{\"title\":{\"text\":\"Degree\"}},\"legend\":{\"title\":{\"text\":\"Character\"}},\"paper_bgcolor\":\"rgba(0,0,0,0)\",\"plot_bgcolor\":\"rgba(0,0,0,0)\"},                        {\"responsive\": true}                    ).then(function(){\n",
       "                            \n",
       "var gd = document.getElementById('e6d1a66c-5e60-4f5f-8a09-40873c233535');\n",
       "var x = new MutationObserver(function (mutations, observer) {{\n",
       "        var display = window.getComputedStyle(gd).display;\n",
       "        if (!display || display === 'none') {{\n",
       "            console.log([gd, 'removed!']);\n",
       "            Plotly.purge(gd);\n",
       "            observer.disconnect();\n",
       "        }}\n",
       "}});\n",
       "\n",
       "// Listen for the removal of the full notebook cells\n",
       "var notebookContainer = gd.closest('#notebook-container');\n",
       "if (notebookContainer) {{\n",
       "    x.observe(notebookContainer, {childList: true});\n",
       "}}\n",
       "\n",
       "// Listen for the clearing of the current output cell\n",
       "var outputEl = gd.closest('.output');\n",
       "if (outputEl) {{\n",
       "    x.observe(outputEl, {childList: true});\n",
       "}}\n",
       "\n",
       "                        })                };                });            </script>        </div>"
      ]
     },
     "metadata": {},
     "output_type": "display_data"
    },
    {
     "data": {
      "application/vnd.plotly.v1+json": {
       "config": {
        "plotlyServerURL": "https://plot.ly"
       },
       "data": [
        {
         "mode": "lines",
         "name": "Nodes",
         "type": "scatter",
         "x": [
          10,
          20,
          30,
          40,
          50,
          60,
          70,
          80,
          90,
          100,
          110,
          120,
          130,
          140,
          150,
          160,
          170,
          180,
          190,
          200,
          210,
          220,
          230,
          240,
          250,
          260,
          270,
          280,
          290,
          300,
          310,
          320
         ],
         "xaxis": "x",
         "y": [
          14,
          14,
          14,
          14,
          14,
          14,
          14,
          14,
          14,
          14,
          17,
          17,
          17,
          17,
          17,
          17,
          17,
          17,
          17,
          17,
          15,
          15,
          15,
          15,
          15,
          15,
          15,
          15,
          15,
          15,
          17,
          17
         ],
         "yaxis": "y"
        },
        {
         "mode": "lines",
         "name": "Density",
         "type": "scatter",
         "x": [
          10,
          20,
          30,
          40,
          50,
          60,
          70,
          80,
          90,
          100,
          110,
          120,
          130,
          140,
          150,
          160,
          170,
          180,
          190,
          200,
          210,
          220,
          230,
          240,
          250,
          260,
          270,
          280,
          290,
          300,
          310,
          320
         ],
         "xaxis": "x",
         "y": [
          0.1758241758241758,
          0.1758241758241758,
          0.1758241758241758,
          0.1758241758241758,
          0.1758241758241758,
          0.1758241758241758,
          0.1758241758241758,
          0.1758241758241758,
          0.1758241758241758,
          0.1758241758241758,
          0.1323529411764706,
          0.1323529411764706,
          0.1323529411764706,
          0.1323529411764706,
          0.1323529411764706,
          0.1323529411764706,
          0.1323529411764706,
          0.1323529411764706,
          0.1323529411764706,
          0.1323529411764706,
          0.1619047619047619,
          0.1619047619047619,
          0.1619047619047619,
          0.1619047619047619,
          0.1619047619047619,
          0.1619047619047619,
          0.1619047619047619,
          0.1619047619047619,
          0.1619047619047619,
          0.1619047619047619,
          0.11029411764705882,
          0.11029411764705882
         ],
         "yaxis": "y2"
        }
       ],
       "layout": {
        "paper_bgcolor": "rgba(0,0,0,0)",
        "plot_bgcolor": "rgba(0,0,0,0)",
        "template": {
         "data": {
          "bar": [
           {
            "error_x": {
             "color": "#2a3f5f"
            },
            "error_y": {
             "color": "#2a3f5f"
            },
            "marker": {
             "line": {
              "color": "#E5ECF6",
              "width": 0.5
             },
             "pattern": {
              "fillmode": "overlay",
              "size": 10,
              "solidity": 0.2
             }
            },
            "type": "bar"
           }
          ],
          "barpolar": [
           {
            "marker": {
             "line": {
              "color": "#E5ECF6",
              "width": 0.5
             },
             "pattern": {
              "fillmode": "overlay",
              "size": 10,
              "solidity": 0.2
             }
            },
            "type": "barpolar"
           }
          ],
          "carpet": [
           {
            "aaxis": {
             "endlinecolor": "#2a3f5f",
             "gridcolor": "white",
             "linecolor": "white",
             "minorgridcolor": "white",
             "startlinecolor": "#2a3f5f"
            },
            "baxis": {
             "endlinecolor": "#2a3f5f",
             "gridcolor": "white",
             "linecolor": "white",
             "minorgridcolor": "white",
             "startlinecolor": "#2a3f5f"
            },
            "type": "carpet"
           }
          ],
          "choropleth": [
           {
            "colorbar": {
             "outlinewidth": 0,
             "ticks": ""
            },
            "type": "choropleth"
           }
          ],
          "contour": [
           {
            "colorbar": {
             "outlinewidth": 0,
             "ticks": ""
            },
            "colorscale": [
             [
              0,
              "#0d0887"
             ],
             [
              0.1111111111111111,
              "#46039f"
             ],
             [
              0.2222222222222222,
              "#7201a8"
             ],
             [
              0.3333333333333333,
              "#9c179e"
             ],
             [
              0.4444444444444444,
              "#bd3786"
             ],
             [
              0.5555555555555556,
              "#d8576b"
             ],
             [
              0.6666666666666666,
              "#ed7953"
             ],
             [
              0.7777777777777778,
              "#fb9f3a"
             ],
             [
              0.8888888888888888,
              "#fdca26"
             ],
             [
              1,
              "#f0f921"
             ]
            ],
            "type": "contour"
           }
          ],
          "contourcarpet": [
           {
            "colorbar": {
             "outlinewidth": 0,
             "ticks": ""
            },
            "type": "contourcarpet"
           }
          ],
          "heatmap": [
           {
            "colorbar": {
             "outlinewidth": 0,
             "ticks": ""
            },
            "colorscale": [
             [
              0,
              "#0d0887"
             ],
             [
              0.1111111111111111,
              "#46039f"
             ],
             [
              0.2222222222222222,
              "#7201a8"
             ],
             [
              0.3333333333333333,
              "#9c179e"
             ],
             [
              0.4444444444444444,
              "#bd3786"
             ],
             [
              0.5555555555555556,
              "#d8576b"
             ],
             [
              0.6666666666666666,
              "#ed7953"
             ],
             [
              0.7777777777777778,
              "#fb9f3a"
             ],
             [
              0.8888888888888888,
              "#fdca26"
             ],
             [
              1,
              "#f0f921"
             ]
            ],
            "type": "heatmap"
           }
          ],
          "heatmapgl": [
           {
            "colorbar": {
             "outlinewidth": 0,
             "ticks": ""
            },
            "colorscale": [
             [
              0,
              "#0d0887"
             ],
             [
              0.1111111111111111,
              "#46039f"
             ],
             [
              0.2222222222222222,
              "#7201a8"
             ],
             [
              0.3333333333333333,
              "#9c179e"
             ],
             [
              0.4444444444444444,
              "#bd3786"
             ],
             [
              0.5555555555555556,
              "#d8576b"
             ],
             [
              0.6666666666666666,
              "#ed7953"
             ],
             [
              0.7777777777777778,
              "#fb9f3a"
             ],
             [
              0.8888888888888888,
              "#fdca26"
             ],
             [
              1,
              "#f0f921"
             ]
            ],
            "type": "heatmapgl"
           }
          ],
          "histogram": [
           {
            "marker": {
             "pattern": {
              "fillmode": "overlay",
              "size": 10,
              "solidity": 0.2
             }
            },
            "type": "histogram"
           }
          ],
          "histogram2d": [
           {
            "colorbar": {
             "outlinewidth": 0,
             "ticks": ""
            },
            "colorscale": [
             [
              0,
              "#0d0887"
             ],
             [
              0.1111111111111111,
              "#46039f"
             ],
             [
              0.2222222222222222,
              "#7201a8"
             ],
             [
              0.3333333333333333,
              "#9c179e"
             ],
             [
              0.4444444444444444,
              "#bd3786"
             ],
             [
              0.5555555555555556,
              "#d8576b"
             ],
             [
              0.6666666666666666,
              "#ed7953"
             ],
             [
              0.7777777777777778,
              "#fb9f3a"
             ],
             [
              0.8888888888888888,
              "#fdca26"
             ],
             [
              1,
              "#f0f921"
             ]
            ],
            "type": "histogram2d"
           }
          ],
          "histogram2dcontour": [
           {
            "colorbar": {
             "outlinewidth": 0,
             "ticks": ""
            },
            "colorscale": [
             [
              0,
              "#0d0887"
             ],
             [
              0.1111111111111111,
              "#46039f"
             ],
             [
              0.2222222222222222,
              "#7201a8"
             ],
             [
              0.3333333333333333,
              "#9c179e"
             ],
             [
              0.4444444444444444,
              "#bd3786"
             ],
             [
              0.5555555555555556,
              "#d8576b"
             ],
             [
              0.6666666666666666,
              "#ed7953"
             ],
             [
              0.7777777777777778,
              "#fb9f3a"
             ],
             [
              0.8888888888888888,
              "#fdca26"
             ],
             [
              1,
              "#f0f921"
             ]
            ],
            "type": "histogram2dcontour"
           }
          ],
          "mesh3d": [
           {
            "colorbar": {
             "outlinewidth": 0,
             "ticks": ""
            },
            "type": "mesh3d"
           }
          ],
          "parcoords": [
           {
            "line": {
             "colorbar": {
              "outlinewidth": 0,
              "ticks": ""
             }
            },
            "type": "parcoords"
           }
          ],
          "pie": [
           {
            "automargin": true,
            "type": "pie"
           }
          ],
          "scatter": [
           {
            "marker": {
             "colorbar": {
              "outlinewidth": 0,
              "ticks": ""
             }
            },
            "type": "scatter"
           }
          ],
          "scatter3d": [
           {
            "line": {
             "colorbar": {
              "outlinewidth": 0,
              "ticks": ""
             }
            },
            "marker": {
             "colorbar": {
              "outlinewidth": 0,
              "ticks": ""
             }
            },
            "type": "scatter3d"
           }
          ],
          "scattercarpet": [
           {
            "marker": {
             "colorbar": {
              "outlinewidth": 0,
              "ticks": ""
             }
            },
            "type": "scattercarpet"
           }
          ],
          "scattergeo": [
           {
            "marker": {
             "colorbar": {
              "outlinewidth": 0,
              "ticks": ""
             }
            },
            "type": "scattergeo"
           }
          ],
          "scattergl": [
           {
            "marker": {
             "colorbar": {
              "outlinewidth": 0,
              "ticks": ""
             }
            },
            "type": "scattergl"
           }
          ],
          "scattermapbox": [
           {
            "marker": {
             "colorbar": {
              "outlinewidth": 0,
              "ticks": ""
             }
            },
            "type": "scattermapbox"
           }
          ],
          "scatterpolar": [
           {
            "marker": {
             "colorbar": {
              "outlinewidth": 0,
              "ticks": ""
             }
            },
            "type": "scatterpolar"
           }
          ],
          "scatterpolargl": [
           {
            "marker": {
             "colorbar": {
              "outlinewidth": 0,
              "ticks": ""
             }
            },
            "type": "scatterpolargl"
           }
          ],
          "scatterternary": [
           {
            "marker": {
             "colorbar": {
              "outlinewidth": 0,
              "ticks": ""
             }
            },
            "type": "scatterternary"
           }
          ],
          "surface": [
           {
            "colorbar": {
             "outlinewidth": 0,
             "ticks": ""
            },
            "colorscale": [
             [
              0,
              "#0d0887"
             ],
             [
              0.1111111111111111,
              "#46039f"
             ],
             [
              0.2222222222222222,
              "#7201a8"
             ],
             [
              0.3333333333333333,
              "#9c179e"
             ],
             [
              0.4444444444444444,
              "#bd3786"
             ],
             [
              0.5555555555555556,
              "#d8576b"
             ],
             [
              0.6666666666666666,
              "#ed7953"
             ],
             [
              0.7777777777777778,
              "#fb9f3a"
             ],
             [
              0.8888888888888888,
              "#fdca26"
             ],
             [
              1,
              "#f0f921"
             ]
            ],
            "type": "surface"
           }
          ],
          "table": [
           {
            "cells": {
             "fill": {
              "color": "#EBF0F8"
             },
             "line": {
              "color": "white"
             }
            },
            "header": {
             "fill": {
              "color": "#C8D4E3"
             },
             "line": {
              "color": "white"
             }
            },
            "type": "table"
           }
          ]
         },
         "layout": {
          "annotationdefaults": {
           "arrowcolor": "#2a3f5f",
           "arrowhead": 0,
           "arrowwidth": 1
          },
          "autotypenumbers": "strict",
          "coloraxis": {
           "colorbar": {
            "outlinewidth": 0,
            "ticks": ""
           }
          },
          "colorscale": {
           "diverging": [
            [
             0,
             "#8e0152"
            ],
            [
             0.1,
             "#c51b7d"
            ],
            [
             0.2,
             "#de77ae"
            ],
            [
             0.3,
             "#f1b6da"
            ],
            [
             0.4,
             "#fde0ef"
            ],
            [
             0.5,
             "#f7f7f7"
            ],
            [
             0.6,
             "#e6f5d0"
            ],
            [
             0.7,
             "#b8e186"
            ],
            [
             0.8,
             "#7fbc41"
            ],
            [
             0.9,
             "#4d9221"
            ],
            [
             1,
             "#276419"
            ]
           ],
           "sequential": [
            [
             0,
             "#0d0887"
            ],
            [
             0.1111111111111111,
             "#46039f"
            ],
            [
             0.2222222222222222,
             "#7201a8"
            ],
            [
             0.3333333333333333,
             "#9c179e"
            ],
            [
             0.4444444444444444,
             "#bd3786"
            ],
            [
             0.5555555555555556,
             "#d8576b"
            ],
            [
             0.6666666666666666,
             "#ed7953"
            ],
            [
             0.7777777777777778,
             "#fb9f3a"
            ],
            [
             0.8888888888888888,
             "#fdca26"
            ],
            [
             1,
             "#f0f921"
            ]
           ],
           "sequentialminus": [
            [
             0,
             "#0d0887"
            ],
            [
             0.1111111111111111,
             "#46039f"
            ],
            [
             0.2222222222222222,
             "#7201a8"
            ],
            [
             0.3333333333333333,
             "#9c179e"
            ],
            [
             0.4444444444444444,
             "#bd3786"
            ],
            [
             0.5555555555555556,
             "#d8576b"
            ],
            [
             0.6666666666666666,
             "#ed7953"
            ],
            [
             0.7777777777777778,
             "#fb9f3a"
            ],
            [
             0.8888888888888888,
             "#fdca26"
            ],
            [
             1,
             "#f0f921"
            ]
           ]
          },
          "colorway": [
           "#636efa",
           "#EF553B",
           "#00cc96",
           "#ab63fa",
           "#FFA15A",
           "#19d3f3",
           "#FF6692",
           "#B6E880",
           "#FF97FF",
           "#FECB52"
          ],
          "font": {
           "color": "#2a3f5f"
          },
          "geo": {
           "bgcolor": "white",
           "lakecolor": "white",
           "landcolor": "#E5ECF6",
           "showlakes": true,
           "showland": true,
           "subunitcolor": "white"
          },
          "hoverlabel": {
           "align": "left"
          },
          "hovermode": "closest",
          "mapbox": {
           "style": "light"
          },
          "paper_bgcolor": "white",
          "plot_bgcolor": "#E5ECF6",
          "polar": {
           "angularaxis": {
            "gridcolor": "white",
            "linecolor": "white",
            "ticks": ""
           },
           "bgcolor": "#E5ECF6",
           "radialaxis": {
            "gridcolor": "white",
            "linecolor": "white",
            "ticks": ""
           }
          },
          "scene": {
           "xaxis": {
            "backgroundcolor": "#E5ECF6",
            "gridcolor": "white",
            "gridwidth": 2,
            "linecolor": "white",
            "showbackground": true,
            "ticks": "",
            "zerolinecolor": "white"
           },
           "yaxis": {
            "backgroundcolor": "#E5ECF6",
            "gridcolor": "white",
            "gridwidth": 2,
            "linecolor": "white",
            "showbackground": true,
            "ticks": "",
            "zerolinecolor": "white"
           },
           "zaxis": {
            "backgroundcolor": "#E5ECF6",
            "gridcolor": "white",
            "gridwidth": 2,
            "linecolor": "white",
            "showbackground": true,
            "ticks": "",
            "zerolinecolor": "white"
           }
          },
          "shapedefaults": {
           "line": {
            "color": "#2a3f5f"
           }
          },
          "ternary": {
           "aaxis": {
            "gridcolor": "white",
            "linecolor": "white",
            "ticks": ""
           },
           "baxis": {
            "gridcolor": "white",
            "linecolor": "white",
            "ticks": ""
           },
           "bgcolor": "#E5ECF6",
           "caxis": {
            "gridcolor": "white",
            "linecolor": "white",
            "ticks": ""
           }
          },
          "title": {
           "x": 0.05
          },
          "xaxis": {
           "automargin": true,
           "gridcolor": "white",
           "linecolor": "white",
           "ticks": "",
           "title": {
            "standoff": 15
           },
           "zerolinecolor": "white",
           "zerolinewidth": 2
          },
          "yaxis": {
           "automargin": true,
           "gridcolor": "white",
           "linecolor": "white",
           "ticks": "",
           "title": {
            "standoff": 15
           },
           "zerolinecolor": "white",
           "zerolinewidth": 2
          }
         }
        },
        "title": {
         "text": "Episode 1 Network Nodes and Density Time Sereies",
         "x": 0.5,
         "xanchor": "center",
         "y": 0.95,
         "yanchor": "top"
        },
        "xaxis": {
         "anchor": "y",
         "domain": [
          0,
          0.94
         ],
         "title": {
          "text": "Scene"
         }
        },
        "yaxis": {
         "anchor": "x",
         "domain": [
          0,
          1
         ],
         "title": {
          "text": "Nodes"
         }
        },
        "yaxis2": {
         "anchor": "x",
         "overlaying": "y",
         "side": "right",
         "title": {
          "text": "Density"
         }
        }
       }
      },
      "text/html": [
       "<div>                            <div id=\"510a3573-3c04-4040-a2b0-00bc9d8d4ef2\" class=\"plotly-graph-div\" style=\"height:525px; width:100%;\"></div>            <script type=\"text/javascript\">                require([\"plotly\"], function(Plotly) {                    window.PLOTLYENV=window.PLOTLYENV || {};                                    if (document.getElementById(\"510a3573-3c04-4040-a2b0-00bc9d8d4ef2\")) {                    Plotly.newPlot(                        \"510a3573-3c04-4040-a2b0-00bc9d8d4ef2\",                        [{\"mode\":\"lines\",\"name\":\"Nodes\",\"x\":[10,20,30,40,50,60,70,80,90,100,110,120,130,140,150,160,170,180,190,200,210,220,230,240,250,260,270,280,290,300,310,320],\"y\":[14,14,14,14,14,14,14,14,14,14,17,17,17,17,17,17,17,17,17,17,15,15,15,15,15,15,15,15,15,15,17,17],\"type\":\"scatter\",\"xaxis\":\"x\",\"yaxis\":\"y\"},{\"mode\":\"lines\",\"name\":\"Density\",\"x\":[10,20,30,40,50,60,70,80,90,100,110,120,130,140,150,160,170,180,190,200,210,220,230,240,250,260,270,280,290,300,310,320],\"y\":[0.1758241758241758,0.1758241758241758,0.1758241758241758,0.1758241758241758,0.1758241758241758,0.1758241758241758,0.1758241758241758,0.1758241758241758,0.1758241758241758,0.1758241758241758,0.1323529411764706,0.1323529411764706,0.1323529411764706,0.1323529411764706,0.1323529411764706,0.1323529411764706,0.1323529411764706,0.1323529411764706,0.1323529411764706,0.1323529411764706,0.1619047619047619,0.1619047619047619,0.1619047619047619,0.1619047619047619,0.1619047619047619,0.1619047619047619,0.1619047619047619,0.1619047619047619,0.1619047619047619,0.1619047619047619,0.11029411764705882,0.11029411764705882],\"type\":\"scatter\",\"xaxis\":\"x\",\"yaxis\":\"y2\"}],                        {\"template\":{\"data\":{\"bar\":[{\"error_x\":{\"color\":\"#2a3f5f\"},\"error_y\":{\"color\":\"#2a3f5f\"},\"marker\":{\"line\":{\"color\":\"#E5ECF6\",\"width\":0.5},\"pattern\":{\"fillmode\":\"overlay\",\"size\":10,\"solidity\":0.2}},\"type\":\"bar\"}],\"barpolar\":[{\"marker\":{\"line\":{\"color\":\"#E5ECF6\",\"width\":0.5},\"pattern\":{\"fillmode\":\"overlay\",\"size\":10,\"solidity\":0.2}},\"type\":\"barpolar\"}],\"carpet\":[{\"aaxis\":{\"endlinecolor\":\"#2a3f5f\",\"gridcolor\":\"white\",\"linecolor\":\"white\",\"minorgridcolor\":\"white\",\"startlinecolor\":\"#2a3f5f\"},\"baxis\":{\"endlinecolor\":\"#2a3f5f\",\"gridcolor\":\"white\",\"linecolor\":\"white\",\"minorgridcolor\":\"white\",\"startlinecolor\":\"#2a3f5f\"},\"type\":\"carpet\"}],\"choropleth\":[{\"colorbar\":{\"outlinewidth\":0,\"ticks\":\"\"},\"type\":\"choropleth\"}],\"contour\":[{\"colorbar\":{\"outlinewidth\":0,\"ticks\":\"\"},\"colorscale\":[[0.0,\"#0d0887\"],[0.1111111111111111,\"#46039f\"],[0.2222222222222222,\"#7201a8\"],[0.3333333333333333,\"#9c179e\"],[0.4444444444444444,\"#bd3786\"],[0.5555555555555556,\"#d8576b\"],[0.6666666666666666,\"#ed7953\"],[0.7777777777777778,\"#fb9f3a\"],[0.8888888888888888,\"#fdca26\"],[1.0,\"#f0f921\"]],\"type\":\"contour\"}],\"contourcarpet\":[{\"colorbar\":{\"outlinewidth\":0,\"ticks\":\"\"},\"type\":\"contourcarpet\"}],\"heatmap\":[{\"colorbar\":{\"outlinewidth\":0,\"ticks\":\"\"},\"colorscale\":[[0.0,\"#0d0887\"],[0.1111111111111111,\"#46039f\"],[0.2222222222222222,\"#7201a8\"],[0.3333333333333333,\"#9c179e\"],[0.4444444444444444,\"#bd3786\"],[0.5555555555555556,\"#d8576b\"],[0.6666666666666666,\"#ed7953\"],[0.7777777777777778,\"#fb9f3a\"],[0.8888888888888888,\"#fdca26\"],[1.0,\"#f0f921\"]],\"type\":\"heatmap\"}],\"heatmapgl\":[{\"colorbar\":{\"outlinewidth\":0,\"ticks\":\"\"},\"colorscale\":[[0.0,\"#0d0887\"],[0.1111111111111111,\"#46039f\"],[0.2222222222222222,\"#7201a8\"],[0.3333333333333333,\"#9c179e\"],[0.4444444444444444,\"#bd3786\"],[0.5555555555555556,\"#d8576b\"],[0.6666666666666666,\"#ed7953\"],[0.7777777777777778,\"#fb9f3a\"],[0.8888888888888888,\"#fdca26\"],[1.0,\"#f0f921\"]],\"type\":\"heatmapgl\"}],\"histogram\":[{\"marker\":{\"pattern\":{\"fillmode\":\"overlay\",\"size\":10,\"solidity\":0.2}},\"type\":\"histogram\"}],\"histogram2d\":[{\"colorbar\":{\"outlinewidth\":0,\"ticks\":\"\"},\"colorscale\":[[0.0,\"#0d0887\"],[0.1111111111111111,\"#46039f\"],[0.2222222222222222,\"#7201a8\"],[0.3333333333333333,\"#9c179e\"],[0.4444444444444444,\"#bd3786\"],[0.5555555555555556,\"#d8576b\"],[0.6666666666666666,\"#ed7953\"],[0.7777777777777778,\"#fb9f3a\"],[0.8888888888888888,\"#fdca26\"],[1.0,\"#f0f921\"]],\"type\":\"histogram2d\"}],\"histogram2dcontour\":[{\"colorbar\":{\"outlinewidth\":0,\"ticks\":\"\"},\"colorscale\":[[0.0,\"#0d0887\"],[0.1111111111111111,\"#46039f\"],[0.2222222222222222,\"#7201a8\"],[0.3333333333333333,\"#9c179e\"],[0.4444444444444444,\"#bd3786\"],[0.5555555555555556,\"#d8576b\"],[0.6666666666666666,\"#ed7953\"],[0.7777777777777778,\"#fb9f3a\"],[0.8888888888888888,\"#fdca26\"],[1.0,\"#f0f921\"]],\"type\":\"histogram2dcontour\"}],\"mesh3d\":[{\"colorbar\":{\"outlinewidth\":0,\"ticks\":\"\"},\"type\":\"mesh3d\"}],\"parcoords\":[{\"line\":{\"colorbar\":{\"outlinewidth\":0,\"ticks\":\"\"}},\"type\":\"parcoords\"}],\"pie\":[{\"automargin\":true,\"type\":\"pie\"}],\"scatter\":[{\"marker\":{\"colorbar\":{\"outlinewidth\":0,\"ticks\":\"\"}},\"type\":\"scatter\"}],\"scatter3d\":[{\"line\":{\"colorbar\":{\"outlinewidth\":0,\"ticks\":\"\"}},\"marker\":{\"colorbar\":{\"outlinewidth\":0,\"ticks\":\"\"}},\"type\":\"scatter3d\"}],\"scattercarpet\":[{\"marker\":{\"colorbar\":{\"outlinewidth\":0,\"ticks\":\"\"}},\"type\":\"scattercarpet\"}],\"scattergeo\":[{\"marker\":{\"colorbar\":{\"outlinewidth\":0,\"ticks\":\"\"}},\"type\":\"scattergeo\"}],\"scattergl\":[{\"marker\":{\"colorbar\":{\"outlinewidth\":0,\"ticks\":\"\"}},\"type\":\"scattergl\"}],\"scattermapbox\":[{\"marker\":{\"colorbar\":{\"outlinewidth\":0,\"ticks\":\"\"}},\"type\":\"scattermapbox\"}],\"scatterpolar\":[{\"marker\":{\"colorbar\":{\"outlinewidth\":0,\"ticks\":\"\"}},\"type\":\"scatterpolar\"}],\"scatterpolargl\":[{\"marker\":{\"colorbar\":{\"outlinewidth\":0,\"ticks\":\"\"}},\"type\":\"scatterpolargl\"}],\"scatterternary\":[{\"marker\":{\"colorbar\":{\"outlinewidth\":0,\"ticks\":\"\"}},\"type\":\"scatterternary\"}],\"surface\":[{\"colorbar\":{\"outlinewidth\":0,\"ticks\":\"\"},\"colorscale\":[[0.0,\"#0d0887\"],[0.1111111111111111,\"#46039f\"],[0.2222222222222222,\"#7201a8\"],[0.3333333333333333,\"#9c179e\"],[0.4444444444444444,\"#bd3786\"],[0.5555555555555556,\"#d8576b\"],[0.6666666666666666,\"#ed7953\"],[0.7777777777777778,\"#fb9f3a\"],[0.8888888888888888,\"#fdca26\"],[1.0,\"#f0f921\"]],\"type\":\"surface\"}],\"table\":[{\"cells\":{\"fill\":{\"color\":\"#EBF0F8\"},\"line\":{\"color\":\"white\"}},\"header\":{\"fill\":{\"color\":\"#C8D4E3\"},\"line\":{\"color\":\"white\"}},\"type\":\"table\"}]},\"layout\":{\"annotationdefaults\":{\"arrowcolor\":\"#2a3f5f\",\"arrowhead\":0,\"arrowwidth\":1},\"autotypenumbers\":\"strict\",\"coloraxis\":{\"colorbar\":{\"outlinewidth\":0,\"ticks\":\"\"}},\"colorscale\":{\"diverging\":[[0,\"#8e0152\"],[0.1,\"#c51b7d\"],[0.2,\"#de77ae\"],[0.3,\"#f1b6da\"],[0.4,\"#fde0ef\"],[0.5,\"#f7f7f7\"],[0.6,\"#e6f5d0\"],[0.7,\"#b8e186\"],[0.8,\"#7fbc41\"],[0.9,\"#4d9221\"],[1,\"#276419\"]],\"sequential\":[[0.0,\"#0d0887\"],[0.1111111111111111,\"#46039f\"],[0.2222222222222222,\"#7201a8\"],[0.3333333333333333,\"#9c179e\"],[0.4444444444444444,\"#bd3786\"],[0.5555555555555556,\"#d8576b\"],[0.6666666666666666,\"#ed7953\"],[0.7777777777777778,\"#fb9f3a\"],[0.8888888888888888,\"#fdca26\"],[1.0,\"#f0f921\"]],\"sequentialminus\":[[0.0,\"#0d0887\"],[0.1111111111111111,\"#46039f\"],[0.2222222222222222,\"#7201a8\"],[0.3333333333333333,\"#9c179e\"],[0.4444444444444444,\"#bd3786\"],[0.5555555555555556,\"#d8576b\"],[0.6666666666666666,\"#ed7953\"],[0.7777777777777778,\"#fb9f3a\"],[0.8888888888888888,\"#fdca26\"],[1.0,\"#f0f921\"]]},\"colorway\":[\"#636efa\",\"#EF553B\",\"#00cc96\",\"#ab63fa\",\"#FFA15A\",\"#19d3f3\",\"#FF6692\",\"#B6E880\",\"#FF97FF\",\"#FECB52\"],\"font\":{\"color\":\"#2a3f5f\"},\"geo\":{\"bgcolor\":\"white\",\"lakecolor\":\"white\",\"landcolor\":\"#E5ECF6\",\"showlakes\":true,\"showland\":true,\"subunitcolor\":\"white\"},\"hoverlabel\":{\"align\":\"left\"},\"hovermode\":\"closest\",\"mapbox\":{\"style\":\"light\"},\"paper_bgcolor\":\"white\",\"plot_bgcolor\":\"#E5ECF6\",\"polar\":{\"angularaxis\":{\"gridcolor\":\"white\",\"linecolor\":\"white\",\"ticks\":\"\"},\"bgcolor\":\"#E5ECF6\",\"radialaxis\":{\"gridcolor\":\"white\",\"linecolor\":\"white\",\"ticks\":\"\"}},\"scene\":{\"xaxis\":{\"backgroundcolor\":\"#E5ECF6\",\"gridcolor\":\"white\",\"gridwidth\":2,\"linecolor\":\"white\",\"showbackground\":true,\"ticks\":\"\",\"zerolinecolor\":\"white\"},\"yaxis\":{\"backgroundcolor\":\"#E5ECF6\",\"gridcolor\":\"white\",\"gridwidth\":2,\"linecolor\":\"white\",\"showbackground\":true,\"ticks\":\"\",\"zerolinecolor\":\"white\"},\"zaxis\":{\"backgroundcolor\":\"#E5ECF6\",\"gridcolor\":\"white\",\"gridwidth\":2,\"linecolor\":\"white\",\"showbackground\":true,\"ticks\":\"\",\"zerolinecolor\":\"white\"}},\"shapedefaults\":{\"line\":{\"color\":\"#2a3f5f\"}},\"ternary\":{\"aaxis\":{\"gridcolor\":\"white\",\"linecolor\":\"white\",\"ticks\":\"\"},\"baxis\":{\"gridcolor\":\"white\",\"linecolor\":\"white\",\"ticks\":\"\"},\"bgcolor\":\"#E5ECF6\",\"caxis\":{\"gridcolor\":\"white\",\"linecolor\":\"white\",\"ticks\":\"\"}},\"title\":{\"x\":0.05},\"xaxis\":{\"automargin\":true,\"gridcolor\":\"white\",\"linecolor\":\"white\",\"ticks\":\"\",\"title\":{\"standoff\":15},\"zerolinecolor\":\"white\",\"zerolinewidth\":2},\"yaxis\":{\"automargin\":true,\"gridcolor\":\"white\",\"linecolor\":\"white\",\"ticks\":\"\",\"title\":{\"standoff\":15},\"zerolinecolor\":\"white\",\"zerolinewidth\":2}}},\"xaxis\":{\"anchor\":\"y\",\"domain\":[0.0,0.94],\"title\":{\"text\":\"Scene\"}},\"yaxis\":{\"anchor\":\"x\",\"domain\":[0.0,1.0],\"title\":{\"text\":\"Nodes\"}},\"yaxis2\":{\"anchor\":\"x\",\"overlaying\":\"y\",\"side\":\"right\",\"title\":{\"text\":\"Density\"}},\"title\":{\"text\":\"Episode 1 Network Nodes and Density Time Sereies\",\"y\":0.95,\"x\":0.5,\"xanchor\":\"center\",\"yanchor\":\"top\"},\"paper_bgcolor\":\"rgba(0,0,0,0)\",\"plot_bgcolor\":\"rgba(0,0,0,0)\"},                        {\"responsive\": true}                    ).then(function(){\n",
       "                            \n",
       "var gd = document.getElementById('510a3573-3c04-4040-a2b0-00bc9d8d4ef2');\n",
       "var x = new MutationObserver(function (mutations, observer) {{\n",
       "        var display = window.getComputedStyle(gd).display;\n",
       "        if (!display || display === 'none') {{\n",
       "            console.log([gd, 'removed!']);\n",
       "            Plotly.purge(gd);\n",
       "            observer.disconnect();\n",
       "        }}\n",
       "}});\n",
       "\n",
       "// Listen for the removal of the full notebook cells\n",
       "var notebookContainer = gd.closest('#notebook-container');\n",
       "if (notebookContainer) {{\n",
       "    x.observe(notebookContainer, {childList: true});\n",
       "}}\n",
       "\n",
       "// Listen for the clearing of the current output cell\n",
       "var outputEl = gd.closest('.output');\n",
       "if (outputEl) {{\n",
       "    x.observe(outputEl, {childList: true});\n",
       "}}\n",
       "\n",
       "                        })                };                });            </script>        </div>"
      ]
     },
     "metadata": {},
     "output_type": "display_data"
    }
   ],
   "source": [
    "import plotly.graph_objects as go\n",
    "from plotly.subplots import make_subplots\n",
    "\n",
    "def sort_dict_by_value(d, reverse = True):\n",
    "  return dict(sorted(d.items(), key = lambda x: x[1], reverse = reverse))\n",
    "\n",
    "def extract_ts(total_strength, ts_strength):\n",
    "    total_strength = sort_dict_by_value(total_strength)\n",
    "    #print(total_strength)\n",
    "  \n",
    "    first_5_strength = list(total_strength.items())[:5]\n",
    "    #print(first_3_strength)\n",
    "    \n",
    "    strength_series = []\n",
    "    for i in range(5):\n",
    "        p_ts = []\n",
    "        n = first_5_strength[i][0]\n",
    "        for d in ts_strength:\n",
    "            try:\n",
    "                p_ts.append(d[n])\n",
    "            except:\n",
    "                p_ts.append(0)\n",
    "        #print(p_ts, len(p_ts), sum(p_ts))\n",
    "        strength_series.append(p_ts)\n",
    "        \n",
    "    df_ts = pd.DataFrame(\n",
    "    { first_5_strength[0][0]: strength_series[0], \n",
    "      first_5_strength[1][0]: strength_series[1], \n",
    "      first_5_strength[2][0]: strength_series[2],\n",
    "      first_5_strength[3][0]: strength_series[3],\n",
    "      first_5_strength[4][0]: strength_series[4],})\n",
    "    \n",
    "    df_ts.insert(0, 'Scene', range(10, 10+ len(df_ts)*10, 10))\n",
    "    return df_ts\n",
    "\n",
    "\n",
    "def plot_ts(df, title, xtitle, ytitle,legendtitle):  \n",
    "    # Create figure\n",
    "    fig = go.Figure()\n",
    "\n",
    "    cols = []\n",
    "    for col in df.columns:\n",
    "        if (col != 'Scene'):\n",
    "            cols.append(col)\n",
    "    \n",
    "    # Loop df columns and plot columns to the figure\n",
    "    for col_name in cols:\n",
    "        fig.add_trace(go.Scatter(x=df['Scene'], y=df[col_name],\n",
    "                            mode='lines', # 'lines' or 'markers'\n",
    "                            name=col_name))\n",
    "\n",
    "    fig.update_layout(\n",
    "        title={\n",
    "            'text': title,\n",
    "            'y':0.95,\n",
    "            'x':0.5,\n",
    "            'xanchor': 'center',\n",
    "            'yanchor': 'top'},\n",
    "        xaxis_title=xtitle,\n",
    "        yaxis_title=ytitle,\n",
    "        legend_title=legendtitle,\n",
    "        paper_bgcolor='rgba(0,0,0,0)',\n",
    "        plot_bgcolor='rgba(0,0,0,0)',\n",
    " \n",
    "        font=dict(\n",
    "            family=\"Courier New, monospace\",\n",
    "            size=12,\n",
    "            color=\"RebeccaPurple\"\n",
    "        )\n",
    "    )\n",
    "    \n",
    "    fig.show()\n",
    "    \n",
    "    \n",
    "def plot_ts2(df, title, xtitle ):  \n",
    "    # Create figure with secondary y-axis\n",
    "    fig = make_subplots(specs=[[{\"secondary_y\": True}]])\n",
    "    \n",
    "    fig.add_trace(go.Scatter(x=df['Scene'], y=df['Nodes'],\n",
    "                            mode='lines', # 'lines' or 'markers'\n",
    "                            name='Nodes'), secondary_y=False)\n",
    "\n",
    "    fig.add_trace(go.Scatter(x=df['Scene'], y=df['Density'],\n",
    "                            mode='lines', # 'lines' or 'markers'\n",
    "                            name='Density'), secondary_y=True)\n",
    "    \n",
    "\n",
    "    # Add figure title\n",
    "    fig.update_layout(\n",
    "        title={\n",
    "            'text': title,\n",
    "            'y':0.95,\n",
    "            'x':0.5,\n",
    "            'xanchor': 'center',\n",
    "            'yanchor': 'top'},\n",
    "        paper_bgcolor='rgba(0,0,0,0)',\n",
    "        plot_bgcolor='rgba(0,0,0,0)'\n",
    "    )\n",
    "\n",
    "    # Set x-axis title\n",
    "    fig.update_xaxes(title_text=xtitle)\n",
    "\n",
    "    # Set y-axes titles\n",
    "    fig.update_yaxes(title_text=\"Nodes\", secondary_y=False)\n",
    "    fig.update_yaxes(title_text=\"Density\", secondary_y=True)\n",
    "\n",
    "\n",
    "    fig.show()\n",
    "    \n",
    "    \n",
    "def get_strength_degree(s, e, name = 'GoT_S0', path = 'Data/GoT_dyn_ts10/'):\n",
    "    edic = episode(s,e,name)\n",
    "    sorted_x = sorted(edic.items(), key=lambda kv: kv[1])\n",
    "    \n",
    "    ts_strength = []\n",
    "    ts_degree   = []\n",
    "    nodes = set()\n",
    " \n",
    "    for _, v in sorted_x:\n",
    " \n",
    "        g = readG(v, path)\n",
    "        d = node_dict(g)\n",
    "\n",
    "        #print(d)\n",
    "        strength_dic = {}\n",
    "        degree_dic = {}\n",
    "        nd = node_dict(g)\n",
    "        \n",
    "        for node1, node2, data in g.edges(data=True):\n",
    "            n1= nd[node1]\n",
    "            n2= nd[node2]\n",
    "            nodes.add(n1)\n",
    "            nodes.add(n2)\n",
    "            v = data['weight']\n",
    "            \n",
    "            try: \n",
    "                strength_dic[n1] += v\n",
    "            except:\n",
    "                strength_dic[n1] = v\n",
    "                \n",
    "            try: \n",
    "                strength_dic[n2] += v\n",
    "            except:\n",
    "                strength_dic[n2] = v\n",
    "            \n",
    "            try:\n",
    "                degree_dic[n1] += 1\n",
    "            except:\n",
    "                degree_dic[n1] = 1\n",
    "            \n",
    "            try:\n",
    "                degree_dic[n2] += 1\n",
    "            except:\n",
    "                degree_dic[n2] = 1\n",
    "            \n",
    "        \n",
    "        ts_strength.append(strength_dic)\n",
    "        ts_degree.append(degree_dic)\n",
    "        #break\n",
    "    \n",
    " \n",
    "    #print(ts_strength)\n",
    "    #print(ts_degree)\n",
    "    \n",
    "    total_strength = {}\n",
    "    total_degree = {}\n",
    "    \n",
    "    for d in ts_strength:\n",
    "        for k in d:\n",
    "            try:\n",
    "                total_strength[k] += d[k]\n",
    "            except:\n",
    "                total_strength[k]  = d[k]\n",
    "    \n",
    "    total_strength = sort_dict_by_value(total_strength)\n",
    "    #print(total_strength)\n",
    "    \n",
    "    for d in ts_degree:\n",
    "        for k in d:\n",
    "            try:\n",
    "                total_degree[k] += d[k]\n",
    "            except:\n",
    "                total_degree[k]  = d[k]\n",
    "    print(total_degree)\n",
    "\n",
    "    strength_series  = extract_ts(total_strength, ts_strength)\n",
    "    degree_series  = extract_ts(total_degree, ts_degree)\n",
    "    return  strength_series, degree_series\n",
    " \n",
    "def get_ts_activenodes(s, e, name = 'GoT_S0', path = 'Data/GoT_dyn_ts10/'):\n",
    "    edic = episode(s,e,name)\n",
    "    sorted_x = sorted(edic.items(), key=lambda kv: kv[1])\n",
    "    \n",
    "    ts_act_nodes = []\n",
    "    ts_act_density = []\n",
    " \n",
    "    nodes = set()\n",
    " \n",
    "    for _, v in sorted_x:\n",
    "        g = readG(v, path)\n",
    "        d = node_dict(g)\n",
    "        \n",
    "        num_nodes = len(get_active_nodes(g))\n",
    "        ts_act_nodes.append(num_nodes)\n",
    "        \n",
    "        sum_weight = 0\n",
    "        for _, _, data in g.edges(data=True):\n",
    "            v = data['weight']\n",
    "            sum_weight += v\n",
    "            \n",
    "        sum_edges  = len(g.edges)\n",
    "        density = 2 * sum_edges / num_nodes / (num_nodes - 1)\n",
    " \n",
    "        ts_act_density.append(density)\n",
    "    \n",
    "    df_ts = pd.DataFrame(\n",
    "    { 'Nodes': ts_act_nodes, \n",
    "      'Density': ts_act_density })\n",
    "    \n",
    "    df_ts.insert(0, 'Scene', range(10,  10+len(df_ts)*10, 10))\n",
    "        \n",
    "    return df_ts\n",
    "    \n",
    "    \n",
    "    \n",
    "strength_series, degree_series = get_strength_degree(1,1)\n",
    " \n",
    "plot_ts(strength_series, 'Graph Strength Time Series', 'Scene', 'Strength', 'Character')\n",
    "plot_ts(degree_series, 'Graph Degree Time Sereies', 'Scene', 'Degree', 'Character')\n",
    "\n",
    "active_node_series = get_ts_activenodes(1,1)\n",
    " \n",
    "plot_ts2(active_node_series, 'Episode 1 Network Nodes and Density Time Sereies', 'Scene')\n",
    "#active_node_series"
   ]
  },
  {
   "cell_type": "markdown",
   "metadata": {},
   "source": [
    "# Game of Throne"
   ]
  },
  {
   "cell_type": "code",
   "execution_count": 190,
   "metadata": {},
   "outputs": [
    {
     "data": {
      "text/html": [
       "<div>\n",
       "<style scoped>\n",
       "    .dataframe tbody tr th:only-of-type {\n",
       "        vertical-align: middle;\n",
       "    }\n",
       "\n",
       "    .dataframe tbody tr th {\n",
       "        vertical-align: top;\n",
       "    }\n",
       "\n",
       "    .dataframe thead th {\n",
       "        text-align: right;\n",
       "    }\n",
       "</style>\n",
       "<table border=\"1\" class=\"dataframe\">\n",
       "  <thead>\n",
       "    <tr style=\"text-align: right;\">\n",
       "      <th></th>\n",
       "      <th>Episode</th>\n",
       "      <th>Review</th>\n",
       "      <th>Weighted_Density</th>\n",
       "      <th>Active_Nodes</th>\n",
       "      <th>Degrees</th>\n",
       "      <th>Strength</th>\n",
       "      <th>Closeness</th>\n",
       "      <th>Harmonic</th>\n",
       "      <th>Efficiency</th>\n",
       "      <th>Transitivity</th>\n",
       "      <th>Clusters</th>\n",
       "      <th>Components</th>\n",
       "    </tr>\n",
       "  </thead>\n",
       "  <tbody>\n",
       "    <tr>\n",
       "      <th>0</th>\n",
       "      <td>Winter Is Coming</td>\n",
       "      <td>9.001235</td>\n",
       "      <td>0.879977</td>\n",
       "      <td>26</td>\n",
       "      <td>2.846154</td>\n",
       "      <td>10.999712</td>\n",
       "      <td>0.234755</td>\n",
       "      <td>6.862821</td>\n",
       "      <td>0.274513</td>\n",
       "      <td>0.307692</td>\n",
       "      <td>0.328419</td>\n",
       "      <td>3</td>\n",
       "    </tr>\n",
       "    <tr>\n",
       "      <th>1</th>\n",
       "      <td>The Kingsroad</td>\n",
       "      <td>8.701235</td>\n",
       "      <td>1.279233</td>\n",
       "      <td>24</td>\n",
       "      <td>2.583333</td>\n",
       "      <td>14.711177</td>\n",
       "      <td>0.259451</td>\n",
       "      <td>7.045833</td>\n",
       "      <td>0.306341</td>\n",
       "      <td>0.141176</td>\n",
       "      <td>0.100000</td>\n",
       "      <td>2</td>\n",
       "    </tr>\n",
       "    <tr>\n",
       "      <th>2</th>\n",
       "      <td>Lord Snow</td>\n",
       "      <td>8.601235</td>\n",
       "      <td>0.780416</td>\n",
       "      <td>38</td>\n",
       "      <td>2.684211</td>\n",
       "      <td>14.437690</td>\n",
       "      <td>0.163297</td>\n",
       "      <td>7.097368</td>\n",
       "      <td>0.191821</td>\n",
       "      <td>0.322148</td>\n",
       "      <td>0.420802</td>\n",
       "      <td>3</td>\n",
       "    </tr>\n",
       "    <tr>\n",
       "      <th>3</th>\n",
       "      <td>Cripples, Bastards, and Broken Things</td>\n",
       "      <td>8.701235</td>\n",
       "      <td>0.955038</td>\n",
       "      <td>34</td>\n",
       "      <td>1.941176</td>\n",
       "      <td>15.758127</td>\n",
       "      <td>0.161133</td>\n",
       "      <td>6.119608</td>\n",
       "      <td>0.185443</td>\n",
       "      <td>0.071429</td>\n",
       "      <td>0.083987</td>\n",
       "      <td>3</td>\n",
       "    </tr>\n",
       "    <tr>\n",
       "      <th>4</th>\n",
       "      <td>The Wolf and the Lion</td>\n",
       "      <td>9.001235</td>\n",
       "      <td>1.358700</td>\n",
       "      <td>30</td>\n",
       "      <td>2.133333</td>\n",
       "      <td>19.701143</td>\n",
       "      <td>0.174443</td>\n",
       "      <td>5.798889</td>\n",
       "      <td>0.199962</td>\n",
       "      <td>0.172414</td>\n",
       "      <td>0.142963</td>\n",
       "      <td>4</td>\n",
       "    </tr>\n",
       "    <tr>\n",
       "      <th>5</th>\n",
       "      <td>A Golden Crown</td>\n",
       "      <td>9.101235</td>\n",
       "      <td>1.335685</td>\n",
       "      <td>32</td>\n",
       "      <td>2.187500</td>\n",
       "      <td>20.703125</td>\n",
       "      <td>0.188658</td>\n",
       "      <td>7.313269</td>\n",
       "      <td>0.235912</td>\n",
       "      <td>0.225806</td>\n",
       "      <td>0.199306</td>\n",
       "      <td>3</td>\n",
       "    </tr>\n",
       "    <tr>\n",
       "      <th>6</th>\n",
       "      <td>You Win or You Die</td>\n",
       "      <td>9.201235</td>\n",
       "      <td>1.489819</td>\n",
       "      <td>28</td>\n",
       "      <td>2.000000</td>\n",
       "      <td>20.112551</td>\n",
       "      <td>0.113038</td>\n",
       "      <td>3.333333</td>\n",
       "      <td>0.123457</td>\n",
       "      <td>0.346154</td>\n",
       "      <td>0.366497</td>\n",
       "      <td>6</td>\n",
       "    </tr>\n",
       "    <tr>\n",
       "      <th>7</th>\n",
       "      <td>The Pointy End</td>\n",
       "      <td>9.001235</td>\n",
       "      <td>0.469583</td>\n",
       "      <td>41</td>\n",
       "      <td>1.951220</td>\n",
       "      <td>9.391670</td>\n",
       "      <td>0.087089</td>\n",
       "      <td>4.091870</td>\n",
       "      <td>0.102297</td>\n",
       "      <td>0.179104</td>\n",
       "      <td>0.103252</td>\n",
       "      <td>6</td>\n",
       "    </tr>\n",
       "    <tr>\n",
       "      <th>8</th>\n",
       "      <td>Baelor</td>\n",
       "      <td>9.601235</td>\n",
       "      <td>1.361319</td>\n",
       "      <td>30</td>\n",
       "      <td>1.733333</td>\n",
       "      <td>19.739130</td>\n",
       "      <td>0.077781</td>\n",
       "      <td>2.488889</td>\n",
       "      <td>0.085824</td>\n",
       "      <td>0.363636</td>\n",
       "      <td>0.222222</td>\n",
       "      <td>8</td>\n",
       "    </tr>\n",
       "    <tr>\n",
       "      <th>9</th>\n",
       "      <td>Fire and Blood</td>\n",
       "      <td>9.501235</td>\n",
       "      <td>0.529246</td>\n",
       "      <td>40</td>\n",
       "      <td>1.650000</td>\n",
       "      <td>10.320304</td>\n",
       "      <td>0.079741</td>\n",
       "      <td>3.462500</td>\n",
       "      <td>0.088782</td>\n",
       "      <td>0.107143</td>\n",
       "      <td>0.082024</td>\n",
       "      <td>9</td>\n",
       "    </tr>\n",
       "    <tr>\n",
       "      <th>10</th>\n",
       "      <td>The North Remembers</td>\n",
       "      <td>8.701235</td>\n",
       "      <td>0.815451</td>\n",
       "      <td>44</td>\n",
       "      <td>1.954545</td>\n",
       "      <td>17.532201</td>\n",
       "      <td>0.070436</td>\n",
       "      <td>3.601515</td>\n",
       "      <td>0.083756</td>\n",
       "      <td>0.281250</td>\n",
       "      <td>0.238636</td>\n",
       "      <td>8</td>\n",
       "    </tr>\n",
       "    <tr>\n",
       "      <th>11</th>\n",
       "      <td>The Night Lands</td>\n",
       "      <td>8.501235</td>\n",
       "      <td>0.875291</td>\n",
       "      <td>43</td>\n",
       "      <td>1.953488</td>\n",
       "      <td>18.381105</td>\n",
       "      <td>0.089789</td>\n",
       "      <td>4.770377</td>\n",
       "      <td>0.113580</td>\n",
       "      <td>0.227273</td>\n",
       "      <td>0.242636</td>\n",
       "      <td>7</td>\n",
       "    </tr>\n",
       "    <tr>\n",
       "      <th>12</th>\n",
       "      <td>What Is Dead May Never Die</td>\n",
       "      <td>8.801235</td>\n",
       "      <td>0.629984</td>\n",
       "      <td>45</td>\n",
       "      <td>1.866667</td>\n",
       "      <td>13.859647</td>\n",
       "      <td>0.089494</td>\n",
       "      <td>4.646667</td>\n",
       "      <td>0.105606</td>\n",
       "      <td>0.230769</td>\n",
       "      <td>0.177037</td>\n",
       "      <td>9</td>\n",
       "    </tr>\n",
       "    <tr>\n",
       "      <th>13</th>\n",
       "      <td>Garden of Bones</td>\n",
       "      <td>8.701235</td>\n",
       "      <td>0.630883</td>\n",
       "      <td>44</td>\n",
       "      <td>1.954545</td>\n",
       "      <td>13.563991</td>\n",
       "      <td>0.086955</td>\n",
       "      <td>4.301515</td>\n",
       "      <td>0.100035</td>\n",
       "      <td>0.134831</td>\n",
       "      <td>0.114268</td>\n",
       "      <td>7</td>\n",
       "    </tr>\n",
       "    <tr>\n",
       "      <th>14</th>\n",
       "      <td>The Ghost of Harrenhal</td>\n",
       "      <td>8.701235</td>\n",
       "      <td>0.796658</td>\n",
       "      <td>45</td>\n",
       "      <td>2.088889</td>\n",
       "      <td>17.526473</td>\n",
       "      <td>0.081735</td>\n",
       "      <td>4.014815</td>\n",
       "      <td>0.091246</td>\n",
       "      <td>0.240000</td>\n",
       "      <td>0.277566</td>\n",
       "      <td>7</td>\n",
       "    </tr>\n",
       "    <tr>\n",
       "      <th>15</th>\n",
       "      <td>The Old Gods and the New</td>\n",
       "      <td>9.001235</td>\n",
       "      <td>1.616392</td>\n",
       "      <td>30</td>\n",
       "      <td>1.933333</td>\n",
       "      <td>23.437690</td>\n",
       "      <td>0.094683</td>\n",
       "      <td>3.061111</td>\n",
       "      <td>0.105556</td>\n",
       "      <td>0.348837</td>\n",
       "      <td>0.357778</td>\n",
       "      <td>6</td>\n",
       "    </tr>\n",
       "    <tr>\n",
       "      <th>16</th>\n",
       "      <td>A Man Without Honor</td>\n",
       "      <td>8.901235</td>\n",
       "      <td>1.648483</td>\n",
       "      <td>27</td>\n",
       "      <td>1.777778</td>\n",
       "      <td>21.430284</td>\n",
       "      <td>0.093305</td>\n",
       "      <td>2.734568</td>\n",
       "      <td>0.105176</td>\n",
       "      <td>0.200000</td>\n",
       "      <td>0.117284</td>\n",
       "      <td>6</td>\n",
       "    </tr>\n",
       "    <tr>\n",
       "      <th>17</th>\n",
       "      <td>The Prince of Winterfell</td>\n",
       "      <td>8.701235</td>\n",
       "      <td>0.882795</td>\n",
       "      <td>41</td>\n",
       "      <td>1.560976</td>\n",
       "      <td>17.655910</td>\n",
       "      <td>0.062371</td>\n",
       "      <td>2.772358</td>\n",
       "      <td>0.069309</td>\n",
       "      <td>0.146341</td>\n",
       "      <td>0.103252</td>\n",
       "      <td>11</td>\n",
       "    </tr>\n",
       "    <tr>\n",
       "      <th>18</th>\n",
       "      <td>Blackwater</td>\n",
       "      <td>9.701235</td>\n",
       "      <td>1.160340</td>\n",
       "      <td>22</td>\n",
       "      <td>2.090909</td>\n",
       "      <td>12.183572</td>\n",
       "      <td>0.196265</td>\n",
       "      <td>4.850000</td>\n",
       "      <td>0.230952</td>\n",
       "      <td>0.117647</td>\n",
       "      <td>0.059091</td>\n",
       "      <td>4</td>\n",
       "    </tr>\n",
       "    <tr>\n",
       "      <th>19</th>\n",
       "      <td>Valar Morghulis</td>\n",
       "      <td>9.401235</td>\n",
       "      <td>0.823749</td>\n",
       "      <td>40</td>\n",
       "      <td>1.600000</td>\n",
       "      <td>16.063100</td>\n",
       "      <td>0.064082</td>\n",
       "      <td>2.895000</td>\n",
       "      <td>0.074231</td>\n",
       "      <td>0.162162</td>\n",
       "      <td>0.133333</td>\n",
       "      <td>10</td>\n",
       "    </tr>\n",
       "    <tr>\n",
       "      <th>20</th>\n",
       "      <td>Valar Dohaeris</td>\n",
       "      <td>8.701235</td>\n",
       "      <td>1.134179</td>\n",
       "      <td>34</td>\n",
       "      <td>1.705882</td>\n",
       "      <td>18.713959</td>\n",
       "      <td>0.079482</td>\n",
       "      <td>3.114706</td>\n",
       "      <td>0.094385</td>\n",
       "      <td>0.166667</td>\n",
       "      <td>0.112745</td>\n",
       "      <td>7</td>\n",
       "    </tr>\n",
       "    <tr>\n",
       "      <th>21</th>\n",
       "      <td>Dark Wings, Dark Words</td>\n",
       "      <td>8.501235</td>\n",
       "      <td>0.792135</td>\n",
       "      <td>43</td>\n",
       "      <td>1.720930</td>\n",
       "      <td>16.634829</td>\n",
       "      <td>0.059315</td>\n",
       "      <td>2.800000</td>\n",
       "      <td>0.066667</td>\n",
       "      <td>0.300000</td>\n",
       "      <td>0.199225</td>\n",
       "      <td>11</td>\n",
       "    </tr>\n",
       "  </tbody>\n",
       "</table>\n",
       "</div>"
      ],
      "text/plain": [
       "                                  Episode    Review  Weighted_Density  \\\n",
       "0                        Winter Is Coming  9.001235          0.879977   \n",
       "1                           The Kingsroad  8.701235          1.279233   \n",
       "2                               Lord Snow  8.601235          0.780416   \n",
       "3   Cripples, Bastards, and Broken Things  8.701235          0.955038   \n",
       "4                   The Wolf and the Lion  9.001235          1.358700   \n",
       "5                          A Golden Crown  9.101235          1.335685   \n",
       "6                      You Win or You Die  9.201235          1.489819   \n",
       "7                          The Pointy End  9.001235          0.469583   \n",
       "8                                  Baelor  9.601235          1.361319   \n",
       "9                          Fire and Blood  9.501235          0.529246   \n",
       "10                    The North Remembers  8.701235          0.815451   \n",
       "11                        The Night Lands  8.501235          0.875291   \n",
       "12             What Is Dead May Never Die  8.801235          0.629984   \n",
       "13                        Garden of Bones  8.701235          0.630883   \n",
       "14                 The Ghost of Harrenhal  8.701235          0.796658   \n",
       "15               The Old Gods and the New  9.001235          1.616392   \n",
       "16                    A Man Without Honor  8.901235          1.648483   \n",
       "17               The Prince of Winterfell  8.701235          0.882795   \n",
       "18                             Blackwater  9.701235          1.160340   \n",
       "19                        Valar Morghulis  9.401235          0.823749   \n",
       "20                         Valar Dohaeris  8.701235          1.134179   \n",
       "21                 Dark Wings, Dark Words  8.501235          0.792135   \n",
       "\n",
       "    Active_Nodes   Degrees   Strength  Closeness  Harmonic  Efficiency  \\\n",
       "0             26  2.846154  10.999712   0.234755  6.862821    0.274513   \n",
       "1             24  2.583333  14.711177   0.259451  7.045833    0.306341   \n",
       "2             38  2.684211  14.437690   0.163297  7.097368    0.191821   \n",
       "3             34  1.941176  15.758127   0.161133  6.119608    0.185443   \n",
       "4             30  2.133333  19.701143   0.174443  5.798889    0.199962   \n",
       "5             32  2.187500  20.703125   0.188658  7.313269    0.235912   \n",
       "6             28  2.000000  20.112551   0.113038  3.333333    0.123457   \n",
       "7             41  1.951220   9.391670   0.087089  4.091870    0.102297   \n",
       "8             30  1.733333  19.739130   0.077781  2.488889    0.085824   \n",
       "9             40  1.650000  10.320304   0.079741  3.462500    0.088782   \n",
       "10            44  1.954545  17.532201   0.070436  3.601515    0.083756   \n",
       "11            43  1.953488  18.381105   0.089789  4.770377    0.113580   \n",
       "12            45  1.866667  13.859647   0.089494  4.646667    0.105606   \n",
       "13            44  1.954545  13.563991   0.086955  4.301515    0.100035   \n",
       "14            45  2.088889  17.526473   0.081735  4.014815    0.091246   \n",
       "15            30  1.933333  23.437690   0.094683  3.061111    0.105556   \n",
       "16            27  1.777778  21.430284   0.093305  2.734568    0.105176   \n",
       "17            41  1.560976  17.655910   0.062371  2.772358    0.069309   \n",
       "18            22  2.090909  12.183572   0.196265  4.850000    0.230952   \n",
       "19            40  1.600000  16.063100   0.064082  2.895000    0.074231   \n",
       "20            34  1.705882  18.713959   0.079482  3.114706    0.094385   \n",
       "21            43  1.720930  16.634829   0.059315  2.800000    0.066667   \n",
       "\n",
       "    Transitivity  Clusters  Components  \n",
       "0       0.307692  0.328419           3  \n",
       "1       0.141176  0.100000           2  \n",
       "2       0.322148  0.420802           3  \n",
       "3       0.071429  0.083987           3  \n",
       "4       0.172414  0.142963           4  \n",
       "5       0.225806  0.199306           3  \n",
       "6       0.346154  0.366497           6  \n",
       "7       0.179104  0.103252           6  \n",
       "8       0.363636  0.222222           8  \n",
       "9       0.107143  0.082024           9  \n",
       "10      0.281250  0.238636           8  \n",
       "11      0.227273  0.242636           7  \n",
       "12      0.230769  0.177037           9  \n",
       "13      0.134831  0.114268           7  \n",
       "14      0.240000  0.277566           7  \n",
       "15      0.348837  0.357778           6  \n",
       "16      0.200000  0.117284           6  \n",
       "17      0.146341  0.103252          11  \n",
       "18      0.117647  0.059091           4  \n",
       "19      0.162162  0.133333          10  \n",
       "20      0.166667  0.112745           7  \n",
       "21      0.300000  0.199225          11  "
      ]
     },
     "execution_count": 190,
     "metadata": {},
     "output_type": "execute_result"
    }
   ],
   "source": [
    "import pandas as pd\n",
    "files = os.listdir(\"Data/GoT_dyn_ts10/\")\n",
    "df_GoT = get_df('GoT.csv',   \"Data/GoT_dyn_ts10/\",   'GoT_S0', 4, 11,22)\n",
    "df_GoT = df_GoT.rename(columns={'agg_actnodes': 'Active Characters', 'weighted_density2': 'Weighted Density', 'avg_degrees': \"Degree\", \"avg_strength\": \"Strength\" })\n",
    "df_GoT"
   ]
  },
  {
   "cell_type": "code",
   "execution_count": 191,
   "metadata": {},
   "outputs": [
    {
     "data": {
      "text/html": [
       "<div>\n",
       "<style scoped>\n",
       "    .dataframe tbody tr th:only-of-type {\n",
       "        vertical-align: middle;\n",
       "    }\n",
       "\n",
       "    .dataframe tbody tr th {\n",
       "        vertical-align: top;\n",
       "    }\n",
       "\n",
       "    .dataframe thead th {\n",
       "        text-align: right;\n",
       "    }\n",
       "</style>\n",
       "<table border=\"1\" class=\"dataframe\">\n",
       "  <thead>\n",
       "    <tr style=\"text-align: right;\">\n",
       "      <th></th>\n",
       "      <th>Network Metrics</th>\n",
       "      <th>Correlation</th>\n",
       "      <th>pValue</th>\n",
       "    </tr>\n",
       "  </thead>\n",
       "  <tbody>\n",
       "    <tr>\n",
       "      <th>0</th>\n",
       "      <td>Weighted_Density</td>\n",
       "      <td>0.228016</td>\n",
       "      <td>0.307451</td>\n",
       "    </tr>\n",
       "    <tr>\n",
       "      <th>1</th>\n",
       "      <td>Active_Nodes</td>\n",
       "      <td>-0.458978</td>\n",
       "      <td>0.031661</td>\n",
       "    </tr>\n",
       "    <tr>\n",
       "      <th>2</th>\n",
       "      <td>Degrees</td>\n",
       "      <td>-0.167934</td>\n",
       "      <td>0.455045</td>\n",
       "    </tr>\n",
       "    <tr>\n",
       "      <th>3</th>\n",
       "      <td>Strength</td>\n",
       "      <td>-0.120952</td>\n",
       "      <td>0.591839</td>\n",
       "    </tr>\n",
       "    <tr>\n",
       "      <th>4</th>\n",
       "      <td>Closeness</td>\n",
       "      <td>0.085920</td>\n",
       "      <td>0.703811</td>\n",
       "    </tr>\n",
       "    <tr>\n",
       "      <th>5</th>\n",
       "      <td>Harmonic</td>\n",
       "      <td>-0.185980</td>\n",
       "      <td>0.407290</td>\n",
       "    </tr>\n",
       "    <tr>\n",
       "      <th>6</th>\n",
       "      <td>Efficiency</td>\n",
       "      <td>0.070941</td>\n",
       "      <td>0.753736</td>\n",
       "    </tr>\n",
       "    <tr>\n",
       "      <th>7</th>\n",
       "      <td>Transitivity</td>\n",
       "      <td>-0.030217</td>\n",
       "      <td>0.893808</td>\n",
       "    </tr>\n",
       "    <tr>\n",
       "      <th>8</th>\n",
       "      <td>Clusters</td>\n",
       "      <td>-0.176352</td>\n",
       "      <td>0.432416</td>\n",
       "    </tr>\n",
       "    <tr>\n",
       "      <th>9</th>\n",
       "      <td>Components</td>\n",
       "      <td>-0.011451</td>\n",
       "      <td>0.959664</td>\n",
       "    </tr>\n",
       "  </tbody>\n",
       "</table>\n",
       "</div>"
      ],
      "text/plain": [
       "    Network Metrics  Correlation    pValue\n",
       "0  Weighted_Density     0.228016  0.307451\n",
       "1      Active_Nodes    -0.458978  0.031661\n",
       "2           Degrees    -0.167934  0.455045\n",
       "3          Strength    -0.120952  0.591839\n",
       "4         Closeness     0.085920  0.703811\n",
       "5          Harmonic    -0.185980  0.407290\n",
       "6        Efficiency     0.070941  0.753736\n",
       "7      Transitivity    -0.030217  0.893808\n",
       "8          Clusters    -0.176352  0.432416\n",
       "9        Components    -0.011451  0.959664"
      ]
     },
     "execution_count": 191,
     "metadata": {},
     "output_type": "execute_result"
    }
   ],
   "source": [
    "from scipy.stats import pearsonr\n",
    "get_corr(df_GoT)\n",
    "#df_GoT"
   ]
  },
  {
   "cell_type": "code",
   "execution_count": 192,
   "metadata": {},
   "outputs": [
    {
     "data": {
      "text/html": [
       "<div>\n",
       "<style scoped>\n",
       "    .dataframe tbody tr th:only-of-type {\n",
       "        vertical-align: middle;\n",
       "    }\n",
       "\n",
       "    .dataframe tbody tr th {\n",
       "        vertical-align: top;\n",
       "    }\n",
       "\n",
       "    .dataframe thead th {\n",
       "        text-align: right;\n",
       "    }\n",
       "</style>\n",
       "<table border=\"1\" class=\"dataframe\">\n",
       "  <thead>\n",
       "    <tr style=\"text-align: right;\">\n",
       "      <th></th>\n",
       "      <th>Network Metrics</th>\n",
       "      <th>Correlation</th>\n",
       "      <th>pValue</th>\n",
       "    </tr>\n",
       "  </thead>\n",
       "  <tbody>\n",
       "    <tr>\n",
       "      <th>0</th>\n",
       "      <td>Weighted_Density</td>\n",
       "      <td>0.314303</td>\n",
       "      <td>0.154285</td>\n",
       "    </tr>\n",
       "    <tr>\n",
       "      <th>1</th>\n",
       "      <td>Active_Nodes</td>\n",
       "      <td>-0.500789</td>\n",
       "      <td>0.017599</td>\n",
       "    </tr>\n",
       "    <tr>\n",
       "      <th>2</th>\n",
       "      <td>Degrees</td>\n",
       "      <td>-0.048368</td>\n",
       "      <td>0.830744</td>\n",
       "    </tr>\n",
       "    <tr>\n",
       "      <th>3</th>\n",
       "      <td>Strength</td>\n",
       "      <td>0.010362</td>\n",
       "      <td>0.963498</td>\n",
       "    </tr>\n",
       "    <tr>\n",
       "      <th>4</th>\n",
       "      <td>Closeness</td>\n",
       "      <td>0.179026</td>\n",
       "      <td>0.425356</td>\n",
       "    </tr>\n",
       "    <tr>\n",
       "      <th>5</th>\n",
       "      <td>Harmonic</td>\n",
       "      <td>-0.134701</td>\n",
       "      <td>0.550067</td>\n",
       "    </tr>\n",
       "    <tr>\n",
       "      <th>6</th>\n",
       "      <td>Efficiency</td>\n",
       "      <td>0.126067</td>\n",
       "      <td>0.576143</td>\n",
       "    </tr>\n",
       "    <tr>\n",
       "      <th>7</th>\n",
       "      <td>Transitivity</td>\n",
       "      <td>-0.035114</td>\n",
       "      <td>0.876715</td>\n",
       "    </tr>\n",
       "    <tr>\n",
       "      <th>8</th>\n",
       "      <td>Clusters</td>\n",
       "      <td>-0.157152</td>\n",
       "      <td>0.484903</td>\n",
       "    </tr>\n",
       "    <tr>\n",
       "      <th>9</th>\n",
       "      <td>Components</td>\n",
       "      <td>-0.066844</td>\n",
       "      <td>0.767569</td>\n",
       "    </tr>\n",
       "  </tbody>\n",
       "</table>\n",
       "</div>"
      ],
      "text/plain": [
       "    Network Metrics  Correlation    pValue\n",
       "0  Weighted_Density     0.314303  0.154285\n",
       "1      Active_Nodes    -0.500789  0.017599\n",
       "2           Degrees    -0.048368  0.830744\n",
       "3          Strength     0.010362  0.963498\n",
       "4         Closeness     0.179026  0.425356\n",
       "5          Harmonic    -0.134701  0.550067\n",
       "6        Efficiency     0.126067  0.576143\n",
       "7      Transitivity    -0.035114  0.876715\n",
       "8          Clusters    -0.157152  0.484903\n",
       "9        Components    -0.066844  0.767569"
      ]
     },
     "execution_count": 192,
     "metadata": {},
     "output_type": "execute_result"
    }
   ],
   "source": [
    "get_corr_spearman(df_GoT)"
   ]
  },
  {
   "cell_type": "code",
   "execution_count": 193,
   "metadata": {},
   "outputs": [
    {
     "ename": "KeyError",
     "evalue": "\"['Number of Active Characters'] not in index\"",
     "output_type": "error",
     "traceback": [
      "\u001b[0;31m---------------------------------------------------------------------------\u001b[0m",
      "\u001b[0;31mKeyError\u001b[0m                                  Traceback (most recent call last)",
      "\u001b[0;32m<ipython-input-193-eb65eb313c4f>\u001b[0m in \u001b[0;36m<module>\u001b[0;34m\u001b[0m\n\u001b[1;32m      1\u001b[0m \u001b[0;32mimport\u001b[0m \u001b[0mseaborn\u001b[0m \u001b[0;32mas\u001b[0m \u001b[0msns\u001b[0m\u001b[0;34m\u001b[0m\u001b[0;34m\u001b[0m\u001b[0m\n\u001b[0;32m----> 2\u001b[0;31m \u001b[0max\u001b[0m \u001b[0;34m=\u001b[0m \u001b[0msns\u001b[0m\u001b[0;34m.\u001b[0m\u001b[0mlmplot\u001b[0m\u001b[0;34m(\u001b[0m\u001b[0mx\u001b[0m\u001b[0;34m=\u001b[0m\u001b[0;34m'Number of Active Characters'\u001b[0m\u001b[0;34m,\u001b[0m \u001b[0my\u001b[0m\u001b[0;34m=\u001b[0m\u001b[0;34m\"Review\"\u001b[0m\u001b[0;34m,\u001b[0m \u001b[0mdata\u001b[0m\u001b[0;34m=\u001b[0m\u001b[0mdf_GoT\u001b[0m\u001b[0;34m)\u001b[0m\u001b[0;34m;\u001b[0m\u001b[0;34m\u001b[0m\u001b[0;34m\u001b[0m\u001b[0m\n\u001b[0m\u001b[1;32m      3\u001b[0m \u001b[0;31m#ax.set_title(\"Active Nodes vs Review\")\u001b[0m\u001b[0;34m\u001b[0m\u001b[0;34m\u001b[0m\u001b[0;34m\u001b[0m\u001b[0m\n\u001b[1;32m      4\u001b[0m \u001b[0;31m#ax.set_xlabel(\"Number of Active Nodes\")\u001b[0m\u001b[0;34m\u001b[0m\u001b[0;34m\u001b[0m\u001b[0;34m\u001b[0m\u001b[0m\n\u001b[1;32m      5\u001b[0m \u001b[0;31m#sns.lmplot(x=\"agg_actnodes\", y=\"Review\", hue=\"AirEntrain\", data=df_GoT);\u001b[0m\u001b[0;34m\u001b[0m\u001b[0;34m\u001b[0m\u001b[0;34m\u001b[0m\u001b[0m\n",
      "\u001b[0;32m/opt/anaconda3/lib/python3.8/site-packages/seaborn/_decorators.py\u001b[0m in \u001b[0;36minner_f\u001b[0;34m(*args, **kwargs)\u001b[0m\n\u001b[1;32m     44\u001b[0m             )\n\u001b[1;32m     45\u001b[0m         \u001b[0mkwargs\u001b[0m\u001b[0;34m.\u001b[0m\u001b[0mupdate\u001b[0m\u001b[0;34m(\u001b[0m\u001b[0;34m{\u001b[0m\u001b[0mk\u001b[0m\u001b[0;34m:\u001b[0m \u001b[0marg\u001b[0m \u001b[0;32mfor\u001b[0m \u001b[0mk\u001b[0m\u001b[0;34m,\u001b[0m \u001b[0marg\u001b[0m \u001b[0;32min\u001b[0m \u001b[0mzip\u001b[0m\u001b[0;34m(\u001b[0m\u001b[0msig\u001b[0m\u001b[0;34m.\u001b[0m\u001b[0mparameters\u001b[0m\u001b[0;34m,\u001b[0m \u001b[0margs\u001b[0m\u001b[0;34m)\u001b[0m\u001b[0;34m}\u001b[0m\u001b[0;34m)\u001b[0m\u001b[0;34m\u001b[0m\u001b[0;34m\u001b[0m\u001b[0m\n\u001b[0;32m---> 46\u001b[0;31m         \u001b[0;32mreturn\u001b[0m \u001b[0mf\u001b[0m\u001b[0;34m(\u001b[0m\u001b[0;34m**\u001b[0m\u001b[0mkwargs\u001b[0m\u001b[0;34m)\u001b[0m\u001b[0;34m\u001b[0m\u001b[0;34m\u001b[0m\u001b[0m\n\u001b[0m\u001b[1;32m     47\u001b[0m     \u001b[0;32mreturn\u001b[0m \u001b[0minner_f\u001b[0m\u001b[0;34m\u001b[0m\u001b[0;34m\u001b[0m\u001b[0m\n\u001b[1;32m     48\u001b[0m \u001b[0;34m\u001b[0m\u001b[0m\n",
      "\u001b[0;32m/opt/anaconda3/lib/python3.8/site-packages/seaborn/regression.py\u001b[0m in \u001b[0;36mlmplot\u001b[0;34m(x, y, data, hue, col, row, palette, col_wrap, height, aspect, markers, sharex, sharey, hue_order, col_order, row_order, legend, legend_out, x_estimator, x_bins, x_ci, scatter, fit_reg, ci, n_boot, units, seed, order, logistic, lowess, robust, logx, x_partial, y_partial, truncate, x_jitter, y_jitter, scatter_kws, line_kws, size)\u001b[0m\n\u001b[1;32m    583\u001b[0m     \u001b[0mneed_cols\u001b[0m \u001b[0;34m=\u001b[0m \u001b[0;34m[\u001b[0m\u001b[0mx\u001b[0m\u001b[0;34m,\u001b[0m \u001b[0my\u001b[0m\u001b[0;34m,\u001b[0m \u001b[0mhue\u001b[0m\u001b[0;34m,\u001b[0m \u001b[0mcol\u001b[0m\u001b[0;34m,\u001b[0m \u001b[0mrow\u001b[0m\u001b[0;34m,\u001b[0m \u001b[0munits\u001b[0m\u001b[0;34m,\u001b[0m \u001b[0mx_partial\u001b[0m\u001b[0;34m,\u001b[0m \u001b[0my_partial\u001b[0m\u001b[0;34m]\u001b[0m\u001b[0;34m\u001b[0m\u001b[0;34m\u001b[0m\u001b[0m\n\u001b[1;32m    584\u001b[0m     \u001b[0mcols\u001b[0m \u001b[0;34m=\u001b[0m \u001b[0mnp\u001b[0m\u001b[0;34m.\u001b[0m\u001b[0munique\u001b[0m\u001b[0;34m(\u001b[0m\u001b[0;34m[\u001b[0m\u001b[0ma\u001b[0m \u001b[0;32mfor\u001b[0m \u001b[0ma\u001b[0m \u001b[0;32min\u001b[0m \u001b[0mneed_cols\u001b[0m \u001b[0;32mif\u001b[0m \u001b[0ma\u001b[0m \u001b[0;32mis\u001b[0m \u001b[0;32mnot\u001b[0m \u001b[0;32mNone\u001b[0m\u001b[0;34m]\u001b[0m\u001b[0;34m)\u001b[0m\u001b[0;34m.\u001b[0m\u001b[0mtolist\u001b[0m\u001b[0;34m(\u001b[0m\u001b[0;34m)\u001b[0m\u001b[0;34m\u001b[0m\u001b[0;34m\u001b[0m\u001b[0m\n\u001b[0;32m--> 585\u001b[0;31m     \u001b[0mdata\u001b[0m \u001b[0;34m=\u001b[0m \u001b[0mdata\u001b[0m\u001b[0;34m[\u001b[0m\u001b[0mcols\u001b[0m\u001b[0;34m]\u001b[0m\u001b[0;34m\u001b[0m\u001b[0;34m\u001b[0m\u001b[0m\n\u001b[0m\u001b[1;32m    586\u001b[0m \u001b[0;34m\u001b[0m\u001b[0m\n\u001b[1;32m    587\u001b[0m     \u001b[0;31m# Initialize the grid\u001b[0m\u001b[0;34m\u001b[0m\u001b[0;34m\u001b[0m\u001b[0;34m\u001b[0m\u001b[0m\n",
      "\u001b[0;32m/opt/anaconda3/lib/python3.8/site-packages/pandas/core/frame.py\u001b[0m in \u001b[0;36m__getitem__\u001b[0;34m(self, key)\u001b[0m\n\u001b[1;32m   2906\u001b[0m             \u001b[0;32mif\u001b[0m \u001b[0mis_iterator\u001b[0m\u001b[0;34m(\u001b[0m\u001b[0mkey\u001b[0m\u001b[0;34m)\u001b[0m\u001b[0;34m:\u001b[0m\u001b[0;34m\u001b[0m\u001b[0;34m\u001b[0m\u001b[0m\n\u001b[1;32m   2907\u001b[0m                 \u001b[0mkey\u001b[0m \u001b[0;34m=\u001b[0m \u001b[0mlist\u001b[0m\u001b[0;34m(\u001b[0m\u001b[0mkey\u001b[0m\u001b[0;34m)\u001b[0m\u001b[0;34m\u001b[0m\u001b[0;34m\u001b[0m\u001b[0m\n\u001b[0;32m-> 2908\u001b[0;31m             \u001b[0mindexer\u001b[0m \u001b[0;34m=\u001b[0m \u001b[0mself\u001b[0m\u001b[0;34m.\u001b[0m\u001b[0mloc\u001b[0m\u001b[0;34m.\u001b[0m\u001b[0m_get_listlike_indexer\u001b[0m\u001b[0;34m(\u001b[0m\u001b[0mkey\u001b[0m\u001b[0;34m,\u001b[0m \u001b[0maxis\u001b[0m\u001b[0;34m=\u001b[0m\u001b[0;36m1\u001b[0m\u001b[0;34m,\u001b[0m \u001b[0mraise_missing\u001b[0m\u001b[0;34m=\u001b[0m\u001b[0;32mTrue\u001b[0m\u001b[0;34m)\u001b[0m\u001b[0;34m[\u001b[0m\u001b[0;36m1\u001b[0m\u001b[0;34m]\u001b[0m\u001b[0;34m\u001b[0m\u001b[0;34m\u001b[0m\u001b[0m\n\u001b[0m\u001b[1;32m   2909\u001b[0m \u001b[0;34m\u001b[0m\u001b[0m\n\u001b[1;32m   2910\u001b[0m         \u001b[0;31m# take() does not accept boolean indexers\u001b[0m\u001b[0;34m\u001b[0m\u001b[0;34m\u001b[0m\u001b[0;34m\u001b[0m\u001b[0m\n",
      "\u001b[0;32m/opt/anaconda3/lib/python3.8/site-packages/pandas/core/indexing.py\u001b[0m in \u001b[0;36m_get_listlike_indexer\u001b[0;34m(self, key, axis, raise_missing)\u001b[0m\n\u001b[1;32m   1252\u001b[0m             \u001b[0mkeyarr\u001b[0m\u001b[0;34m,\u001b[0m \u001b[0mindexer\u001b[0m\u001b[0;34m,\u001b[0m \u001b[0mnew_indexer\u001b[0m \u001b[0;34m=\u001b[0m \u001b[0max\u001b[0m\u001b[0;34m.\u001b[0m\u001b[0m_reindex_non_unique\u001b[0m\u001b[0;34m(\u001b[0m\u001b[0mkeyarr\u001b[0m\u001b[0;34m)\u001b[0m\u001b[0;34m\u001b[0m\u001b[0;34m\u001b[0m\u001b[0m\n\u001b[1;32m   1253\u001b[0m \u001b[0;34m\u001b[0m\u001b[0m\n\u001b[0;32m-> 1254\u001b[0;31m         \u001b[0mself\u001b[0m\u001b[0;34m.\u001b[0m\u001b[0m_validate_read_indexer\u001b[0m\u001b[0;34m(\u001b[0m\u001b[0mkeyarr\u001b[0m\u001b[0;34m,\u001b[0m \u001b[0mindexer\u001b[0m\u001b[0;34m,\u001b[0m \u001b[0maxis\u001b[0m\u001b[0;34m,\u001b[0m \u001b[0mraise_missing\u001b[0m\u001b[0;34m=\u001b[0m\u001b[0mraise_missing\u001b[0m\u001b[0;34m)\u001b[0m\u001b[0;34m\u001b[0m\u001b[0;34m\u001b[0m\u001b[0m\n\u001b[0m\u001b[1;32m   1255\u001b[0m         \u001b[0;32mreturn\u001b[0m \u001b[0mkeyarr\u001b[0m\u001b[0;34m,\u001b[0m \u001b[0mindexer\u001b[0m\u001b[0;34m\u001b[0m\u001b[0;34m\u001b[0m\u001b[0m\n\u001b[1;32m   1256\u001b[0m \u001b[0;34m\u001b[0m\u001b[0m\n",
      "\u001b[0;32m/opt/anaconda3/lib/python3.8/site-packages/pandas/core/indexing.py\u001b[0m in \u001b[0;36m_validate_read_indexer\u001b[0;34m(self, key, indexer, axis, raise_missing)\u001b[0m\n\u001b[1;32m   1302\u001b[0m             \u001b[0;32mif\u001b[0m \u001b[0mraise_missing\u001b[0m\u001b[0;34m:\u001b[0m\u001b[0;34m\u001b[0m\u001b[0;34m\u001b[0m\u001b[0m\n\u001b[1;32m   1303\u001b[0m                 \u001b[0mnot_found\u001b[0m \u001b[0;34m=\u001b[0m \u001b[0mlist\u001b[0m\u001b[0;34m(\u001b[0m\u001b[0mset\u001b[0m\u001b[0;34m(\u001b[0m\u001b[0mkey\u001b[0m\u001b[0;34m)\u001b[0m \u001b[0;34m-\u001b[0m \u001b[0mset\u001b[0m\u001b[0;34m(\u001b[0m\u001b[0max\u001b[0m\u001b[0;34m)\u001b[0m\u001b[0;34m)\u001b[0m\u001b[0;34m\u001b[0m\u001b[0;34m\u001b[0m\u001b[0m\n\u001b[0;32m-> 1304\u001b[0;31m                 \u001b[0;32mraise\u001b[0m \u001b[0mKeyError\u001b[0m\u001b[0;34m(\u001b[0m\u001b[0;34mf\"{not_found} not in index\"\u001b[0m\u001b[0;34m)\u001b[0m\u001b[0;34m\u001b[0m\u001b[0;34m\u001b[0m\u001b[0m\n\u001b[0m\u001b[1;32m   1305\u001b[0m \u001b[0;34m\u001b[0m\u001b[0m\n\u001b[1;32m   1306\u001b[0m             \u001b[0;31m# we skip the warning on Categorical\u001b[0m\u001b[0;34m\u001b[0m\u001b[0;34m\u001b[0m\u001b[0;34m\u001b[0m\u001b[0m\n",
      "\u001b[0;31mKeyError\u001b[0m: \"['Number of Active Characters'] not in index\""
     ]
    }
   ],
   "source": [
    "import seaborn as sns\n",
    "ax = sns.lmplot(x='Number of Active Characters', y=\"Review\", data=df_GoT);\n",
    "#ax.set_title(\"Active Nodes vs Review\")\n",
    "#ax.set_xlabel(\"Number of Active Nodes\")\n",
    "#sns.lmplot(x=\"agg_actnodes\", y=\"Review\", hue=\"AirEntrain\", data=df_GoT);"
   ]
  },
  {
   "cell_type": "markdown",
   "metadata": {},
   "source": [
    "# House of Cards"
   ]
  },
  {
   "cell_type": "code",
   "execution_count": 194,
   "metadata": {},
   "outputs": [
    {
     "data": {
      "text/html": [
       "<div>\n",
       "<style scoped>\n",
       "    .dataframe tbody tr th:only-of-type {\n",
       "        vertical-align: middle;\n",
       "    }\n",
       "\n",
       "    .dataframe tbody tr th {\n",
       "        vertical-align: top;\n",
       "    }\n",
       "\n",
       "    .dataframe thead th {\n",
       "        text-align: right;\n",
       "    }\n",
       "</style>\n",
       "<table border=\"1\" class=\"dataframe\">\n",
       "  <thead>\n",
       "    <tr style=\"text-align: right;\">\n",
       "      <th></th>\n",
       "      <th>Episode</th>\n",
       "      <th>Review</th>\n",
       "      <th>Weighted_Density</th>\n",
       "      <th>Active_Nodes</th>\n",
       "      <th>Degrees</th>\n",
       "      <th>Strength</th>\n",
       "      <th>Closeness</th>\n",
       "      <th>Harmonic</th>\n",
       "      <th>Efficiency</th>\n",
       "      <th>Transitivity</th>\n",
       "      <th>Clusters</th>\n",
       "      <th>Components</th>\n",
       "    </tr>\n",
       "  </thead>\n",
       "  <tbody>\n",
       "    <tr>\n",
       "      <th>0</th>\n",
       "      <td>Chapter 1</td>\n",
       "      <td>8.601235</td>\n",
       "      <td>1.207103</td>\n",
       "      <td>24</td>\n",
       "      <td>2.083333</td>\n",
       "      <td>13.881687</td>\n",
       "      <td>0.379382</td>\n",
       "      <td>9.770833</td>\n",
       "      <td>0.424819</td>\n",
       "      <td>0.070588</td>\n",
       "      <td>0.119444</td>\n",
       "      <td>1</td>\n",
       "    </tr>\n",
       "    <tr>\n",
       "      <th>1</th>\n",
       "      <td>Chapter 2</td>\n",
       "      <td>8.501235</td>\n",
       "      <td>1.032492</td>\n",
       "      <td>26</td>\n",
       "      <td>2.153846</td>\n",
       "      <td>12.906154</td>\n",
       "      <td>0.380303</td>\n",
       "      <td>10.671795</td>\n",
       "      <td>0.426872</td>\n",
       "      <td>0.051724</td>\n",
       "      <td>0.102987</td>\n",
       "      <td>1</td>\n",
       "    </tr>\n",
       "    <tr>\n",
       "      <th>2</th>\n",
       "      <td>Chapter 3</td>\n",
       "      <td>8.301235</td>\n",
       "      <td>1.574021</td>\n",
       "      <td>22</td>\n",
       "      <td>2.000000</td>\n",
       "      <td>16.527222</td>\n",
       "      <td>0.387877</td>\n",
       "      <td>8.765152</td>\n",
       "      <td>0.417388</td>\n",
       "      <td>0.051724</td>\n",
       "      <td>0.189827</td>\n",
       "      <td>2</td>\n",
       "    </tr>\n",
       "    <tr>\n",
       "      <th>3</th>\n",
       "      <td>Chapter 4</td>\n",
       "      <td>8.201235</td>\n",
       "      <td>0.981159</td>\n",
       "      <td>27</td>\n",
       "      <td>2.074074</td>\n",
       "      <td>12.755071</td>\n",
       "      <td>0.324275</td>\n",
       "      <td>9.488889</td>\n",
       "      <td>0.364957</td>\n",
       "      <td>0.092784</td>\n",
       "      <td>0.207969</td>\n",
       "      <td>2</td>\n",
       "    </tr>\n",
       "    <tr>\n",
       "      <th>4</th>\n",
       "      <td>Chapter 5</td>\n",
       "      <td>8.401235</td>\n",
       "      <td>0.792796</td>\n",
       "      <td>29</td>\n",
       "      <td>2.275862</td>\n",
       "      <td>11.099147</td>\n",
       "      <td>0.356802</td>\n",
       "      <td>11.305747</td>\n",
       "      <td>0.403777</td>\n",
       "      <td>0.122951</td>\n",
       "      <td>0.078176</td>\n",
       "      <td>1</td>\n",
       "    </tr>\n",
       "    <tr>\n",
       "      <th>5</th>\n",
       "      <td>Chapter 6</td>\n",
       "      <td>8.501235</td>\n",
       "      <td>1.564426</td>\n",
       "      <td>22</td>\n",
       "      <td>2.272727</td>\n",
       "      <td>16.426470</td>\n",
       "      <td>0.370050</td>\n",
       "      <td>8.568182</td>\n",
       "      <td>0.408009</td>\n",
       "      <td>0.140187</td>\n",
       "      <td>0.251399</td>\n",
       "      <td>2</td>\n",
       "    </tr>\n",
       "    <tr>\n",
       "      <th>6</th>\n",
       "      <td>Chapter 7</td>\n",
       "      <td>8.101235</td>\n",
       "      <td>1.056570</td>\n",
       "      <td>28</td>\n",
       "      <td>2.428571</td>\n",
       "      <td>14.263700</td>\n",
       "      <td>0.362363</td>\n",
       "      <td>10.779762</td>\n",
       "      <td>0.399250</td>\n",
       "      <td>0.147239</td>\n",
       "      <td>0.179422</td>\n",
       "      <td>2</td>\n",
       "    </tr>\n",
       "    <tr>\n",
       "      <th>7</th>\n",
       "      <td>Chapter 8</td>\n",
       "      <td>7.701235</td>\n",
       "      <td>3.157255</td>\n",
       "      <td>15</td>\n",
       "      <td>2.000000</td>\n",
       "      <td>22.100785</td>\n",
       "      <td>0.281975</td>\n",
       "      <td>4.400000</td>\n",
       "      <td>0.314286</td>\n",
       "      <td>0.171429</td>\n",
       "      <td>0.117460</td>\n",
       "      <td>2</td>\n",
       "    </tr>\n",
       "    <tr>\n",
       "      <th>8</th>\n",
       "      <td>Chapter 9</td>\n",
       "      <td>8.501235</td>\n",
       "      <td>1.837056</td>\n",
       "      <td>22</td>\n",
       "      <td>2.545455</td>\n",
       "      <td>19.289084</td>\n",
       "      <td>0.403324</td>\n",
       "      <td>9.643939</td>\n",
       "      <td>0.459235</td>\n",
       "      <td>0.150000</td>\n",
       "      <td>0.304293</td>\n",
       "      <td>1</td>\n",
       "    </tr>\n",
       "    <tr>\n",
       "      <th>9</th>\n",
       "      <td>Chapter 10</td>\n",
       "      <td>8.701235</td>\n",
       "      <td>1.795357</td>\n",
       "      <td>20</td>\n",
       "      <td>2.500000</td>\n",
       "      <td>17.055894</td>\n",
       "      <td>0.454069</td>\n",
       "      <td>9.500000</td>\n",
       "      <td>0.500000</td>\n",
       "      <td>0.153846</td>\n",
       "      <td>0.246062</td>\n",
       "      <td>1</td>\n",
       "    </tr>\n",
       "    <tr>\n",
       "      <th>10</th>\n",
       "      <td>Chapter 11</td>\n",
       "      <td>9.001235</td>\n",
       "      <td>3.574795</td>\n",
       "      <td>15</td>\n",
       "      <td>2.133333</td>\n",
       "      <td>25.023568</td>\n",
       "      <td>0.411523</td>\n",
       "      <td>6.633333</td>\n",
       "      <td>0.473810</td>\n",
       "      <td>0.153846</td>\n",
       "      <td>0.184127</td>\n",
       "      <td>1</td>\n",
       "    </tr>\n",
       "    <tr>\n",
       "      <th>11</th>\n",
       "      <td>Chapter 12</td>\n",
       "      <td>8.501235</td>\n",
       "      <td>3.286216</td>\n",
       "      <td>17</td>\n",
       "      <td>2.000000</td>\n",
       "      <td>26.289732</td>\n",
       "      <td>0.376718</td>\n",
       "      <td>7.043137</td>\n",
       "      <td>0.440196</td>\n",
       "      <td>0.075000</td>\n",
       "      <td>0.137255</td>\n",
       "      <td>1</td>\n",
       "    </tr>\n",
       "    <tr>\n",
       "      <th>12</th>\n",
       "      <td>Chapter 13</td>\n",
       "      <td>8.801235</td>\n",
       "      <td>1.140014</td>\n",
       "      <td>24</td>\n",
       "      <td>2.250000</td>\n",
       "      <td>13.110161</td>\n",
       "      <td>0.300054</td>\n",
       "      <td>8.880754</td>\n",
       "      <td>0.386120</td>\n",
       "      <td>0.107143</td>\n",
       "      <td>0.162500</td>\n",
       "      <td>1</td>\n",
       "    </tr>\n",
       "    <tr>\n",
       "      <th>13</th>\n",
       "      <td>Chapter 14</td>\n",
       "      <td>9.501235</td>\n",
       "      <td>1.273488</td>\n",
       "      <td>24</td>\n",
       "      <td>2.000000</td>\n",
       "      <td>14.645112</td>\n",
       "      <td>0.331301</td>\n",
       "      <td>8.573611</td>\n",
       "      <td>0.372766</td>\n",
       "      <td>0.072289</td>\n",
       "      <td>0.146591</td>\n",
       "      <td>2</td>\n",
       "    </tr>\n",
       "    <tr>\n",
       "      <th>14</th>\n",
       "      <td>Chapter 15</td>\n",
       "      <td>8.301235</td>\n",
       "      <td>0.953804</td>\n",
       "      <td>29</td>\n",
       "      <td>2.275862</td>\n",
       "      <td>13.353250</td>\n",
       "      <td>0.307153</td>\n",
       "      <td>9.474713</td>\n",
       "      <td>0.338383</td>\n",
       "      <td>0.132075</td>\n",
       "      <td>0.145402</td>\n",
       "      <td>2</td>\n",
       "    </tr>\n",
       "    <tr>\n",
       "      <th>15</th>\n",
       "      <td>Chapter 16</td>\n",
       "      <td>8.401235</td>\n",
       "      <td>0.696567</td>\n",
       "      <td>34</td>\n",
       "      <td>2.176471</td>\n",
       "      <td>11.493355</td>\n",
       "      <td>0.236572</td>\n",
       "      <td>9.099580</td>\n",
       "      <td>0.275745</td>\n",
       "      <td>0.112782</td>\n",
       "      <td>0.146843</td>\n",
       "      <td>2</td>\n",
       "    </tr>\n",
       "    <tr>\n",
       "      <th>16</th>\n",
       "      <td>Chapter 17</td>\n",
       "      <td>9.001235</td>\n",
       "      <td>3.467550</td>\n",
       "      <td>16</td>\n",
       "      <td>2.000000</td>\n",
       "      <td>26.006629</td>\n",
       "      <td>0.289689</td>\n",
       "      <td>5.102083</td>\n",
       "      <td>0.340139</td>\n",
       "      <td>0.181818</td>\n",
       "      <td>0.112500</td>\n",
       "      <td>2</td>\n",
       "    </tr>\n",
       "    <tr>\n",
       "      <th>17</th>\n",
       "      <td>Chapter 18</td>\n",
       "      <td>8.301235</td>\n",
       "      <td>2.221926</td>\n",
       "      <td>22</td>\n",
       "      <td>2.090909</td>\n",
       "      <td>23.330221</td>\n",
       "      <td>0.258739</td>\n",
       "      <td>6.421212</td>\n",
       "      <td>0.305772</td>\n",
       "      <td>0.187500</td>\n",
       "      <td>0.190693</td>\n",
       "      <td>2</td>\n",
       "    </tr>\n",
       "    <tr>\n",
       "      <th>18</th>\n",
       "      <td>Chapter 19</td>\n",
       "      <td>8.301235</td>\n",
       "      <td>1.755915</td>\n",
       "      <td>24</td>\n",
       "      <td>2.333333</td>\n",
       "      <td>20.193018</td>\n",
       "      <td>0.337128</td>\n",
       "      <td>9.255556</td>\n",
       "      <td>0.402415</td>\n",
       "      <td>0.151899</td>\n",
       "      <td>0.231019</td>\n",
       "      <td>1</td>\n",
       "    </tr>\n",
       "    <tr>\n",
       "      <th>19</th>\n",
       "      <td>Chapter 20</td>\n",
       "      <td>8.401235</td>\n",
       "      <td>1.368640</td>\n",
       "      <td>25</td>\n",
       "      <td>2.320000</td>\n",
       "      <td>16.423682</td>\n",
       "      <td>0.351407</td>\n",
       "      <td>9.833333</td>\n",
       "      <td>0.409722</td>\n",
       "      <td>0.126316</td>\n",
       "      <td>0.106909</td>\n",
       "      <td>1</td>\n",
       "    </tr>\n",
       "    <tr>\n",
       "      <th>20</th>\n",
       "      <td>Chapter 21</td>\n",
       "      <td>8.501235</td>\n",
       "      <td>1.322753</td>\n",
       "      <td>26</td>\n",
       "      <td>2.000000</td>\n",
       "      <td>16.534407</td>\n",
       "      <td>0.245751</td>\n",
       "      <td>7.310256</td>\n",
       "      <td>0.292410</td>\n",
       "      <td>0.098361</td>\n",
       "      <td>0.130952</td>\n",
       "      <td>3</td>\n",
       "    </tr>\n",
       "    <tr>\n",
       "      <th>21</th>\n",
       "      <td>Chapter 22</td>\n",
       "      <td>8.901235</td>\n",
       "      <td>2.199680</td>\n",
       "      <td>21</td>\n",
       "      <td>2.285714</td>\n",
       "      <td>21.996803</td>\n",
       "      <td>0.345505</td>\n",
       "      <td>8.292971</td>\n",
       "      <td>0.414649</td>\n",
       "      <td>0.145161</td>\n",
       "      <td>0.065533</td>\n",
       "      <td>1</td>\n",
       "    </tr>\n",
       "    <tr>\n",
       "      <th>22</th>\n",
       "      <td>Chapter 23</td>\n",
       "      <td>8.301235</td>\n",
       "      <td>1.223193</td>\n",
       "      <td>28</td>\n",
       "      <td>2.428571</td>\n",
       "      <td>16.513101</td>\n",
       "      <td>0.265322</td>\n",
       "      <td>7.940476</td>\n",
       "      <td>0.294092</td>\n",
       "      <td>0.160305</td>\n",
       "      <td>0.209740</td>\n",
       "      <td>2</td>\n",
       "    </tr>\n",
       "    <tr>\n",
       "      <th>23</th>\n",
       "      <td>Chapter 24</td>\n",
       "      <td>8.701235</td>\n",
       "      <td>1.811418</td>\n",
       "      <td>23</td>\n",
       "      <td>2.260870</td>\n",
       "      <td>19.925597</td>\n",
       "      <td>0.356745</td>\n",
       "      <td>9.089855</td>\n",
       "      <td>0.413175</td>\n",
       "      <td>0.160000</td>\n",
       "      <td>0.151208</td>\n",
       "      <td>1</td>\n",
       "    </tr>\n",
       "    <tr>\n",
       "      <th>24</th>\n",
       "      <td>Chapter 25</td>\n",
       "      <td>8.801235</td>\n",
       "      <td>1.170408</td>\n",
       "      <td>29</td>\n",
       "      <td>2.413793</td>\n",
       "      <td>16.385716</td>\n",
       "      <td>0.253734</td>\n",
       "      <td>8.358621</td>\n",
       "      <td>0.298522</td>\n",
       "      <td>0.189474</td>\n",
       "      <td>0.245594</td>\n",
       "      <td>3</td>\n",
       "    </tr>\n",
       "    <tr>\n",
       "      <th>25</th>\n",
       "      <td>Chapter 26</td>\n",
       "      <td>9.501235</td>\n",
       "      <td>1.476708</td>\n",
       "      <td>24</td>\n",
       "      <td>2.166667</td>\n",
       "      <td>16.982137</td>\n",
       "      <td>0.349331</td>\n",
       "      <td>9.262500</td>\n",
       "      <td>0.402717</td>\n",
       "      <td>0.044118</td>\n",
       "      <td>0.031944</td>\n",
       "      <td>1</td>\n",
       "    </tr>\n",
       "  </tbody>\n",
       "</table>\n",
       "</div>"
      ],
      "text/plain": [
       "       Episode    Review  Weighted_Density  Active_Nodes   Degrees   Strength  \\\n",
       "0    Chapter 1  8.601235          1.207103            24  2.083333  13.881687   \n",
       "1    Chapter 2  8.501235          1.032492            26  2.153846  12.906154   \n",
       "2    Chapter 3  8.301235          1.574021            22  2.000000  16.527222   \n",
       "3    Chapter 4  8.201235          0.981159            27  2.074074  12.755071   \n",
       "4    Chapter 5  8.401235          0.792796            29  2.275862  11.099147   \n",
       "5    Chapter 6  8.501235          1.564426            22  2.272727  16.426470   \n",
       "6    Chapter 7  8.101235          1.056570            28  2.428571  14.263700   \n",
       "7    Chapter 8  7.701235          3.157255            15  2.000000  22.100785   \n",
       "8    Chapter 9  8.501235          1.837056            22  2.545455  19.289084   \n",
       "9   Chapter 10  8.701235          1.795357            20  2.500000  17.055894   \n",
       "10  Chapter 11  9.001235          3.574795            15  2.133333  25.023568   \n",
       "11  Chapter 12  8.501235          3.286216            17  2.000000  26.289732   \n",
       "12  Chapter 13  8.801235          1.140014            24  2.250000  13.110161   \n",
       "13  Chapter 14  9.501235          1.273488            24  2.000000  14.645112   \n",
       "14  Chapter 15  8.301235          0.953804            29  2.275862  13.353250   \n",
       "15  Chapter 16  8.401235          0.696567            34  2.176471  11.493355   \n",
       "16  Chapter 17  9.001235          3.467550            16  2.000000  26.006629   \n",
       "17  Chapter 18  8.301235          2.221926            22  2.090909  23.330221   \n",
       "18  Chapter 19  8.301235          1.755915            24  2.333333  20.193018   \n",
       "19  Chapter 20  8.401235          1.368640            25  2.320000  16.423682   \n",
       "20  Chapter 21  8.501235          1.322753            26  2.000000  16.534407   \n",
       "21  Chapter 22  8.901235          2.199680            21  2.285714  21.996803   \n",
       "22  Chapter 23  8.301235          1.223193            28  2.428571  16.513101   \n",
       "23  Chapter 24  8.701235          1.811418            23  2.260870  19.925597   \n",
       "24  Chapter 25  8.801235          1.170408            29  2.413793  16.385716   \n",
       "25  Chapter 26  9.501235          1.476708            24  2.166667  16.982137   \n",
       "\n",
       "    Closeness   Harmonic  Efficiency  Transitivity  Clusters  Components  \n",
       "0    0.379382   9.770833    0.424819      0.070588  0.119444           1  \n",
       "1    0.380303  10.671795    0.426872      0.051724  0.102987           1  \n",
       "2    0.387877   8.765152    0.417388      0.051724  0.189827           2  \n",
       "3    0.324275   9.488889    0.364957      0.092784  0.207969           2  \n",
       "4    0.356802  11.305747    0.403777      0.122951  0.078176           1  \n",
       "5    0.370050   8.568182    0.408009      0.140187  0.251399           2  \n",
       "6    0.362363  10.779762    0.399250      0.147239  0.179422           2  \n",
       "7    0.281975   4.400000    0.314286      0.171429  0.117460           2  \n",
       "8    0.403324   9.643939    0.459235      0.150000  0.304293           1  \n",
       "9    0.454069   9.500000    0.500000      0.153846  0.246062           1  \n",
       "10   0.411523   6.633333    0.473810      0.153846  0.184127           1  \n",
       "11   0.376718   7.043137    0.440196      0.075000  0.137255           1  \n",
       "12   0.300054   8.880754    0.386120      0.107143  0.162500           1  \n",
       "13   0.331301   8.573611    0.372766      0.072289  0.146591           2  \n",
       "14   0.307153   9.474713    0.338383      0.132075  0.145402           2  \n",
       "15   0.236572   9.099580    0.275745      0.112782  0.146843           2  \n",
       "16   0.289689   5.102083    0.340139      0.181818  0.112500           2  \n",
       "17   0.258739   6.421212    0.305772      0.187500  0.190693           2  \n",
       "18   0.337128   9.255556    0.402415      0.151899  0.231019           1  \n",
       "19   0.351407   9.833333    0.409722      0.126316  0.106909           1  \n",
       "20   0.245751   7.310256    0.292410      0.098361  0.130952           3  \n",
       "21   0.345505   8.292971    0.414649      0.145161  0.065533           1  \n",
       "22   0.265322   7.940476    0.294092      0.160305  0.209740           2  \n",
       "23   0.356745   9.089855    0.413175      0.160000  0.151208           1  \n",
       "24   0.253734   8.358621    0.298522      0.189474  0.245594           3  \n",
       "25   0.349331   9.262500    0.402717      0.044118  0.031944           1  "
      ]
     },
     "execution_count": 194,
     "metadata": {},
     "output_type": "execute_result"
    }
   ],
   "source": [
    "files = os.listdir(\"Data/HoC_dyn_ts10\")\n",
    "df_hoc = get_df('HoC.csv', \"Data/HoC_dyn_ts10/\",  'HoC_S0', 3, 14, 26)\n",
    "df_hoc"
   ]
  },
  {
   "cell_type": "code",
   "execution_count": 195,
   "metadata": {},
   "outputs": [
    {
     "data": {
      "text/html": [
       "<div>\n",
       "<style scoped>\n",
       "    .dataframe tbody tr th:only-of-type {\n",
       "        vertical-align: middle;\n",
       "    }\n",
       "\n",
       "    .dataframe tbody tr th {\n",
       "        vertical-align: top;\n",
       "    }\n",
       "\n",
       "    .dataframe thead th {\n",
       "        text-align: right;\n",
       "    }\n",
       "</style>\n",
       "<table border=\"1\" class=\"dataframe\">\n",
       "  <thead>\n",
       "    <tr style=\"text-align: right;\">\n",
       "      <th></th>\n",
       "      <th>Network Metrics</th>\n",
       "      <th>Correlation</th>\n",
       "      <th>pValue</th>\n",
       "    </tr>\n",
       "  </thead>\n",
       "  <tbody>\n",
       "    <tr>\n",
       "      <th>0</th>\n",
       "      <td>Weighted_Density</td>\n",
       "      <td>0.089816</td>\n",
       "      <td>0.662594</td>\n",
       "    </tr>\n",
       "    <tr>\n",
       "      <th>1</th>\n",
       "      <td>Active_Nodes</td>\n",
       "      <td>-0.142668</td>\n",
       "      <td>0.486893</td>\n",
       "    </tr>\n",
       "    <tr>\n",
       "      <th>2</th>\n",
       "      <td>Degrees</td>\n",
       "      <td>-0.087954</td>\n",
       "      <td>0.669197</td>\n",
       "    </tr>\n",
       "    <tr>\n",
       "      <th>3</th>\n",
       "      <td>Strength</td>\n",
       "      <td>0.107916</td>\n",
       "      <td>0.599765</td>\n",
       "    </tr>\n",
       "    <tr>\n",
       "      <th>4</th>\n",
       "      <td>Closeness</td>\n",
       "      <td>0.165582</td>\n",
       "      <td>0.418870</td>\n",
       "    </tr>\n",
       "    <tr>\n",
       "      <th>5</th>\n",
       "      <td>Harmonic</td>\n",
       "      <td>0.012449</td>\n",
       "      <td>0.951869</td>\n",
       "    </tr>\n",
       "    <tr>\n",
       "      <th>6</th>\n",
       "      <td>Efficiency</td>\n",
       "      <td>0.243479</td>\n",
       "      <td>0.230689</td>\n",
       "    </tr>\n",
       "    <tr>\n",
       "      <th>7</th>\n",
       "      <td>Transitivity</td>\n",
       "      <td>-0.249218</td>\n",
       "      <td>0.219539</td>\n",
       "    </tr>\n",
       "    <tr>\n",
       "      <th>8</th>\n",
       "      <td>Clusters</td>\n",
       "      <td>-0.255414</td>\n",
       "      <td>0.207914</td>\n",
       "    </tr>\n",
       "    <tr>\n",
       "      <th>9</th>\n",
       "      <td>Components</td>\n",
       "      <td>-0.200630</td>\n",
       "      <td>0.325733</td>\n",
       "    </tr>\n",
       "  </tbody>\n",
       "</table>\n",
       "</div>"
      ],
      "text/plain": [
       "    Network Metrics  Correlation    pValue\n",
       "0  Weighted_Density     0.089816  0.662594\n",
       "1      Active_Nodes    -0.142668  0.486893\n",
       "2           Degrees    -0.087954  0.669197\n",
       "3          Strength     0.107916  0.599765\n",
       "4         Closeness     0.165582  0.418870\n",
       "5          Harmonic     0.012449  0.951869\n",
       "6        Efficiency     0.243479  0.230689\n",
       "7      Transitivity    -0.249218  0.219539\n",
       "8          Clusters    -0.255414  0.207914\n",
       "9        Components    -0.200630  0.325733"
      ]
     },
     "execution_count": 195,
     "metadata": {},
     "output_type": "execute_result"
    }
   ],
   "source": [
    "get_corr(df_hoc)"
   ]
  },
  {
   "cell_type": "code",
   "execution_count": 196,
   "metadata": {},
   "outputs": [
    {
     "data": {
      "text/html": [
       "<div>\n",
       "<style scoped>\n",
       "    .dataframe tbody tr th:only-of-type {\n",
       "        vertical-align: middle;\n",
       "    }\n",
       "\n",
       "    .dataframe tbody tr th {\n",
       "        vertical-align: top;\n",
       "    }\n",
       "\n",
       "    .dataframe thead th {\n",
       "        text-align: right;\n",
       "    }\n",
       "</style>\n",
       "<table border=\"1\" class=\"dataframe\">\n",
       "  <thead>\n",
       "    <tr style=\"text-align: right;\">\n",
       "      <th></th>\n",
       "      <th>Network Metrics</th>\n",
       "      <th>Correlation</th>\n",
       "      <th>pValue</th>\n",
       "    </tr>\n",
       "  </thead>\n",
       "  <tbody>\n",
       "    <tr>\n",
       "      <th>0</th>\n",
       "      <td>Weighted_Density</td>\n",
       "      <td>0.264401</td>\n",
       "      <td>0.191807</td>\n",
       "    </tr>\n",
       "    <tr>\n",
       "      <th>1</th>\n",
       "      <td>Active_Nodes</td>\n",
       "      <td>-0.297138</td>\n",
       "      <td>0.140446</td>\n",
       "    </tr>\n",
       "    <tr>\n",
       "      <th>2</th>\n",
       "      <td>Degrees</td>\n",
       "      <td>-0.090547</td>\n",
       "      <td>0.660011</td>\n",
       "    </tr>\n",
       "    <tr>\n",
       "      <th>3</th>\n",
       "      <td>Strength</td>\n",
       "      <td>0.205453</td>\n",
       "      <td>0.313991</td>\n",
       "    </tr>\n",
       "    <tr>\n",
       "      <th>4</th>\n",
       "      <td>Closeness</td>\n",
       "      <td>0.161674</td>\n",
       "      <td>0.430085</td>\n",
       "    </tr>\n",
       "    <tr>\n",
       "      <th>5</th>\n",
       "      <td>Harmonic</td>\n",
       "      <td>-0.169258</td>\n",
       "      <td>0.408469</td>\n",
       "    </tr>\n",
       "    <tr>\n",
       "      <th>6</th>\n",
       "      <td>Efficiency</td>\n",
       "      <td>0.302320</td>\n",
       "      <td>0.133329</td>\n",
       "    </tr>\n",
       "    <tr>\n",
       "      <th>7</th>\n",
       "      <td>Transitivity</td>\n",
       "      <td>-0.099658</td>\n",
       "      <td>0.628119</td>\n",
       "    </tr>\n",
       "    <tr>\n",
       "      <th>8</th>\n",
       "      <td>Clusters</td>\n",
       "      <td>-0.216140</td>\n",
       "      <td>0.288918</td>\n",
       "    </tr>\n",
       "    <tr>\n",
       "      <th>9</th>\n",
       "      <td>Components</td>\n",
       "      <td>-0.313916</td>\n",
       "      <td>0.118355</td>\n",
       "    </tr>\n",
       "  </tbody>\n",
       "</table>\n",
       "</div>"
      ],
      "text/plain": [
       "    Network Metrics  Correlation    pValue\n",
       "0  Weighted_Density     0.264401  0.191807\n",
       "1      Active_Nodes    -0.297138  0.140446\n",
       "2           Degrees    -0.090547  0.660011\n",
       "3          Strength     0.205453  0.313991\n",
       "4         Closeness     0.161674  0.430085\n",
       "5          Harmonic    -0.169258  0.408469\n",
       "6        Efficiency     0.302320  0.133329\n",
       "7      Transitivity    -0.099658  0.628119\n",
       "8          Clusters    -0.216140  0.288918\n",
       "9        Components    -0.313916  0.118355"
      ]
     },
     "execution_count": 196,
     "metadata": {},
     "output_type": "execute_result"
    }
   ],
   "source": [
    "get_corr_spearman(df_hoc)"
   ]
  },
  {
   "cell_type": "markdown",
   "metadata": {},
   "source": [
    "# Breaking Bad"
   ]
  },
  {
   "cell_type": "code",
   "execution_count": 197,
   "metadata": {},
   "outputs": [
    {
     "name": "stdout",
     "output_type": "stream",
     "text": [
      "1 8\n",
      "1 9\n",
      "1 10\n",
      "1 11\n",
      "1 12\n",
      "1 13\n",
      "3 7\n",
      "3 8\n",
      "3 9\n",
      "3 10\n",
      "3 11\n",
      "3 12\n",
      "3 13\n"
     ]
    },
    {
     "data": {
      "text/html": [
       "<div>\n",
       "<style scoped>\n",
       "    .dataframe tbody tr th:only-of-type {\n",
       "        vertical-align: middle;\n",
       "    }\n",
       "\n",
       "    .dataframe tbody tr th {\n",
       "        vertical-align: top;\n",
       "    }\n",
       "\n",
       "    .dataframe thead th {\n",
       "        text-align: right;\n",
       "    }\n",
       "</style>\n",
       "<table border=\"1\" class=\"dataframe\">\n",
       "  <thead>\n",
       "    <tr style=\"text-align: right;\">\n",
       "      <th></th>\n",
       "      <th>Episode</th>\n",
       "      <th>Review</th>\n",
       "      <th>Weighted_Density</th>\n",
       "      <th>Active_Nodes</th>\n",
       "      <th>Degrees</th>\n",
       "      <th>Strength</th>\n",
       "      <th>Closeness</th>\n",
       "      <th>Harmonic</th>\n",
       "      <th>Efficiency</th>\n",
       "      <th>Transitivity</th>\n",
       "      <th>Clusters</th>\n",
       "      <th>Components</th>\n",
       "    </tr>\n",
       "  </thead>\n",
       "  <tbody>\n",
       "    <tr>\n",
       "      <th>0</th>\n",
       "      <td>Pilot</td>\n",
       "      <td>9.001235</td>\n",
       "      <td>7.243874</td>\n",
       "      <td>12</td>\n",
       "      <td>2.000000</td>\n",
       "      <td>39.841304</td>\n",
       "      <td>0.473766</td>\n",
       "      <td>5.819444</td>\n",
       "      <td>0.529040</td>\n",
       "      <td>0.088235</td>\n",
       "      <td>0.114087</td>\n",
       "      <td>1</td>\n",
       "    </tr>\n",
       "    <tr>\n",
       "      <th>1</th>\n",
       "      <td>Cat's in the Bag...</td>\n",
       "      <td>8.601235</td>\n",
       "      <td>81.456667</td>\n",
       "      <td>4</td>\n",
       "      <td>2.000000</td>\n",
       "      <td>122.185000</td>\n",
       "      <td>0.775000</td>\n",
       "      <td>2.500000</td>\n",
       "      <td>0.833333</td>\n",
       "      <td>0.600000</td>\n",
       "      <td>0.583333</td>\n",
       "      <td>1</td>\n",
       "    </tr>\n",
       "    <tr>\n",
       "      <th>2</th>\n",
       "      <td>...And the Bag's in the River</td>\n",
       "      <td>8.701235</td>\n",
       "      <td>14.267550</td>\n",
       "      <td>11</td>\n",
       "      <td>2.000000</td>\n",
       "      <td>71.337752</td>\n",
       "      <td>0.383229</td>\n",
       "      <td>4.869697</td>\n",
       "      <td>0.486970</td>\n",
       "      <td>0.150000</td>\n",
       "      <td>0.121212</td>\n",
       "      <td>1</td>\n",
       "    </tr>\n",
       "    <tr>\n",
       "      <th>3</th>\n",
       "      <td>Cancer Man</td>\n",
       "      <td>8.201235</td>\n",
       "      <td>2.123505</td>\n",
       "      <td>22</td>\n",
       "      <td>2.727273</td>\n",
       "      <td>22.296802</td>\n",
       "      <td>0.404725</td>\n",
       "      <td>9.727273</td>\n",
       "      <td>0.463203</td>\n",
       "      <td>0.284483</td>\n",
       "      <td>0.363961</td>\n",
       "      <td>1</td>\n",
       "    </tr>\n",
       "    <tr>\n",
       "      <th>4</th>\n",
       "      <td>Gray Matter</td>\n",
       "      <td>8.301235</td>\n",
       "      <td>4.625012</td>\n",
       "      <td>15</td>\n",
       "      <td>2.266667</td>\n",
       "      <td>32.375083</td>\n",
       "      <td>0.411813</td>\n",
       "      <td>6.773333</td>\n",
       "      <td>0.483810</td>\n",
       "      <td>0.180000</td>\n",
       "      <td>0.146825</td>\n",
       "      <td>1</td>\n",
       "    </tr>\n",
       "    <tr>\n",
       "      <th>5</th>\n",
       "      <td>Crazy Handful of Nothin'</td>\n",
       "      <td>9.301235</td>\n",
       "      <td>5.157157</td>\n",
       "      <td>14</td>\n",
       "      <td>2.142857</td>\n",
       "      <td>33.521519</td>\n",
       "      <td>0.443245</td>\n",
       "      <td>6.535714</td>\n",
       "      <td>0.502747</td>\n",
       "      <td>0.142857</td>\n",
       "      <td>0.195578</td>\n",
       "      <td>1</td>\n",
       "    </tr>\n",
       "    <tr>\n",
       "      <th>6</th>\n",
       "      <td>A No-Rough-Stuff-Type Deal</td>\n",
       "      <td>8.801235</td>\n",
       "      <td>5.754367</td>\n",
       "      <td>13</td>\n",
       "      <td>1.692308</td>\n",
       "      <td>34.526201</td>\n",
       "      <td>0.274706</td>\n",
       "      <td>3.876923</td>\n",
       "      <td>0.323077</td>\n",
       "      <td>0.000000</td>\n",
       "      <td>0.000000</td>\n",
       "      <td>2</td>\n",
       "    </tr>\n",
       "    <tr>\n",
       "      <th>7</th>\n",
       "      <td>Seven Thirty-Seven</td>\n",
       "      <td>8.601235</td>\n",
       "      <td>21.428122</td>\n",
       "      <td>7</td>\n",
       "      <td>2.285714</td>\n",
       "      <td>64.284365</td>\n",
       "      <td>0.580539</td>\n",
       "      <td>3.952381</td>\n",
       "      <td>0.658730</td>\n",
       "      <td>0.375000</td>\n",
       "      <td>0.285714</td>\n",
       "      <td>1</td>\n",
       "    </tr>\n",
       "    <tr>\n",
       "      <th>8</th>\n",
       "      <td>Grilled</td>\n",
       "      <td>9.301235</td>\n",
       "      <td>10.663760</td>\n",
       "      <td>11</td>\n",
       "      <td>2.545455</td>\n",
       "      <td>53.318800</td>\n",
       "      <td>0.510917</td>\n",
       "      <td>5.787879</td>\n",
       "      <td>0.578788</td>\n",
       "      <td>0.307692</td>\n",
       "      <td>0.427273</td>\n",
       "      <td>1</td>\n",
       "    </tr>\n",
       "    <tr>\n",
       "      <th>9</th>\n",
       "      <td>Bit by a Dead Bee</td>\n",
       "      <td>8.301235</td>\n",
       "      <td>3.878651</td>\n",
       "      <td>17</td>\n",
       "      <td>2.823529</td>\n",
       "      <td>31.029206</td>\n",
       "      <td>0.477503</td>\n",
       "      <td>8.509804</td>\n",
       "      <td>0.531863</td>\n",
       "      <td>0.264706</td>\n",
       "      <td>0.351261</td>\n",
       "      <td>1</td>\n",
       "    </tr>\n",
       "    <tr>\n",
       "      <th>10</th>\n",
       "      <td>Down</td>\n",
       "      <td>8.201235</td>\n",
       "      <td>6.317510</td>\n",
       "      <td>13</td>\n",
       "      <td>2.000000</td>\n",
       "      <td>37.905062</td>\n",
       "      <td>0.464976</td>\n",
       "      <td>6.230769</td>\n",
       "      <td>0.519231</td>\n",
       "      <td>0.078947</td>\n",
       "      <td>0.157509</td>\n",
       "      <td>1</td>\n",
       "    </tr>\n",
       "    <tr>\n",
       "      <th>11</th>\n",
       "      <td>Breakage</td>\n",
       "      <td>8.301235</td>\n",
       "      <td>5.114640</td>\n",
       "      <td>16</td>\n",
       "      <td>2.125000</td>\n",
       "      <td>38.359803</td>\n",
       "      <td>0.398539</td>\n",
       "      <td>7.000000</td>\n",
       "      <td>0.466667</td>\n",
       "      <td>0.065217</td>\n",
       "      <td>0.075000</td>\n",
       "      <td>1</td>\n",
       "    </tr>\n",
       "    <tr>\n",
       "      <th>12</th>\n",
       "      <td>Peekaboo</td>\n",
       "      <td>8.901235</td>\n",
       "      <td>6.410730</td>\n",
       "      <td>14</td>\n",
       "      <td>2.285714</td>\n",
       "      <td>41.669748</td>\n",
       "      <td>0.361305</td>\n",
       "      <td>5.357143</td>\n",
       "      <td>0.412088</td>\n",
       "      <td>0.357143</td>\n",
       "      <td>0.374490</td>\n",
       "      <td>2</td>\n",
       "    </tr>\n",
       "    <tr>\n",
       "      <th>13</th>\n",
       "      <td>Negro y Azul</td>\n",
       "      <td>8.701235</td>\n",
       "      <td>3.657477</td>\n",
       "      <td>20</td>\n",
       "      <td>2.400000</td>\n",
       "      <td>34.746028</td>\n",
       "      <td>0.296631</td>\n",
       "      <td>6.450000</td>\n",
       "      <td>0.339474</td>\n",
       "      <td>0.272727</td>\n",
       "      <td>0.377143</td>\n",
       "      <td>2</td>\n",
       "    </tr>\n",
       "    <tr>\n",
       "      <th>14</th>\n",
       "      <td>Better Call Saul</td>\n",
       "      <td>9.201235</td>\n",
       "      <td>9.919173</td>\n",
       "      <td>11</td>\n",
       "      <td>2.363636</td>\n",
       "      <td>49.595866</td>\n",
       "      <td>0.439500</td>\n",
       "      <td>5.278788</td>\n",
       "      <td>0.527879</td>\n",
       "      <td>0.333333</td>\n",
       "      <td>0.239394</td>\n",
       "      <td>1</td>\n",
       "    </tr>\n",
       "    <tr>\n",
       "      <th>15</th>\n",
       "      <td>4 Days Out</td>\n",
       "      <td>9.101235</td>\n",
       "      <td>36.364275</td>\n",
       "      <td>6</td>\n",
       "      <td>2.000000</td>\n",
       "      <td>90.910688</td>\n",
       "      <td>0.604527</td>\n",
       "      <td>3.388889</td>\n",
       "      <td>0.677778</td>\n",
       "      <td>0.300000</td>\n",
       "      <td>0.250000</td>\n",
       "      <td>1</td>\n",
       "    </tr>\n",
       "    <tr>\n",
       "      <th>16</th>\n",
       "      <td>Over</td>\n",
       "      <td>8.501235</td>\n",
       "      <td>8.669906</td>\n",
       "      <td>11</td>\n",
       "      <td>2.363636</td>\n",
       "      <td>43.349532</td>\n",
       "      <td>0.463522</td>\n",
       "      <td>5.475758</td>\n",
       "      <td>0.547576</td>\n",
       "      <td>0.342857</td>\n",
       "      <td>0.240260</td>\n",
       "      <td>1</td>\n",
       "    </tr>\n",
       "    <tr>\n",
       "      <th>17</th>\n",
       "      <td>Mandala</td>\n",
       "      <td>8.901235</td>\n",
       "      <td>3.256634</td>\n",
       "      <td>17</td>\n",
       "      <td>1.882353</td>\n",
       "      <td>26.053070</td>\n",
       "      <td>0.258724</td>\n",
       "      <td>4.811765</td>\n",
       "      <td>0.300735</td>\n",
       "      <td>0.171429</td>\n",
       "      <td>0.113445</td>\n",
       "      <td>3</td>\n",
       "    </tr>\n",
       "    <tr>\n",
       "      <th>18</th>\n",
       "      <td>Phoenix</td>\n",
       "      <td>9.201235</td>\n",
       "      <td>6.020453</td>\n",
       "      <td>13</td>\n",
       "      <td>2.461538</td>\n",
       "      <td>36.122717</td>\n",
       "      <td>0.411050</td>\n",
       "      <td>5.384615</td>\n",
       "      <td>0.448718</td>\n",
       "      <td>0.288462</td>\n",
       "      <td>0.446581</td>\n",
       "      <td>2</td>\n",
       "    </tr>\n",
       "    <tr>\n",
       "      <th>19</th>\n",
       "      <td>ABQ</td>\n",
       "      <td>9.201235</td>\n",
       "      <td>4.321632</td>\n",
       "      <td>15</td>\n",
       "      <td>2.400000</td>\n",
       "      <td>30.251423</td>\n",
       "      <td>0.304019</td>\n",
       "      <td>4.866667</td>\n",
       "      <td>0.347619</td>\n",
       "      <td>0.340909</td>\n",
       "      <td>0.315873</td>\n",
       "      <td>2</td>\n",
       "    </tr>\n",
       "    <tr>\n",
       "      <th>20</th>\n",
       "      <td>No Más</td>\n",
       "      <td>8.501235</td>\n",
       "      <td>7.996594</td>\n",
       "      <td>11</td>\n",
       "      <td>2.181818</td>\n",
       "      <td>39.982970</td>\n",
       "      <td>0.436722</td>\n",
       "      <td>5.181818</td>\n",
       "      <td>0.518182</td>\n",
       "      <td>0.250000</td>\n",
       "      <td>0.190909</td>\n",
       "      <td>1</td>\n",
       "    </tr>\n",
       "    <tr>\n",
       "      <th>21</th>\n",
       "      <td>Caballo sin Nombre</td>\n",
       "      <td>8.701235</td>\n",
       "      <td>5.847188</td>\n",
       "      <td>15</td>\n",
       "      <td>2.266667</td>\n",
       "      <td>40.930316</td>\n",
       "      <td>0.384290</td>\n",
       "      <td>6.448889</td>\n",
       "      <td>0.460635</td>\n",
       "      <td>0.236842</td>\n",
       "      <td>0.222222</td>\n",
       "      <td>1</td>\n",
       "    </tr>\n",
       "    <tr>\n",
       "      <th>22</th>\n",
       "      <td>I.F.T.</td>\n",
       "      <td>8.401235</td>\n",
       "      <td>8.303290</td>\n",
       "      <td>11</td>\n",
       "      <td>1.454545</td>\n",
       "      <td>41.516448</td>\n",
       "      <td>0.163333</td>\n",
       "      <td>1.727273</td>\n",
       "      <td>0.172727</td>\n",
       "      <td>0.500000</td>\n",
       "      <td>0.212121</td>\n",
       "      <td>4</td>\n",
       "    </tr>\n",
       "    <tr>\n",
       "      <th>23</th>\n",
       "      <td>Green Light</td>\n",
       "      <td>8.201235</td>\n",
       "      <td>4.738142</td>\n",
       "      <td>15</td>\n",
       "      <td>1.866667</td>\n",
       "      <td>33.166993</td>\n",
       "      <td>0.287904</td>\n",
       "      <td>4.522222</td>\n",
       "      <td>0.323016</td>\n",
       "      <td>0.100000</td>\n",
       "      <td>0.092063</td>\n",
       "      <td>2</td>\n",
       "    </tr>\n",
       "    <tr>\n",
       "      <th>24</th>\n",
       "      <td>Más</td>\n",
       "      <td>8.601235</td>\n",
       "      <td>5.551763</td>\n",
       "      <td>15</td>\n",
       "      <td>2.133333</td>\n",
       "      <td>38.862341</td>\n",
       "      <td>0.300293</td>\n",
       "      <td>5.756508</td>\n",
       "      <td>0.411179</td>\n",
       "      <td>0.206897</td>\n",
       "      <td>0.233333</td>\n",
       "      <td>1</td>\n",
       "    </tr>\n",
       "    <tr>\n",
       "      <th>25</th>\n",
       "      <td>Sunset</td>\n",
       "      <td>9.301235</td>\n",
       "      <td>10.868473</td>\n",
       "      <td>11</td>\n",
       "      <td>1.636364</td>\n",
       "      <td>54.342364</td>\n",
       "      <td>0.203333</td>\n",
       "      <td>2.181818</td>\n",
       "      <td>0.218182</td>\n",
       "      <td>0.333333</td>\n",
       "      <td>0.212121</td>\n",
       "      <td>3</td>\n",
       "    </tr>\n",
       "  </tbody>\n",
       "</table>\n",
       "</div>"
      ],
      "text/plain": [
       "                          Episode    Review  Weighted_Density  Active_Nodes  \\\n",
       "0                           Pilot  9.001235          7.243874            12   \n",
       "1             Cat's in the Bag...  8.601235         81.456667             4   \n",
       "2   ...And the Bag's in the River  8.701235         14.267550            11   \n",
       "3                      Cancer Man  8.201235          2.123505            22   \n",
       "4                     Gray Matter  8.301235          4.625012            15   \n",
       "5        Crazy Handful of Nothin'  9.301235          5.157157            14   \n",
       "6      A No-Rough-Stuff-Type Deal  8.801235          5.754367            13   \n",
       "7              Seven Thirty-Seven  8.601235         21.428122             7   \n",
       "8                         Grilled  9.301235         10.663760            11   \n",
       "9               Bit by a Dead Bee  8.301235          3.878651            17   \n",
       "10                           Down  8.201235          6.317510            13   \n",
       "11                       Breakage  8.301235          5.114640            16   \n",
       "12                       Peekaboo  8.901235          6.410730            14   \n",
       "13                   Negro y Azul  8.701235          3.657477            20   \n",
       "14               Better Call Saul  9.201235          9.919173            11   \n",
       "15                     4 Days Out  9.101235         36.364275             6   \n",
       "16                           Over  8.501235          8.669906            11   \n",
       "17                        Mandala  8.901235          3.256634            17   \n",
       "18                        Phoenix  9.201235          6.020453            13   \n",
       "19                            ABQ  9.201235          4.321632            15   \n",
       "20                         No Más  8.501235          7.996594            11   \n",
       "21             Caballo sin Nombre  8.701235          5.847188            15   \n",
       "22                         I.F.T.  8.401235          8.303290            11   \n",
       "23                    Green Light  8.201235          4.738142            15   \n",
       "24                            Más  8.601235          5.551763            15   \n",
       "25                         Sunset  9.301235         10.868473            11   \n",
       "\n",
       "     Degrees    Strength  Closeness  Harmonic  Efficiency  Transitivity  \\\n",
       "0   2.000000   39.841304   0.473766  5.819444    0.529040      0.088235   \n",
       "1   2.000000  122.185000   0.775000  2.500000    0.833333      0.600000   \n",
       "2   2.000000   71.337752   0.383229  4.869697    0.486970      0.150000   \n",
       "3   2.727273   22.296802   0.404725  9.727273    0.463203      0.284483   \n",
       "4   2.266667   32.375083   0.411813  6.773333    0.483810      0.180000   \n",
       "5   2.142857   33.521519   0.443245  6.535714    0.502747      0.142857   \n",
       "6   1.692308   34.526201   0.274706  3.876923    0.323077      0.000000   \n",
       "7   2.285714   64.284365   0.580539  3.952381    0.658730      0.375000   \n",
       "8   2.545455   53.318800   0.510917  5.787879    0.578788      0.307692   \n",
       "9   2.823529   31.029206   0.477503  8.509804    0.531863      0.264706   \n",
       "10  2.000000   37.905062   0.464976  6.230769    0.519231      0.078947   \n",
       "11  2.125000   38.359803   0.398539  7.000000    0.466667      0.065217   \n",
       "12  2.285714   41.669748   0.361305  5.357143    0.412088      0.357143   \n",
       "13  2.400000   34.746028   0.296631  6.450000    0.339474      0.272727   \n",
       "14  2.363636   49.595866   0.439500  5.278788    0.527879      0.333333   \n",
       "15  2.000000   90.910688   0.604527  3.388889    0.677778      0.300000   \n",
       "16  2.363636   43.349532   0.463522  5.475758    0.547576      0.342857   \n",
       "17  1.882353   26.053070   0.258724  4.811765    0.300735      0.171429   \n",
       "18  2.461538   36.122717   0.411050  5.384615    0.448718      0.288462   \n",
       "19  2.400000   30.251423   0.304019  4.866667    0.347619      0.340909   \n",
       "20  2.181818   39.982970   0.436722  5.181818    0.518182      0.250000   \n",
       "21  2.266667   40.930316   0.384290  6.448889    0.460635      0.236842   \n",
       "22  1.454545   41.516448   0.163333  1.727273    0.172727      0.500000   \n",
       "23  1.866667   33.166993   0.287904  4.522222    0.323016      0.100000   \n",
       "24  2.133333   38.862341   0.300293  5.756508    0.411179      0.206897   \n",
       "25  1.636364   54.342364   0.203333  2.181818    0.218182      0.333333   \n",
       "\n",
       "    Clusters  Components  \n",
       "0   0.114087           1  \n",
       "1   0.583333           1  \n",
       "2   0.121212           1  \n",
       "3   0.363961           1  \n",
       "4   0.146825           1  \n",
       "5   0.195578           1  \n",
       "6   0.000000           2  \n",
       "7   0.285714           1  \n",
       "8   0.427273           1  \n",
       "9   0.351261           1  \n",
       "10  0.157509           1  \n",
       "11  0.075000           1  \n",
       "12  0.374490           2  \n",
       "13  0.377143           2  \n",
       "14  0.239394           1  \n",
       "15  0.250000           1  \n",
       "16  0.240260           1  \n",
       "17  0.113445           3  \n",
       "18  0.446581           2  \n",
       "19  0.315873           2  \n",
       "20  0.190909           1  \n",
       "21  0.222222           1  \n",
       "22  0.212121           4  \n",
       "23  0.092063           2  \n",
       "24  0.233333           1  \n",
       "25  0.212121           3  "
      ]
     },
     "execution_count": 197,
     "metadata": {},
     "output_type": "execute_result"
    }
   ],
   "source": [
    "files = os.listdir(\"Data/BB_dyn_ts10\")\n",
    "df_bb = get_df('BB.csv', \"Data/BB_dyn_ts10/\",  'BB_S0', 4, 14, 26)\n",
    "df_bb"
   ]
  },
  {
   "cell_type": "code",
   "execution_count": 198,
   "metadata": {},
   "outputs": [
    {
     "data": {
      "text/html": [
       "<div>\n",
       "<style scoped>\n",
       "    .dataframe tbody tr th:only-of-type {\n",
       "        vertical-align: middle;\n",
       "    }\n",
       "\n",
       "    .dataframe tbody tr th {\n",
       "        vertical-align: top;\n",
       "    }\n",
       "\n",
       "    .dataframe thead th {\n",
       "        text-align: right;\n",
       "    }\n",
       "</style>\n",
       "<table border=\"1\" class=\"dataframe\">\n",
       "  <thead>\n",
       "    <tr style=\"text-align: right;\">\n",
       "      <th></th>\n",
       "      <th>Network Metrics</th>\n",
       "      <th>Correlation</th>\n",
       "      <th>pValue</th>\n",
       "    </tr>\n",
       "  </thead>\n",
       "  <tbody>\n",
       "    <tr>\n",
       "      <th>0</th>\n",
       "      <td>Weighted_Density</td>\n",
       "      <td>0.051398</td>\n",
       "      <td>0.803087</td>\n",
       "    </tr>\n",
       "    <tr>\n",
       "      <th>1</th>\n",
       "      <td>Active_Nodes</td>\n",
       "      <td>-0.278249</td>\n",
       "      <td>0.168705</td>\n",
       "    </tr>\n",
       "    <tr>\n",
       "      <th>2</th>\n",
       "      <td>Degrees</td>\n",
       "      <td>-0.030753</td>\n",
       "      <td>0.881448</td>\n",
       "    </tr>\n",
       "    <tr>\n",
       "      <th>3</th>\n",
       "      <td>Strength</td>\n",
       "      <td>0.160387</td>\n",
       "      <td>0.433815</td>\n",
       "    </tr>\n",
       "    <tr>\n",
       "      <th>4</th>\n",
       "      <td>Closeness</td>\n",
       "      <td>-0.003959</td>\n",
       "      <td>0.984685</td>\n",
       "    </tr>\n",
       "    <tr>\n",
       "      <th>5</th>\n",
       "      <td>Harmonic</td>\n",
       "      <td>-0.313294</td>\n",
       "      <td>0.119125</td>\n",
       "    </tr>\n",
       "    <tr>\n",
       "      <th>6</th>\n",
       "      <td>Efficiency</td>\n",
       "      <td>-0.019377</td>\n",
       "      <td>0.925146</td>\n",
       "    </tr>\n",
       "    <tr>\n",
       "      <th>7</th>\n",
       "      <td>Transitivity</td>\n",
       "      <td>0.139597</td>\n",
       "      <td>0.496415</td>\n",
       "    </tr>\n",
       "    <tr>\n",
       "      <th>8</th>\n",
       "      <td>Clusters</td>\n",
       "      <td>0.192825</td>\n",
       "      <td>0.345291</td>\n",
       "    </tr>\n",
       "    <tr>\n",
       "      <th>9</th>\n",
       "      <td>Components</td>\n",
       "      <td>0.143215</td>\n",
       "      <td>0.485206</td>\n",
       "    </tr>\n",
       "  </tbody>\n",
       "</table>\n",
       "</div>"
      ],
      "text/plain": [
       "    Network Metrics  Correlation    pValue\n",
       "0  Weighted_Density     0.051398  0.803087\n",
       "1      Active_Nodes    -0.278249  0.168705\n",
       "2           Degrees    -0.030753  0.881448\n",
       "3          Strength     0.160387  0.433815\n",
       "4         Closeness    -0.003959  0.984685\n",
       "5          Harmonic    -0.313294  0.119125\n",
       "6        Efficiency    -0.019377  0.925146\n",
       "7      Transitivity     0.139597  0.496415\n",
       "8          Clusters     0.192825  0.345291\n",
       "9        Components     0.143215  0.485206"
      ]
     },
     "execution_count": 198,
     "metadata": {},
     "output_type": "execute_result"
    }
   ],
   "source": [
    "get_corr(df_bb)"
   ]
  },
  {
   "cell_type": "code",
   "execution_count": 199,
   "metadata": {},
   "outputs": [
    {
     "data": {
      "text/html": [
       "<div>\n",
       "<style scoped>\n",
       "    .dataframe tbody tr th:only-of-type {\n",
       "        vertical-align: middle;\n",
       "    }\n",
       "\n",
       "    .dataframe tbody tr th {\n",
       "        vertical-align: top;\n",
       "    }\n",
       "\n",
       "    .dataframe thead th {\n",
       "        text-align: right;\n",
       "    }\n",
       "</style>\n",
       "<table border=\"1\" class=\"dataframe\">\n",
       "  <thead>\n",
       "    <tr style=\"text-align: right;\">\n",
       "      <th></th>\n",
       "      <th>Network Metrics</th>\n",
       "      <th>Correlation</th>\n",
       "      <th>pValue</th>\n",
       "    </tr>\n",
       "  </thead>\n",
       "  <tbody>\n",
       "    <tr>\n",
       "      <th>0</th>\n",
       "      <td>Weighted_Density</td>\n",
       "      <td>0.297393</td>\n",
       "      <td>0.140090</td>\n",
       "    </tr>\n",
       "    <tr>\n",
       "      <th>1</th>\n",
       "      <td>Active_Nodes</td>\n",
       "      <td>-0.299561</td>\n",
       "      <td>0.137085</td>\n",
       "    </tr>\n",
       "    <tr>\n",
       "      <th>2</th>\n",
       "      <td>Degrees</td>\n",
       "      <td>0.047586</td>\n",
       "      <td>0.817439</td>\n",
       "    </tr>\n",
       "    <tr>\n",
       "      <th>3</th>\n",
       "      <td>Strength</td>\n",
       "      <td>0.273698</td>\n",
       "      <td>0.176070</td>\n",
       "    </tr>\n",
       "    <tr>\n",
       "      <th>4</th>\n",
       "      <td>Closeness</td>\n",
       "      <td>-0.001374</td>\n",
       "      <td>0.994686</td>\n",
       "    </tr>\n",
       "    <tr>\n",
       "      <th>5</th>\n",
       "      <td>Harmonic</td>\n",
       "      <td>-0.269920</td>\n",
       "      <td>0.182352</td>\n",
       "    </tr>\n",
       "    <tr>\n",
       "      <th>6</th>\n",
       "      <td>Efficiency</td>\n",
       "      <td>-0.013050</td>\n",
       "      <td>0.949551</td>\n",
       "    </tr>\n",
       "    <tr>\n",
       "      <th>7</th>\n",
       "      <td>Transitivity</td>\n",
       "      <td>0.209172</td>\n",
       "      <td>0.305118</td>\n",
       "    </tr>\n",
       "    <tr>\n",
       "      <th>8</th>\n",
       "      <td>Clusters</td>\n",
       "      <td>0.233519</td>\n",
       "      <td>0.250920</td>\n",
       "    </tr>\n",
       "    <tr>\n",
       "      <th>9</th>\n",
       "      <td>Components</td>\n",
       "      <td>0.223133</td>\n",
       "      <td>0.273215</td>\n",
       "    </tr>\n",
       "  </tbody>\n",
       "</table>\n",
       "</div>"
      ],
      "text/plain": [
       "    Network Metrics  Correlation    pValue\n",
       "0  Weighted_Density     0.297393  0.140090\n",
       "1      Active_Nodes    -0.299561  0.137085\n",
       "2           Degrees     0.047586  0.817439\n",
       "3          Strength     0.273698  0.176070\n",
       "4         Closeness    -0.001374  0.994686\n",
       "5          Harmonic    -0.269920  0.182352\n",
       "6        Efficiency    -0.013050  0.949551\n",
       "7      Transitivity     0.209172  0.305118\n",
       "8          Clusters     0.233519  0.250920\n",
       "9        Components     0.223133  0.273215"
      ]
     },
     "execution_count": 199,
     "metadata": {},
     "output_type": "execute_result"
    }
   ],
   "source": [
    "get_corr_spearman(df_bb)"
   ]
  },
  {
   "cell_type": "markdown",
   "metadata": {},
   "source": [
    "# GETTING REVIEWS FROM IMDB"
   ]
  },
  {
   "cell_type": "code",
   "execution_count": 347,
   "metadata": {},
   "outputs": [
    {
     "name": "stdout",
     "output_type": "stream",
     "text": [
      "House of Cards\n"
     ]
    },
    {
     "data": {
      "text/html": [
       "<div>\n",
       "<style scoped>\n",
       "    .dataframe tbody tr th:only-of-type {\n",
       "        vertical-align: middle;\n",
       "    }\n",
       "\n",
       "    .dataframe tbody tr th {\n",
       "        vertical-align: top;\n",
       "    }\n",
       "\n",
       "    .dataframe thead th {\n",
       "        text-align: right;\n",
       "    }\n",
       "</style>\n",
       "<table border=\"1\" class=\"dataframe\">\n",
       "  <thead>\n",
       "    <tr style=\"text-align: right;\">\n",
       "      <th></th>\n",
       "      <th>Episode</th>\n",
       "      <th>Review</th>\n",
       "    </tr>\n",
       "  </thead>\n",
       "  <tbody>\n",
       "    <tr>\n",
       "      <th>0</th>\n",
       "      <td>Chapter 1</td>\n",
       "      <td>8.601235</td>\n",
       "    </tr>\n",
       "    <tr>\n",
       "      <th>1</th>\n",
       "      <td>Chapter 2</td>\n",
       "      <td>8.501235</td>\n",
       "    </tr>\n",
       "    <tr>\n",
       "      <th>2</th>\n",
       "      <td>Chapter 3</td>\n",
       "      <td>8.301235</td>\n",
       "    </tr>\n",
       "    <tr>\n",
       "      <th>3</th>\n",
       "      <td>Chapter 4</td>\n",
       "      <td>8.201235</td>\n",
       "    </tr>\n",
       "    <tr>\n",
       "      <th>4</th>\n",
       "      <td>Chapter 5</td>\n",
       "      <td>8.401235</td>\n",
       "    </tr>\n",
       "    <tr>\n",
       "      <th>5</th>\n",
       "      <td>Chapter 6</td>\n",
       "      <td>8.501235</td>\n",
       "    </tr>\n",
       "    <tr>\n",
       "      <th>6</th>\n",
       "      <td>Chapter 7</td>\n",
       "      <td>8.101235</td>\n",
       "    </tr>\n",
       "    <tr>\n",
       "      <th>7</th>\n",
       "      <td>Chapter 8</td>\n",
       "      <td>7.701235</td>\n",
       "    </tr>\n",
       "    <tr>\n",
       "      <th>8</th>\n",
       "      <td>Chapter 9</td>\n",
       "      <td>8.501235</td>\n",
       "    </tr>\n",
       "    <tr>\n",
       "      <th>9</th>\n",
       "      <td>Chapter 10</td>\n",
       "      <td>8.701235</td>\n",
       "    </tr>\n",
       "    <tr>\n",
       "      <th>10</th>\n",
       "      <td>Chapter 11</td>\n",
       "      <td>9.001235</td>\n",
       "    </tr>\n",
       "    <tr>\n",
       "      <th>11</th>\n",
       "      <td>Chapter 12</td>\n",
       "      <td>8.501235</td>\n",
       "    </tr>\n",
       "    <tr>\n",
       "      <th>12</th>\n",
       "      <td>Chapter 13</td>\n",
       "      <td>8.801235</td>\n",
       "    </tr>\n",
       "    <tr>\n",
       "      <th>13</th>\n",
       "      <td>Chapter 14</td>\n",
       "      <td>9.501235</td>\n",
       "    </tr>\n",
       "    <tr>\n",
       "      <th>14</th>\n",
       "      <td>Chapter 15</td>\n",
       "      <td>8.301235</td>\n",
       "    </tr>\n",
       "    <tr>\n",
       "      <th>15</th>\n",
       "      <td>Chapter 16</td>\n",
       "      <td>8.401235</td>\n",
       "    </tr>\n",
       "    <tr>\n",
       "      <th>16</th>\n",
       "      <td>Chapter 17</td>\n",
       "      <td>9.001235</td>\n",
       "    </tr>\n",
       "    <tr>\n",
       "      <th>17</th>\n",
       "      <td>Chapter 18</td>\n",
       "      <td>8.301235</td>\n",
       "    </tr>\n",
       "    <tr>\n",
       "      <th>18</th>\n",
       "      <td>Chapter 19</td>\n",
       "      <td>8.301235</td>\n",
       "    </tr>\n",
       "    <tr>\n",
       "      <th>19</th>\n",
       "      <td>Chapter 20</td>\n",
       "      <td>8.401235</td>\n",
       "    </tr>\n",
       "    <tr>\n",
       "      <th>20</th>\n",
       "      <td>Chapter 21</td>\n",
       "      <td>8.501235</td>\n",
       "    </tr>\n",
       "    <tr>\n",
       "      <th>21</th>\n",
       "      <td>Chapter 22</td>\n",
       "      <td>8.901235</td>\n",
       "    </tr>\n",
       "    <tr>\n",
       "      <th>22</th>\n",
       "      <td>Chapter 23</td>\n",
       "      <td>8.301235</td>\n",
       "    </tr>\n",
       "    <tr>\n",
       "      <th>23</th>\n",
       "      <td>Chapter 24</td>\n",
       "      <td>8.701235</td>\n",
       "    </tr>\n",
       "    <tr>\n",
       "      <th>24</th>\n",
       "      <td>Chapter 25</td>\n",
       "      <td>8.801235</td>\n",
       "    </tr>\n",
       "    <tr>\n",
       "      <th>25</th>\n",
       "      <td>Chapter 26</td>\n",
       "      <td>9.501235</td>\n",
       "    </tr>\n",
       "  </tbody>\n",
       "</table>\n",
       "</div>"
      ],
      "text/plain": [
       "       Episode    Review\n",
       "0    Chapter 1  8.601235\n",
       "1    Chapter 2  8.501235\n",
       "2    Chapter 3  8.301235\n",
       "3    Chapter 4  8.201235\n",
       "4    Chapter 5  8.401235\n",
       "5    Chapter 6  8.501235\n",
       "6    Chapter 7  8.101235\n",
       "7    Chapter 8  7.701235\n",
       "8    Chapter 9  8.501235\n",
       "9   Chapter 10  8.701235\n",
       "10  Chapter 11  9.001235\n",
       "11  Chapter 12  8.501235\n",
       "12  Chapter 13  8.801235\n",
       "13  Chapter 14  9.501235\n",
       "14  Chapter 15  8.301235\n",
       "15  Chapter 16  8.401235\n",
       "16  Chapter 17  9.001235\n",
       "17  Chapter 18  8.301235\n",
       "18  Chapter 19  8.301235\n",
       "19  Chapter 20  8.401235\n",
       "20  Chapter 21  8.501235\n",
       "21  Chapter 22  8.901235\n",
       "22  Chapter 23  8.301235\n",
       "23  Chapter 24  8.701235\n",
       "24  Chapter 25  8.801235\n",
       "25  Chapter 26  9.501235"
      ]
     },
     "execution_count": 347,
     "metadata": {},
     "output_type": "execute_result"
    }
   ],
   "source": []
  },
  {
   "cell_type": "code",
   "execution_count": 348,
   "metadata": {},
   "outputs": [
    {
     "name": "stdout",
     "output_type": "stream",
     "text": [
      "House of Cards\n",
      "Game of Thrones\n",
      "Breaking Bad\n"
     ]
    }
   ],
   "source": [
    "HoC_review = get_review(\"1856010\", 3, 14)\n",
    "HoC_review.to_csv(\"HoC.csv\")\n",
    "GoT_review = get_review(\"0944947\", 4, 11)\n",
    "GoT_review.to_csv(\"GoT.csv\")\n",
    "BB_review = get_review(\"0903747\", 4, 14)\n",
    "BB_review.to_csv(\"BB.csv\")\n"
   ]
  },
  {
   "cell_type": "code",
   "execution_count": 349,
   "metadata": {},
   "outputs": [
    {
     "data": {
      "text/html": [
       "<div>\n",
       "<style scoped>\n",
       "    .dataframe tbody tr th:only-of-type {\n",
       "        vertical-align: middle;\n",
       "    }\n",
       "\n",
       "    .dataframe tbody tr th {\n",
       "        vertical-align: top;\n",
       "    }\n",
       "\n",
       "    .dataframe thead th {\n",
       "        text-align: right;\n",
       "    }\n",
       "</style>\n",
       "<table border=\"1\" class=\"dataframe\">\n",
       "  <thead>\n",
       "    <tr style=\"text-align: right;\">\n",
       "      <th></th>\n",
       "      <th>Episode</th>\n",
       "      <th>Review</th>\n",
       "    </tr>\n",
       "  </thead>\n",
       "  <tbody>\n",
       "    <tr>\n",
       "      <th>0</th>\n",
       "      <td>Pilot</td>\n",
       "      <td>9.001235</td>\n",
       "    </tr>\n",
       "    <tr>\n",
       "      <th>1</th>\n",
       "      <td>Cat's in the Bag...</td>\n",
       "      <td>8.601235</td>\n",
       "    </tr>\n",
       "    <tr>\n",
       "      <th>2</th>\n",
       "      <td>...And the Bag's in the River</td>\n",
       "      <td>8.701235</td>\n",
       "    </tr>\n",
       "    <tr>\n",
       "      <th>3</th>\n",
       "      <td>Cancer Man</td>\n",
       "      <td>8.201235</td>\n",
       "    </tr>\n",
       "    <tr>\n",
       "      <th>4</th>\n",
       "      <td>Gray Matter</td>\n",
       "      <td>8.301235</td>\n",
       "    </tr>\n",
       "    <tr>\n",
       "      <th>5</th>\n",
       "      <td>Crazy Handful of Nothin'</td>\n",
       "      <td>9.301235</td>\n",
       "    </tr>\n",
       "    <tr>\n",
       "      <th>6</th>\n",
       "      <td>A No-Rough-Stuff-Type Deal</td>\n",
       "      <td>8.801235</td>\n",
       "    </tr>\n",
       "    <tr>\n",
       "      <th>7</th>\n",
       "      <td>Seven Thirty-Seven</td>\n",
       "      <td>8.601235</td>\n",
       "    </tr>\n",
       "    <tr>\n",
       "      <th>8</th>\n",
       "      <td>Grilled</td>\n",
       "      <td>9.301235</td>\n",
       "    </tr>\n",
       "    <tr>\n",
       "      <th>9</th>\n",
       "      <td>Bit by a Dead Bee</td>\n",
       "      <td>8.301235</td>\n",
       "    </tr>\n",
       "    <tr>\n",
       "      <th>10</th>\n",
       "      <td>Down</td>\n",
       "      <td>8.201235</td>\n",
       "    </tr>\n",
       "    <tr>\n",
       "      <th>11</th>\n",
       "      <td>Breakage</td>\n",
       "      <td>8.301235</td>\n",
       "    </tr>\n",
       "    <tr>\n",
       "      <th>12</th>\n",
       "      <td>Peekaboo</td>\n",
       "      <td>8.901235</td>\n",
       "    </tr>\n",
       "    <tr>\n",
       "      <th>13</th>\n",
       "      <td>Negro y Azul</td>\n",
       "      <td>8.701235</td>\n",
       "    </tr>\n",
       "    <tr>\n",
       "      <th>14</th>\n",
       "      <td>Better Call Saul</td>\n",
       "      <td>9.201235</td>\n",
       "    </tr>\n",
       "    <tr>\n",
       "      <th>15</th>\n",
       "      <td>4 Days Out</td>\n",
       "      <td>9.101235</td>\n",
       "    </tr>\n",
       "    <tr>\n",
       "      <th>16</th>\n",
       "      <td>Over</td>\n",
       "      <td>8.501235</td>\n",
       "    </tr>\n",
       "    <tr>\n",
       "      <th>17</th>\n",
       "      <td>Mandala</td>\n",
       "      <td>8.901235</td>\n",
       "    </tr>\n",
       "    <tr>\n",
       "      <th>18</th>\n",
       "      <td>Phoenix</td>\n",
       "      <td>9.201235</td>\n",
       "    </tr>\n",
       "    <tr>\n",
       "      <th>19</th>\n",
       "      <td>ABQ</td>\n",
       "      <td>9.201235</td>\n",
       "    </tr>\n",
       "    <tr>\n",
       "      <th>20</th>\n",
       "      <td>No Más</td>\n",
       "      <td>8.501235</td>\n",
       "    </tr>\n",
       "    <tr>\n",
       "      <th>21</th>\n",
       "      <td>Caballo sin Nombre</td>\n",
       "      <td>8.701235</td>\n",
       "    </tr>\n",
       "    <tr>\n",
       "      <th>22</th>\n",
       "      <td>I.F.T.</td>\n",
       "      <td>8.401235</td>\n",
       "    </tr>\n",
       "    <tr>\n",
       "      <th>23</th>\n",
       "      <td>Green Light</td>\n",
       "      <td>8.201235</td>\n",
       "    </tr>\n",
       "    <tr>\n",
       "      <th>24</th>\n",
       "      <td>Más</td>\n",
       "      <td>8.601235</td>\n",
       "    </tr>\n",
       "    <tr>\n",
       "      <th>25</th>\n",
       "      <td>Sunset</td>\n",
       "      <td>9.301235</td>\n",
       "    </tr>\n",
       "    <tr>\n",
       "      <th>26</th>\n",
       "      <td>One Minute</td>\n",
       "      <td>9.601235</td>\n",
       "    </tr>\n",
       "    <tr>\n",
       "      <th>27</th>\n",
       "      <td>I See You</td>\n",
       "      <td>8.801235</td>\n",
       "    </tr>\n",
       "    <tr>\n",
       "      <th>28</th>\n",
       "      <td>Kafkaesque</td>\n",
       "      <td>8.401235</td>\n",
       "    </tr>\n",
       "    <tr>\n",
       "      <th>29</th>\n",
       "      <td>Fly</td>\n",
       "      <td>7.801235</td>\n",
       "    </tr>\n",
       "    <tr>\n",
       "      <th>30</th>\n",
       "      <td>Abiquiu</td>\n",
       "      <td>8.501235</td>\n",
       "    </tr>\n",
       "    <tr>\n",
       "      <th>31</th>\n",
       "      <td>Half Measures</td>\n",
       "      <td>9.501235</td>\n",
       "    </tr>\n",
       "    <tr>\n",
       "      <th>32</th>\n",
       "      <td>Full Measure</td>\n",
       "      <td>9.601235</td>\n",
       "    </tr>\n",
       "  </tbody>\n",
       "</table>\n",
       "</div>"
      ],
      "text/plain": [
       "                          Episode    Review\n",
       "0                           Pilot  9.001235\n",
       "1             Cat's in the Bag...  8.601235\n",
       "2   ...And the Bag's in the River  8.701235\n",
       "3                      Cancer Man  8.201235\n",
       "4                     Gray Matter  8.301235\n",
       "5        Crazy Handful of Nothin'  9.301235\n",
       "6      A No-Rough-Stuff-Type Deal  8.801235\n",
       "7              Seven Thirty-Seven  8.601235\n",
       "8                         Grilled  9.301235\n",
       "9               Bit by a Dead Bee  8.301235\n",
       "10                           Down  8.201235\n",
       "11                       Breakage  8.301235\n",
       "12                       Peekaboo  8.901235\n",
       "13                   Negro y Azul  8.701235\n",
       "14               Better Call Saul  9.201235\n",
       "15                     4 Days Out  9.101235\n",
       "16                           Over  8.501235\n",
       "17                        Mandala  8.901235\n",
       "18                        Phoenix  9.201235\n",
       "19                            ABQ  9.201235\n",
       "20                         No Más  8.501235\n",
       "21             Caballo sin Nombre  8.701235\n",
       "22                         I.F.T.  8.401235\n",
       "23                    Green Light  8.201235\n",
       "24                            Más  8.601235\n",
       "25                         Sunset  9.301235\n",
       "26                     One Minute  9.601235\n",
       "27                      I See You  8.801235\n",
       "28                     Kafkaesque  8.401235\n",
       "29                            Fly  7.801235\n",
       "30                        Abiquiu  8.501235\n",
       "31                  Half Measures  9.501235\n",
       "32                   Full Measure  9.601235"
      ]
     },
     "execution_count": 349,
     "metadata": {},
     "output_type": "execute_result"
    }
   ],
   "source": [
    "HoC_review = pd.read_csv('BB.csv')  \n",
    "HoC_review.drop('Unnamed: 0', 1)"
   ]
  },
  {
   "cell_type": "code",
   "execution_count": 350,
   "metadata": {},
   "outputs": [
    {
     "name": "stdout",
     "output_type": "stream",
     "text": [
      "Breaking Bad\n"
     ]
    },
    {
     "data": {
      "text/html": [
       "<div>\n",
       "<style scoped>\n",
       "    .dataframe tbody tr th:only-of-type {\n",
       "        vertical-align: middle;\n",
       "    }\n",
       "\n",
       "    .dataframe tbody tr th {\n",
       "        vertical-align: top;\n",
       "    }\n",
       "\n",
       "    .dataframe thead th {\n",
       "        text-align: right;\n",
       "    }\n",
       "</style>\n",
       "<table border=\"1\" class=\"dataframe\">\n",
       "  <thead>\n",
       "    <tr style=\"text-align: right;\">\n",
       "      <th></th>\n",
       "      <th>Episode</th>\n",
       "      <th>Review</th>\n",
       "    </tr>\n",
       "  </thead>\n",
       "  <tbody>\n",
       "    <tr>\n",
       "      <th>0</th>\n",
       "      <td>Pilot</td>\n",
       "      <td>9.001235</td>\n",
       "    </tr>\n",
       "    <tr>\n",
       "      <th>1</th>\n",
       "      <td>Cat's in the Bag...</td>\n",
       "      <td>8.601235</td>\n",
       "    </tr>\n",
       "    <tr>\n",
       "      <th>2</th>\n",
       "      <td>...And the Bag's in the River</td>\n",
       "      <td>8.701235</td>\n",
       "    </tr>\n",
       "    <tr>\n",
       "      <th>3</th>\n",
       "      <td>Cancer Man</td>\n",
       "      <td>8.201235</td>\n",
       "    </tr>\n",
       "    <tr>\n",
       "      <th>4</th>\n",
       "      <td>Gray Matter</td>\n",
       "      <td>8.301235</td>\n",
       "    </tr>\n",
       "    <tr>\n",
       "      <th>5</th>\n",
       "      <td>Crazy Handful of Nothin'</td>\n",
       "      <td>9.301235</td>\n",
       "    </tr>\n",
       "    <tr>\n",
       "      <th>6</th>\n",
       "      <td>A No-Rough-Stuff-Type Deal</td>\n",
       "      <td>8.801235</td>\n",
       "    </tr>\n",
       "    <tr>\n",
       "      <th>7</th>\n",
       "      <td>Seven Thirty-Seven</td>\n",
       "      <td>8.601235</td>\n",
       "    </tr>\n",
       "    <tr>\n",
       "      <th>8</th>\n",
       "      <td>Grilled</td>\n",
       "      <td>9.301235</td>\n",
       "    </tr>\n",
       "    <tr>\n",
       "      <th>9</th>\n",
       "      <td>Bit by a Dead Bee</td>\n",
       "      <td>8.301235</td>\n",
       "    </tr>\n",
       "    <tr>\n",
       "      <th>10</th>\n",
       "      <td>Down</td>\n",
       "      <td>8.201235</td>\n",
       "    </tr>\n",
       "    <tr>\n",
       "      <th>11</th>\n",
       "      <td>Breakage</td>\n",
       "      <td>8.301235</td>\n",
       "    </tr>\n",
       "    <tr>\n",
       "      <th>12</th>\n",
       "      <td>Peekaboo</td>\n",
       "      <td>8.901235</td>\n",
       "    </tr>\n",
       "    <tr>\n",
       "      <th>13</th>\n",
       "      <td>Negro y Azul</td>\n",
       "      <td>8.701235</td>\n",
       "    </tr>\n",
       "    <tr>\n",
       "      <th>14</th>\n",
       "      <td>Better Call Saul</td>\n",
       "      <td>9.201235</td>\n",
       "    </tr>\n",
       "    <tr>\n",
       "      <th>15</th>\n",
       "      <td>4 Days Out</td>\n",
       "      <td>9.101235</td>\n",
       "    </tr>\n",
       "    <tr>\n",
       "      <th>16</th>\n",
       "      <td>Over</td>\n",
       "      <td>8.501235</td>\n",
       "    </tr>\n",
       "    <tr>\n",
       "      <th>17</th>\n",
       "      <td>Mandala</td>\n",
       "      <td>8.901235</td>\n",
       "    </tr>\n",
       "    <tr>\n",
       "      <th>18</th>\n",
       "      <td>Phoenix</td>\n",
       "      <td>9.201235</td>\n",
       "    </tr>\n",
       "    <tr>\n",
       "      <th>19</th>\n",
       "      <td>ABQ</td>\n",
       "      <td>9.201235</td>\n",
       "    </tr>\n",
       "    <tr>\n",
       "      <th>20</th>\n",
       "      <td>No Más</td>\n",
       "      <td>8.501235</td>\n",
       "    </tr>\n",
       "    <tr>\n",
       "      <th>21</th>\n",
       "      <td>Caballo sin Nombre</td>\n",
       "      <td>8.701235</td>\n",
       "    </tr>\n",
       "    <tr>\n",
       "      <th>22</th>\n",
       "      <td>I.F.T.</td>\n",
       "      <td>8.401235</td>\n",
       "    </tr>\n",
       "    <tr>\n",
       "      <th>23</th>\n",
       "      <td>Green Light</td>\n",
       "      <td>8.201235</td>\n",
       "    </tr>\n",
       "    <tr>\n",
       "      <th>24</th>\n",
       "      <td>Más</td>\n",
       "      <td>8.601235</td>\n",
       "    </tr>\n",
       "    <tr>\n",
       "      <th>25</th>\n",
       "      <td>Sunset</td>\n",
       "      <td>9.301235</td>\n",
       "    </tr>\n",
       "    <tr>\n",
       "      <th>26</th>\n",
       "      <td>One Minute</td>\n",
       "      <td>9.601235</td>\n",
       "    </tr>\n",
       "    <tr>\n",
       "      <th>27</th>\n",
       "      <td>I See You</td>\n",
       "      <td>8.801235</td>\n",
       "    </tr>\n",
       "    <tr>\n",
       "      <th>28</th>\n",
       "      <td>Kafkaesque</td>\n",
       "      <td>8.401235</td>\n",
       "    </tr>\n",
       "    <tr>\n",
       "      <th>29</th>\n",
       "      <td>Fly</td>\n",
       "      <td>7.801235</td>\n",
       "    </tr>\n",
       "    <tr>\n",
       "      <th>30</th>\n",
       "      <td>Abiquiu</td>\n",
       "      <td>8.501235</td>\n",
       "    </tr>\n",
       "    <tr>\n",
       "      <th>31</th>\n",
       "      <td>Half Measures</td>\n",
       "      <td>9.501235</td>\n",
       "    </tr>\n",
       "    <tr>\n",
       "      <th>32</th>\n",
       "      <td>Full Measure</td>\n",
       "      <td>9.601235</td>\n",
       "    </tr>\n",
       "  </tbody>\n",
       "</table>\n",
       "</div>"
      ],
      "text/plain": [
       "                          Episode    Review\n",
       "0                           Pilot  9.001235\n",
       "1             Cat's in the Bag...  8.601235\n",
       "2   ...And the Bag's in the River  8.701235\n",
       "3                      Cancer Man  8.201235\n",
       "4                     Gray Matter  8.301235\n",
       "5        Crazy Handful of Nothin'  9.301235\n",
       "6      A No-Rough-Stuff-Type Deal  8.801235\n",
       "7              Seven Thirty-Seven  8.601235\n",
       "8                         Grilled  9.301235\n",
       "9               Bit by a Dead Bee  8.301235\n",
       "10                           Down  8.201235\n",
       "11                       Breakage  8.301235\n",
       "12                       Peekaboo  8.901235\n",
       "13                   Negro y Azul  8.701235\n",
       "14               Better Call Saul  9.201235\n",
       "15                     4 Days Out  9.101235\n",
       "16                           Over  8.501235\n",
       "17                        Mandala  8.901235\n",
       "18                        Phoenix  9.201235\n",
       "19                            ABQ  9.201235\n",
       "20                         No Más  8.501235\n",
       "21             Caballo sin Nombre  8.701235\n",
       "22                         I.F.T.  8.401235\n",
       "23                    Green Light  8.201235\n",
       "24                            Más  8.601235\n",
       "25                         Sunset  9.301235\n",
       "26                     One Minute  9.601235\n",
       "27                      I See You  8.801235\n",
       "28                     Kafkaesque  8.401235\n",
       "29                            Fly  7.801235\n",
       "30                        Abiquiu  8.501235\n",
       "31                  Half Measures  9.501235\n",
       "32                   Full Measure  9.601235"
      ]
     },
     "execution_count": 350,
     "metadata": {},
     "output_type": "execute_result"
    }
   ],
   "source": [
    "BB_review = get_review(\"0903747\", 4, 14)\n",
    "BB_review"
   ]
  },
  {
   "cell_type": "code",
   "execution_count": null,
   "metadata": {},
   "outputs": [],
   "source": [
    "import imdb\n",
    "\n",
    "# creating instance of IMDb\n",
    "ia = imdb.IMDb()\n",
    " \n",
    "def get_review(code, num_seasons, num_epsodes):\n",
    "    # id\n",
    "    #code = \"1856010\"\n",
    "\n",
    "    # getting information\n",
    "    series = ia.get_movie(code)\n",
    "\n",
    "    # adding new info set\n",
    "    ia.update(series, 'episodes')\n",
    "\n",
    "    # getting episodes of the series\n",
    "    episodes = series.data['episodes']\n",
    "\n",
    "    # printing the object i.e name\n",
    "    print(series)\n",
    "\n",
    "    dict = {'Episode':[],\n",
    "            'Review':[]\n",
    "           }\n",
    "\n",
    "    # getting season\n",
    "    for s in range(1,num_seasons):\n",
    "        season = episodes[s]\n",
    "\n",
    "        # getting single episode of season\n",
    "        for i in range(1,num_epsodes):\n",
    "            try:\n",
    "                epi = season[i]\n",
    "\n",
    "                # getting id and printing it\n",
    "                #print(epi['title'], epi.data['rating'])\n",
    "                dict['Episode'].append(epi['title'])\n",
    "                dict['Review'].append(epi.data['rating'])\n",
    "            except:\n",
    "                pass\n",
    "\n",
    "    df_review = pd.DataFrame(dict)\n",
    "    return df_review\n",
    "\n",
    "HoC_review = get_review(\"1856010\", 3, 14)\n",
    "HoC_review"
   ]
  },
  {
   "cell_type": "code",
   "execution_count": null,
   "metadata": {},
   "outputs": [],
   "source": []
  }
 ],
 "metadata": {
  "kernelspec": {
   "display_name": "Python 3",
   "language": "python",
   "name": "python3"
  },
  "language_info": {
   "codemirror_mode": {
    "name": "ipython",
    "version": 3
   },
   "file_extension": ".py",
   "mimetype": "text/x-python",
   "name": "python",
   "nbconvert_exporter": "python",
   "pygments_lexer": "ipython3",
   "version": "3.8.5"
  }
 },
 "nbformat": 4,
 "nbformat_minor": 4
}
