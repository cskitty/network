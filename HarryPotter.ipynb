{
 "cells": [
  {
   "cell_type": "code",
   "execution_count": 3,
   "metadata": {},
   "outputs": [],
   "source": [
    "import codecs\n",
    "import os\n",
    "import spacy\n",
    "import json\n",
    "import pandas as pd\n",
    "import numpy as np\n",
    "import networkx as nx\n",
    "import matplotlib.pyplot as plt\n",
    "from pathlib import Path\n",
    "from nltk.tokenize import sent_tokenize\n",
    "from sklearn.feature_extraction.text import CountVectorizer"
   ]
  },
  {
   "cell_type": "code",
   "execution_count": 37,
   "metadata": {},
   "outputs": [],
   "source": [
    "def common_words(path):\n",
    "    with codecs.open(path) as f:\n",
    "        words = f.read()\n",
    "        words = json.loads(words)\n",
    "\n",
    "    return set(words)\n",
    "\n",
    "def read_novel(path):\n",
    "    f =  codecs.open(path, 'r', encoding='utf-8', errors='ignore')  \n",
    "    data = f.read().replace('\\r', ' ').replace('\\n', ' ').replace(\"\\'\", \"'\")\n",
    "    return data\n",
    "\n",
    "def flatten(input_list):\n",
    "    flat_list = []\n",
    "    for i in input_list:\n",
    "        if type(i) == list:\n",
    "            flat_list += flatten(i)\n",
    "        else:\n",
    "            flat_list += [i]\n",
    "\n",
    "    return flat_list\n",
    "\n",
    "\n",
    "def name_entity_recognition(sentence):\n",
    "    doc = nlp(sentence)\n",
    "    # retrieve person and organization's name from the sentence\n",
    "    name_entity = [x for x in doc.ents if x.label_ in ['PERSON', 'ORG']]\n",
    "    # convert all names to lowercase and remove 's in names\n",
    "    name_entity = [str(x).lower().replace(\"'s\",\"\") for x in name_entity]\n",
    "    # split names into single words ('Harry Potter' -> ['Harry', 'Potter'])\n",
    "    #name_entity = [x.split(' ') for x in name_entity]\n",
    "    # flatten the name list\n",
    "    name_entity = flatten(name_entity)\n",
    "    # remove name words that are less than 3 letters to raise recognition accuracy\n",
    "    name_entity = [x for x in name_entity if len(x) >= 3]\n",
    "    # remove name words that are in the set of 4000 common words\n",
    "    name_entity = [x for x in name_entity if x not in words]\n",
    "\n",
    "    return name_entity\n",
    "\n",
    "\n",
    "def iterative_NER(sentence_list, threshold_rate=0.0005):\n",
    "    '''\n",
    "    A function to execute the name entity recognition function iteratively. The purpose of this\n",
    "    function is to recognise all the important names while reducing recognition errors.\n",
    "    :param sentence_list: the list of sentences from the novel\n",
    "    :param threshold_rate: the per sentence frequency threshold, if a word's frequency is lower than this\n",
    "    threshold, it would be removed from the list because there might be recognition errors.\n",
    "    :return: a non-duplicate list of names in the novel.\n",
    "    '''\n",
    "\n",
    "    output = []\n",
    "    for i in sentence_list:\n",
    "        name_list = name_entity_recognition(i)\n",
    "        if name_list != []:\n",
    "            output.append(name_list)\n",
    "    output = flatten(output)\n",
    "    from collections import Counter\n",
    "    output = Counter(output)\n",
    "    output = [x for x in output if output[x] >= threshold_rate * len(sentence_list)]\n",
    "\n",
    "    return output\n",
    "\n",
    "\n",
    "def top_names(name_list, novel, top_num=20):\n",
    "    '''\n",
    "    A function to return the top names in a novel and their frequencies.\n",
    "    :param name_list: the non-duplicate list of names of a novel.\n",
    "    :param novel: the novel text.\n",
    "    :param top_num: the number of names the function finally output.\n",
    "    :return: the list of top names and the list of top names' frequency.\n",
    "    '''\n",
    "\n",
    "    vect = CountVectorizer(vocabulary=name_list, stop_words='english')\n",
    "    name_frequency = vect.fit_transform([novel.lower()])\n",
    "    name_frequency = pd.DataFrame(name_frequency.toarray(), columns=vect.get_feature_names())\n",
    "    name_frequency = name_frequency.T\n",
    "    name_frequency = name_frequency.sort_values(by=0, ascending=False)\n",
    "    name_frequency = name_frequency[0:top_num]\n",
    "    names = list(name_frequency.index)\n",
    "    name_frequency = list(name_frequency[0])\n",
    "\n",
    "    return name_frequency, names\n",
    "\n",
    "\n",
    "nlp = spacy.load('en_core_web_sm')\n",
    "words = common_words('common_words.txt')"
   ]
  },
  {
   "cell_type": "code",
   "execution_count": 49,
   "metadata": {},
   "outputs": [
    {
     "name": "stdout",
     "output_type": "stream",
     "text": [
      "Harry Potter and the Sorcerer's Stone  CHAPTER ONE  THE BOY WHO LIVED  Mr. and Mrs. Dursley, of number four, Privet Drive, were proud to say that they were perfectly normal, thank you very much. They were the last people you'd expect to be involved in anything strange or mysterious, because they just didn't hold with such nonsense.  Mr. Dursley was the director of a firm called Grunnings, which made drills. He was a big, beefy man with hardly any neck, although he did have a very large mustache. Mrs. Dursley was thin and blonde and had nearly twice the usual amount of neck, which came in very useful as she spent so much of her time craning over garden fences, spying on the neighbors. The Dursleys had a small son called Dudley and in their opinion there was no finer boy anywhere.  The Dursleys had everything they wanted, but they also had a secret, and their greatest fear was that somebody would discover it. They didn't think they could bear it if anyone found out about the Potters. Mrs\n"
     ]
    }
   ],
   "source": [
    "novel_folder = Path(os.getcwd()) / 'novels' / 'Harry Potter 1.txt'\n",
    "novel = read_novel(novel_folder)\n",
    "print(novel[:1000])"
   ]
  },
  {
   "cell_type": "code",
   "execution_count": 40,
   "metadata": {},
   "outputs": [
    {
     "name": "stdout",
     "output_type": "stream",
     "text": [
      "['harry potter', 'dursley', 'dursleys', 'dudley', 'potters', 'potter', 'harry', 'albus dumbledore', 'mcgonagall', 'dedalus diggle', 'dumbledore', 'voldemort', 'madam pomfrey', 'professor mcgonagall', 'hagrid', 'uncle vernon', 'vernon', 'figg', 'marge', 'h. potter', 'yeh', 'hogwarts', 'don', 'knuts', 'nah', 'gringotts', 'the leaky cauldron', 'quirrell', 'diagon alley', 'griphook', 'madam malkin', 'quidditch', 'hufflepuff', 'ollivander', 'king cross', 'hedwig', 'fred', 'ron', 'neville', 'percy', 'lee jordan', 'george weasley', 'george', 'charlie', 'chocolate frogs', 'nicolas flamel', 'hermione granger', 'hermione', 'ravenclaw', 'goyle', 'malfoy', 'draco malfoy', 'weasleys', 'gryffindor', 'seamus', 'slytherin', 'weasley', 'nearly headless nick', 'seamus finnigan', 'gryffindors', 'snape', 'filch', 'madam hooch', 'peeves', 'norris', 'sprout', 'flitwick', 'malfoy, crabbe', 'fang', 'slytherins', 'dean', 'longbottom', 'oliver wood', 'bludgers', 'snitch', 'granger', 'fred weasley', 'marcus flint', 'flamel', 'sorcerer', 'fluffy', 'the ministry of magic', 'norbert', 'ronan', 'bane', 'firenze']\n"
     ]
    }
   ],
   "source": [
    "sentence_list = sent_tokenize(novel)\n",
    "preliminary_name_list = iterative_NER(sentence_list)\n",
    "print(preliminary_name_list)"
   ]
  },
  {
   "cell_type": "code",
   "execution_count": 41,
   "metadata": {},
   "outputs": [
    {
     "name": "stdout",
     "output_type": "stream",
     "text": [
      "['harry', 'ron', 'hagrid', 'hermione', 'don', 'snape', 'dumbledore', 'dudley', 'malfoy', 'yeh', 'neville', 'vernon', 'quirrell', 'potter', 'mcgonagall', 'gryffindor', 'hogwarts', 'quidditch', 'dursley', 'filch', 'slytherin', 'dursleys', 'weasley', 'percy', 'voldemort', 'fred', 'peeves', 'george', 'gringotts', 'flamel', 'fluffy', 'norbert', 'granger', 'goyle', 'charlie', 'ronan', 'flitwick', 'seamus', 'firenze', 'fang', 'ollivander', 'snitch', 'hufflepuff', 'sorcerer', 'bane', 'gryffindors', 'slytherins', 'norris', 'bludgers', 'hedwig', 'griphook', 'weasleys', 'dean', 'potters', 'ravenclaw', 'longbottom', 'figg', 'nah', 'knuts', 'marge', 'sprout', 'oliver wood', 'the ministry of magic', 'albus dumbledore', 'madam pomfrey', 'dedalus diggle', 'professor mcgonagall', 'marcus flint', 'fred weasley', 'madam hooch', 'malfoy, crabbe', 'uncle vernon', 'lee jordan', 'h. potter', 'seamus finnigan', 'nearly headless nick', 'the leaky cauldron', 'diagon alley', 'draco malfoy', 'madam malkin', 'hermione granger', 'nicolas flamel', 'chocolate frogs', 'king cross', 'george weasley', 'harry potter']\n"
     ]
    }
   ],
   "source": [
    "name_frequency, name_list = top_names(preliminary_name_list, novel, 100)\n",
    "print(name_list)"
   ]
  },
  {
   "cell_type": "code",
   "execution_count": 38,
   "metadata": {},
   "outputs": [
    {
     "name": "stdout",
     "output_type": "stream",
     "text": [
      "['harry potter', 'lived', 'dursley']\n",
      "[]\n",
      "['dursley', 'grunnings']\n",
      "[]\n",
      "['dursley']\n",
      "['dursleys', 'dudley']\n",
      "['dursleys']\n",
      "['potters']\n",
      "['potter', 'dursley', 'dursley']\n",
      "['dursleys', 'potters']\n",
      "['dursleys', 'potters']\n",
      "['dudley']\n",
      "['dursley']\n",
      "['dursley', 'dursley', 'dudley']\n",
      "[]\n",
      "['dursley', 'dursley', 'dudley', 'dudley']\n",
      "['dursley']\n",
      "[]\n",
      "[]\n",
      "['dursley']\n",
      "[]\n",
      "[]\n",
      "[]\n",
      "['dursley']\n",
      "[]\n",
      "['dursley']\n",
      "[]\n",
      "['dursley']\n",
      "[]\n",
      "[]\n",
      "[]\n",
      "[]\n",
      "['dursley']\n",
      "[]\n",
      "[]\n",
      "[]\n",
      "['dursley']\n",
      "[]\n",
      "['dursley']\n",
      "['dursley', 'grunnings']\n",
      "['dursley']\n",
      "[]\n",
      "[]\n",
      "[]\n",
      "['dursley']\n",
      "[]\n",
      "[]\n",
      "[]\n",
      "['baker']\n",
      "[]\n",
      "[]\n",
      "[]\n",
      "[]\n",
      "['harry', 'dursley']\n",
      "[]\n",
      "[]\n",
      "[]\n",
      "[]\n",
      "[]\n",
      "['harry']\n",
      "['harry']\n",
      "[]\n",
      "[]\n",
      "[]\n",
      "['dursley']\n",
      "[]\n",
      "[]\n",
      "[]\n",
      "['dursley']\n",
      "[]\n",
      "[]\n",
      "[]\n",
      "[]\n",
      "['dursley']\n",
      "['dursley']\n",
      "[]\n",
      "[]\n",
      "[]\n",
      "[]\n",
      "[]\n",
      "[]\n",
      "[]\n",
      "[]\n",
      "['dursley']\n",
      "[]\n",
      "[]\n",
      "[]\n",
      "['dursley']\n",
      "[]\n",
      "[]\n",
      "['dursley']\n",
      "['dudley']\n",
      "['dursley']\n",
      "['dudley']\n",
      "[]\n",
      "[]\n",
      "[]\n",
      "[]\n",
      "['jim mcguffin']\n",
      "['jim']\n"
     ]
    }
   ],
   "source": [
    "for sentence in sentence_list[:100]:\n",
    "    names = name_entity_recognition(sentence)\n",
    "    print(names)"
   ]
  },
  {
   "cell_type": "code",
   "execution_count": 55,
   "metadata": {},
   "outputs": [
    {
     "name": "stdout",
     "output_type": "stream",
     "text": [
      "2022-01-31 11:47:46,162 --------------------------------------------------------------------------------\n",
      "2022-01-31 11:47:46,162 The model key 'ner' now maps to 'https://huggingface.co/flair/ner-english' on the HuggingFace ModelHub\n",
      "2022-01-31 11:47:46,163  - The most current version of the model is automatically downloaded from there.\n",
      "2022-01-31 11:47:46,163  - (you can alternatively manually download the original model at https://nlp.informatik.hu-berlin.de/resources/models/ner/en-ner-conll03-v0.4.pt)\n",
      "2022-01-31 11:47:46,164 --------------------------------------------------------------------------------\n"
     ]
    },
    {
     "name": "stderr",
     "output_type": "stream",
     "text": [
      "[nltk_data] Downloading package stopwords to /Users/Xuan/nltk_data...\n",
      "[nltk_data]   Package stopwords is already up-to-date!\n",
      "[nltk_data] Downloading package punkt to /Users/Xuan/nltk_data...\n",
      "[nltk_data]   Package punkt is already up-to-date!\n"
     ]
    },
    {
     "name": "stdout",
     "output_type": "stream",
     "text": [
      "2022-01-31 11:47:46,503 loading file /Users/Xuan/.flair/models/ner-english/4f4cdab26f24cb98b732b389e6cebc646c36f54cfd6e0b7d3b90b25656e4262f.8baa8ae8795f4df80b28e7f7b61d788ecbb057d1dc85aacb316f1bd02837a4a4\n"
     ]
    }
   ],
   "source": [
    "import nltk\n",
    "from nltk import pos_tag, word_tokenize\n",
    "from nltk.tokenize import sent_tokenize\n",
    "from nltk.corpus import stopwords\n",
    "nltk.download('stopwords')\n",
    "nltk.download('punkt')\n",
    " \n",
    " \n",
    "from tqdm import tqdm\n",
    "import re\n",
    "import string\n",
    "from itertools import combinations\n",
    "from collections import Counter\n",
    " \n",
    " \n",
    "from flair.models import SequenceTagger\n",
    "from flair.data import Sentence\n",
    "\n",
    "# Use flair named entity recognition\n",
    "tagger = SequenceTagger.load('ner')\n",
    " "
   ]
  },
  {
   "cell_type": "code",
   "execution_count": 56,
   "metadata": {},
   "outputs": [],
   "source": [
    "\n",
    "# Get all the names of entities tagged as people\n",
    "x = []\n",
    " \n",
    "for line in tqdm(sentence_list):\n",
    "#for line in sentence_list:\n",
    " sentence = Sentence(line)\n",
    " tagger.predict(sentence)\n",
    " for entity in sentence.to_dict(tag_type='ner')['entities']:\n",
    "   #if entity['type'] == 'PER':\n",
    "    x.append(entity['text'])"
   ]
  },
  {
   "cell_type": "code",
   "execution_count": 57,
   "metadata": {},
   "outputs": [
    {
     "name": "stdout",
     "output_type": "stream",
     "text": [
      "[('Harry', 1286), ('Ron', 426), ('Hagrid', 365), ('Hermione', 253), ('Snape', 169), ('Dumbledore', 145), ('Dudley', 135), ('Neville', 115), ('Malfoy', 114), ('Quirrell', 111), ('Uncle Vernon', 108), ('McGonagall', 95), ('Gryffindor', 76), ('Hogwarts', 67), ('Potter', 59), ('Aunt Petunia', 51), ('Dursleys', 50), ('Dursley', 49), ('Filch', 49), ('Wood', 48), ('Quidditch', 47), ('Slytherin', 43), ('Stone', 43), ('Voldemort', 36), ('Percy', 36), ('Peeves', 32), ('Fred', 29), ('Harry Potter', 28), ('Norbert', 26), ('Gringotts', 25), ('Goyle', 24), ('Weasley', 24), ('George', 21), ('Charlie', 20), ('Crabbe', 20), ('Ronan', 20), ('Quaffle', 19), ('Firenze', 19), ('Muggles', 18), ('Fang', 18), ('Fluffy', 18), ('Muggle', 17), ('Ollivander', 17), ('Hermione Granger', 17), ('Flitwick', 16), ('Bane', 16), ('Great Hall', 15), ('Flamel', 15), ('Privet Drive', 14), ('Hufflepuff', 14), ('Seamus', 14), ('Madam Pomfrey', 13), ('Piers', 13), ('London', 13), ('Nimbus Two Thousand', 13), ('Hedwig', 13), ('Gryffindors', 13), ('Slytherins', 13), ('Bludgers', 13), ('Sorcerers Stone', 12), ('YouKnowWho', 12), ('Yeh', 12), ('Weasleys', 12), ('Nicolas Flamel', 12), ('Madam Hooch', 12), ('Norris', 12), ('Snitch', 12), ('Potters', 11), ('Griphook', 11), ('Scabbers', 11), ('Seeker', 11), ('Leaky Cauldron', 10), ('Ravenclaw', 9), ('Draco Malfoy', 9), ('Dean', 9), ('Potions', 9), ('Bludger', 9), ('Flint', 9), ('Figg', 8), ('Lee Jordan', 8), ('George Weasley', 8), ('Fat Lady', 8), ('Albus Dumbledore', 7), ('Vernon', 7), ('Don', 7), ('Diagon Alley', 7), ('Madam Malkin', 7), ('Longbottom', 7), ('Miss Granger', 7), ('Petunia', 6), ('Lily', 6), ('Halloween', 6), ('Dunno', 6), ('Ministry of Magic', 6), ('Mom', 6), ('Every Flavor Beans', 6), ('Chocolate Frogs', 6), ('High Table', 6), ('Seamus Finnigan', 6), ('Bloody Baron', 6), ('Remembrall', 6), ('Bill', 5), ('Romania', 5), ('Herbology', 5), ('Mirror of Erised', 5), ('Dedalus Diggle', 4), ('Marge', 4), ('Blimey', 4), ('Galleons', 4), ('Kings Cross', 4), ('Ginny', 4), ('Oliver Wood', 4), ('Dyou', 4), ('Fred Weasley', 4), ('Marcus Flint', 4), ('Elixir of Life', 4), ('Severus', 4), ('Mrs Dursley', 3), ('PutOuter', 3), ('Harrys', 3), ('Brazil', 3), ('Smeltings', 3), ('Stonewall High', 3), ('H Potter', 3), ('Dark Side', 3), ('Knuts', 3), ('Nah', 3), ('Daily Prophet', 3), ('Doris Crockford', 3), ('Apothecary', 3), ('Bettie Bott', 3), ('Agrippa', 3), ('Chocolate Frog', 3), ('Trevor', 3), ('Hannah', 3), ('GRYFFINDOR', 3), ('Percy Weasley', 3), ('Baron', 3), ('Binns', 3), ('Defense Against the Dark Arts', 3), ('Malfay', 3), ('Quidditch Through the Ages', 3), ('Parvati Patil', 3), ('Professor Flitwick', 3), ('Beaters', 3), ('Wingardium Leviosa', 3), ('Hufflepuffs', 3), ('Madam Pince', 3), ('Ronald Weasley', 3), ('Sprout', 3), ('Devils Snare', 3), ('Nicolas', 3), ('Grunnings', 2), ('Kent', 2), ('Britain', 2), ('James Potter', 2), ('James', 2), ('Professor McGonagall', 2), ('Snowy', 2), ('Piers Polkiss', 2), ('DURSLEY', 2), ('Rubeus Hagrid', 2), ('Codswallop', 2), ('DUMBLEDORE', 2), ('Dyeh', 2), ('Wizards', 2), ('Underground', 2), ('Eeylops Owl Emporium', 2), ('Brown', 2), ('Hello', 2), ('Hogwarts Express', 2), ('Lee', 2), ('Mars Bars', 2), ('Grindelwald', 2), ('Morgana', 2), ('Sorting Ceremony', 2), ('Friar', 2), ('Fat Friar', 2), ('Susan', 2), ('Terry', 2), ('Ravenclaws', 2), ('Lavender', 2), ('Neville Longbottom', 2), ('Patil', 2), ('Sorting Hat', 2), ('Nearly Headless Nick', 2), ('Nearly Headless', 2), ('Nick', 2), ('Uncle Algie', 2), ('Gran', 2), ('Ickle Firsties', 2), ('History of Magic', 2), ('Gryffindor House', 2), ('Yes', 2), ('One Thousand Magical Herbs', 2), ('Fungi', 2), ('Fitch', 2), ('Dean Thomas', 2), ('West Ham', 2), ('Charlie Weasley', 2), ('Malfoys', 2), ('Mrs', 2), ('Alohomora', 2), ('Nimbus', 2), ('Chasers', 2), ('Keeper', 2), ('Golden Snitch', 2), ('Seekers', 2), ('England', 2), ('Angelina Johnson', 2), ('Johnson', 2), ('Adrian Pucey', 2), ('Angelina', 2), ('Jordan', 2), ('Restricted Section', 2), ('Merry Christmas', 2), ('LegLocker Curse', 2), ('Perenelle', 2), ('Norwegian Ridgeback', 2), ('Mars', 2), ('Hullo', 2), ('Mighta', 2), ('Devil', 2), ('Harvey', 1), ('Harold', 1), ('Shoo', 1), ('Next Door', 1), ('Wont', 1), ('Jim McGuffin', 1), ('Jim', 1), ('Ted', 1), ('Yorkshire', 1), ('Dundee', 1), ('Bonfire Night', 1), ('Owls', 1), ('Howard', 1), ('You KnowWho', 1), ('YouKnow', 1), ('Godric', 1), ('Hollow', 1), ('Albus', 1), ('Harry Potter day', 1), ('Sirius Black', 1), ('Bristol', 1), ('London Underground', 1), ('Sirius', 1), ('Gnight', 1), ('Dudley Dursley', 1), ('Duddy', 1), ('Dudleys', 1), ('Darling', 1), ('Auntie Marge', 1), ('Mommy and Daddy', 1), ('Atta', 1), ('Tibbles', 1), ('Mr Paws', 1), ('Tufty', 1), ('Yvonne', 1), ('Majorca', 1), ('Dinky Duddydums', 1), ('Mummy', 1), ('Boa Constrictor', 1), ('DUDLEY', 1), ('Brazilian', 1), ('Dennis', 1), ('Malcolm', 1), ('Gordon', 1), ('Harry Hunting', 1), ('Stonewall', 1), ('Ickle Dudleykins', 1), ('Make Dudley', 1), ('Isle of Wight', 1), ('H Potter  The Cupboard', 1), ('Privet Drive  Little Whinging   Surrey', 1), ('The Smallest Bedroom', 1), ('Tiptoe Through the Tulips', 1), ('VCR', 1), ('Shakeem', 1), ('Scuse', 1), ('H Potter  Room', 1), ('Railview Hotel  Cokeworth  Harry', 1), ('Daddy', 1), ('Humberto', 1), ('Happy Birthday Harry', 1), ('Keeper of Keys and Grounds', 1), ('Im Keeper of Keys', 1), ('Sony', 1), ('Mimblewimble', 1), ('Vernon Dursley', 1), ('The Floor', 1), ('HutontheRock', 1), ('The Sea', 1), ('ALBUS DUMBLEDORE', 1), ('Order of Merlin', 1), ('First Class', 1), ('Grand Sorc', 1), ('Chf', 1), ('Warlock', 1), ('Supreme Mugwump', 1), ('International Confed', 1), ('Hogwarts School of Witchcraft and Wizardry', 1), ('Minerva McGonagall', 1), ('Gallopin Gorgons', 1), ('Given Harry', 1), ('Hagrid  Hagrid', 1), ('A Muggle', 1), ('Gulpin', 1), ('Reckon Dumbledore', 1), ('McKinnons', 1), ('Bones', 1), ('Prewetts', 1), ('Stop Lily an James Potter', 1), ('Albus Dumbled', 1), ('Shouldnta', 1), ('Goblins', 1), ('Fer Dumbledore', 1), ('Fetchin', 1), ('Flew', 1), ('Cornelius Fudge', 1), ('Crikey', 1), ('Standard Book of Spells', 1), ('Miranda Goshawk  A History of Magic by Bathilda Bagshot  Magical Theory', 1), ('Adalbert Waffling', 1), ('Emetic Switch  One Thousand Magical Herbs', 1), ('Phyllida Spore  Magical Drafts', 1), ('Arsenius Jigger  Fantastic Beasts', 1), ('Where to Find Them by Newt Scamander  The Dark Forces', 1), ('Quentin Trimble', 1), ('Tom', 1), ('Diggle', 1), ('nt I', 1), ('Black Forest', 1), ('Brass', 1), ('Pewter', 1), ('Tawny', 1), ('Screech', 1), ('Moren', 1), ('Knuts to a Sickle', 1), ('Robes', 1), ('All Occasions', 1), ('Do you', 1), ('Flourish', 1), ('Blotts', 1), ('Curses and Countercurses', 1), ('JellyLegs', 1), ('Vindictus Viridian', 1), ('Ollivanders', 1), ('Ollivanders Makers of Fine Wands', 1), ('Rubeus', 1), ('Mr Ollivander', 1), ('Paddington', 1), ('A History of Magic', 1), ('CarA you tell Im George', 1), ('Platform Nine', 1), ('ThreeQuarters', 1), ('Cmere', 1), ('Aaah', 1), ('Ronnie', 1), ('Mother', 1), ('Ronniekins', 1), ('Bye', 1), ('Drooble', 1), ('Pumpkin Pasties', 1), ('Cauldron Cakes', 1), ('Licorice Wands', 1), ('Sickles', 1), ('Ptolemy', 1), ('Famous Witches', 1), ('Hengist', 1), ('Woodcroft', 1), ('Alberic Grunnion', 1), ('Circe', 1), ('Paracelsus', 1), ('Merlin', 1), ('Cliodna', 1), ('Bertie Bott', 1), ('Bleaaargh', 1), ('Ron Weasley', 1), ('The Rise and Fall of the Dark Arts', 1), ('Africa', 1), ('KnowWho', 1), ('Scabbets', 1), ('Cmon', 1), ('Oak', 1), ('A History', 1), ('Set Gryffindors', 1), ('Hufflepuffis', 1), ('For Im a Thinking Cap', 1), ('Abbott', 1), ('RAVENCLAW', 1), ('Brocklehurst', 1), ('Mandy', 1), ('Bulstrode', 1), ('Millicent', 1), ('FinchFletchley', 1), ('Justin', 1), ('Finnigan', 1), ('Granger', 1), ('MacDougal', 1), ('Morag', 1), ('Moon', 1), ('Nott', 1), ('Parkinson', 1), ('Perks', 1), ('SallyAnne', 1), ('Potter Harry', 1), ('Not Slytherin', 1), ('Quirtell', 1), ('Thomas', 1), ('Black', 1), ('Turpin', 1), ('Lisa', 1), ('Zabini', 1), ('Blaise', 1), ('Nicholas de MimsyPorpington', 1), ('Gryffindor Tower', 1), ('Nicholas de Mimsy', 1), ('Nicholas', 1), ('Algie', 1), ('Blackpool', 1), ('Auntie Enid', 1), ('Ahern', 1), ('Hoggy Warty Hogwarts', 1), ('Caput Draconis', 1), ('Peeves the Poltergeist', 1), ('Argus Filch', 1), ('Filchs', 1), ('Professor Sprout', 1), ('Emetic', 1), ('Evil', 1), ('Uric the Oddball', 1), ('African', 1), ('Slytherin House', 1), ('Wish McGonagall', 1), ('Hagrid  Harry', 1), ('Draught of Living Death', 1), ('Doi', 1), ('GRINGOTTS', 1), ('Scowling', 1), ('UPF', 1), ('Pansy Parkinson', 1), ('Parvati', 1), ('HARRY POTTER', 1), ('Miss Patil', 1), ('Flitwicles', 1), ('Cleansweep Seven', 1), ('Heaven', 1), ('Severus Snape', 1), ('Gregory the Smarmy', 1), ('Wizard', 1), ('Mrs Norris', 1), ('Switching Spells', 1), ('Curse of the Bogies', 1), ('Lets go', 1), ('Haaaaaa', 1), ('McGonagall  Harry', 1), ('A Nimbus Two Thousand', 1), ('Comet Two Sixty', 1), ('Charms', 1), ('Wizard Baruffio', 1), ('Winggardium Leviosa', 1), ('Professor Dumbledore', 1), ('Hermlone', 1), ('World Cup', 1), ('Sahara Desert', 1), ('Oliver', 1), ('Slytherin Captain', 1), ('JORDAN', 1), ('Alicia Spinnet', 1), ('Gryffindor Keeper Wood', 1), ('Katie Bell', 1), ('Gryffindor Beater', 1), ('Keeper Bletchley', 1), ('GRYFFINDORS', 1), ('Chaser Pucey', 1), ('Chaser Bell', 1), ('Slytherin Seeker Terence Higgs', 1), ('Higgs', 1), ('Gryffindor Seeker', 1), ('Spinner', 1), ('Spinnet', 1), ('Bell', 1), ('Marcus  Flint', 1), ('Professor Quirrell', 1), ('Greek', 1), ('Aha', 1), ('ERISED  Christmas', 1), ('WEASLEY', 1), ('Notable Magical Names of Our Time', 1), ('Important Modern Magical Discoveries', 1), ('A Study of Recent Developments in Wizardry', 1), ('Dark Magic', 1), ('English', 1), ('Gred and Forge', 1), ('GrowYourOwnWarts', 1), ('The Restricted Section', 1), ('Mirror', 1), ('NICOLAS FLAMEL  Dumbledore', 1), ('Famous Wizard', 1), ('Devon', 1), ('Study of Recent Developments in Wizardry', 1), ('Locomotor Mortis', 1), ('Madam Pomftey', 1), ('NORBERT', 1), ('NORWEGIAN', 1), ('Easter', 1), ('Christmas', 1), ('Dittany', 1), ('Don go shoutin', 1), ('Dragons', 1), ('Dragon Species of Great Britain', 1), ('Ireland', 1), ('From Egg to Inferno', 1), ('A Dragon Keepers Guide', 1), ('Warlocks Convention of 1709', 1), ('Common Welsh Green', 1), ('Hebridean Blacks', 1), ('Norwegian', 1), ('Mommy', 1), ('Dear Ron', 1), ('Ridgeback', 1), ('Love', 1), ('Charlie  They', 1), ('Sorcerers Stones', 1), ('Ron on Astronomy', 1), ('AntiDark Force', 1), ('Jupiter', 1), ('Mr Filch', 1), ('McGonagall Harry', 1), ('Abou', 1), ('Draco', 1), ('Ruddy', 1), ('AAAAAAAAAARGH', 1), ('Centaurs', 1), ('The Sorcerers Stone', 1), ('AntiCheating', 1), ('Werewolf Code of Conduct', 1), ('Elfric the Eager', 1), ('Hogs Head', 1), ('See Professor Dumbledore', 1), ('Sorcerer', 1), ('Oh Professor Flitwick', 1), ('Dont you understand', 1), ('Dark Arts', 1), ('Petrificus Totalus', 1), ('BodyBind', 1), ('Peevsie', 1), ('White', 1), ('Snapes', 1), ('Ropes', 1), ('Lord Voldemort', 1), ('Snare', 1), ('Misters Fred', 1), ('Elixir', 1), ('Vol', 1), ('YouKnow Who', 1), ('VOLDEMORT', 1), ('Have a Chocolate Frog', 1), ('BodyBind Curse', 1), ('Kings Cross Station', 1), ('Ginny Weasley', 1), ('Mrs Weasley', 1)]\n"
     ]
    }
   ],
   "source": [
    "# Remove any punctuation within the names\n",
    "names = []\n",
    "for name in x:\n",
    "  names.append(name.translate(str.maketrans('', '', string.punctuation)))\n",
    "\n",
    "# List characters by the frequency with which they are mentioned\n",
    "result = [item for items, c in Counter(x).most_common() \n",
    "                                      for item in [items] * c] \n",
    "\n",
    "print(Counter(names).most_common())"
   ]
  },
  {
   "cell_type": "code",
   "execution_count": null,
   "metadata": {},
   "outputs": [],
   "source": []
  }
 ],
 "metadata": {
  "kernelspec": {
   "display_name": "Python 3",
   "language": "python",
   "name": "python3"
  },
  "language_info": {
   "codemirror_mode": {
    "name": "ipython",
    "version": 3
   },
   "file_extension": ".py",
   "mimetype": "text/x-python",
   "name": "python",
   "nbconvert_exporter": "python",
   "pygments_lexer": "ipython3",
   "version": "3.8.5"
  }
 },
 "nbformat": 4,
 "nbformat_minor": 4
}
